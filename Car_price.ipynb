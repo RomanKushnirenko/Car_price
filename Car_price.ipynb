{
 "cells": [
  {
   "cell_type": "markdown",
   "metadata": {},
   "source": [
    "# Определение стоимости автомобилей"
   ]
  },
  {
   "cell_type": "markdown",
   "metadata": {},
   "source": [
    "Сервис по продаже автомобилей с пробегом «Не бит, не крашен» разрабатывает приложение для привлечения новых клиентов. В нём можно быстро узнать рыночную стоимость своего автомобиля. "
   ]
  },
  {
   "cell_type": "markdown",
   "metadata": {},
   "source": [
    "<b><u>Цель:</u></b>\n",
    "Построить модель для определения стоимости автомобиля"
   ]
  },
  {
   "cell_type": "markdown",
   "metadata": {},
   "source": [
    "<b><u>Инструкции:</u></b>\n",
    "\n",
    "В вашем распоряжении исторические данные: технические характеристики, комплектации и цены автомобилей.\n",
    "\n",
    "Заказчику важны:\n",
    "\n",
    "- качество предсказания;\n",
    "- скорость предсказания;\n",
    "- время обучения."
   ]
  },
  {
   "cell_type": "markdown",
   "metadata": {},
   "source": [
    "## Подготовка данных"
   ]
  },
  {
   "cell_type": "code",
   "execution_count": 1,
   "metadata": {},
   "outputs": [],
   "source": [
    "# !pip install python-pip -U -q\n",
    "# !pip install numba==0.59.1 -q\n",
    "# !pip install scipy -U -q\n",
    "# !pip install numpy==1.23.1 -q\n",
    "\n",
    "# !pip install matplotlib -U -q\n",
    "# !pip install seaborn -U -q\n",
    "# !pip install phik -U -q\n",
    "# !pip install shap -U -q\n",
    "# !pip install scikit-learn -U -q\n",
    "# !pip install pandas==2.2.2 -q\n",
    "# !pip install jinja2==3.1.2 -q"
   ]
  },
  {
   "cell_type": "code",
   "execution_count": 2,
   "metadata": {},
   "outputs": [],
   "source": [
    "import os\n",
    "import pandas as pd\n",
    "import numpy as np\n",
    "import matplotlib.pyplot as plt\n",
    "import seaborn as sns\n",
    "\n",
    "from sklearn.model_selection import train_test_split, RandomizedSearchCV, GridSearchCV\n",
    "from sklearn.preprocessing import OneHotEncoder, OrdinalEncoder,  StandardScaler, MinMaxScaler\n",
    "from sklearn.pipeline import Pipeline\n",
    "from sklearn.compose import ColumnTransformer\n",
    "from sklearn.impute import SimpleImputer\n",
    "from sklearn.metrics import make_scorer, root_mean_squared_error\n",
    "\n",
    "import lightgbm as lgb\n",
    "from sklearn.tree import DecisionTreeRegressor\n",
    "from sklearn.dummy import DummyRegressor\n",
    "import time\n",
    "\n",
    "RANDOM_STATE = 123"
   ]
  },
  {
   "cell_type": "code",
   "execution_count": 3,
   "metadata": {},
   "outputs": [],
   "source": [
    "project_path_01 = \"C:\\\\Users\\\\kushn\\\\Documents\\\\Python_trainings\\\\Yandex_DS\\\\Gradient_boosting\\\\\"\n",
    "project_path_02 = \"/datasets/\""
   ]
  },
  {
   "cell_type": "code",
   "execution_count": 4,
   "metadata": {},
   "outputs": [],
   "source": [
    "if os.path.exists(project_path_01):\n",
    "    data = pd.read_csv(project_path_01 + 'autos.csv')\n",
    "elif os.path.exists(project_path_02):\n",
    "    data = pd.read_csv(project_path_02 + 'autos.csv')\n",
    "else:\n",
    "    print(\"Smth wrong\")"
   ]
  },
  {
   "cell_type": "code",
   "execution_count": 5,
   "metadata": {},
   "outputs": [],
   "source": [
    "def df_info (df):\n",
    "        print(df.info())\n",
    "        return df.head()"
   ]
  },
  {
   "cell_type": "code",
   "execution_count": 6,
   "metadata": {},
   "outputs": [
    {
     "name": "stdout",
     "output_type": "stream",
     "text": [
      "<class 'pandas.core.frame.DataFrame'>\n",
      "RangeIndex: 354369 entries, 0 to 354368\n",
      "Data columns (total 16 columns):\n",
      " #   Column             Non-Null Count   Dtype \n",
      "---  ------             --------------   ----- \n",
      " 0   DateCrawled        354369 non-null  object\n",
      " 1   Price              354369 non-null  int64 \n",
      " 2   VehicleType        316879 non-null  object\n",
      " 3   RegistrationYear   354369 non-null  int64 \n",
      " 4   Gearbox            334536 non-null  object\n",
      " 5   Power              354369 non-null  int64 \n",
      " 6   Model              334664 non-null  object\n",
      " 7   Kilometer          354369 non-null  int64 \n",
      " 8   RegistrationMonth  354369 non-null  int64 \n",
      " 9   FuelType           321474 non-null  object\n",
      " 10  Brand              354369 non-null  object\n",
      " 11  Repaired           283215 non-null  object\n",
      " 12  DateCreated        354369 non-null  object\n",
      " 13  NumberOfPictures   354369 non-null  int64 \n",
      " 14  PostalCode         354369 non-null  int64 \n",
      " 15  LastSeen           354369 non-null  object\n",
      "dtypes: int64(7), object(9)\n",
      "memory usage: 43.3+ MB\n",
      "None\n"
     ]
    },
    {
     "data": {
      "text/html": [
       "<div>\n",
       "<style scoped>\n",
       "    .dataframe tbody tr th:only-of-type {\n",
       "        vertical-align: middle;\n",
       "    }\n",
       "\n",
       "    .dataframe tbody tr th {\n",
       "        vertical-align: top;\n",
       "    }\n",
       "\n",
       "    .dataframe thead th {\n",
       "        text-align: right;\n",
       "    }\n",
       "</style>\n",
       "<table border=\"1\" class=\"dataframe\">\n",
       "  <thead>\n",
       "    <tr style=\"text-align: right;\">\n",
       "      <th></th>\n",
       "      <th>DateCrawled</th>\n",
       "      <th>Price</th>\n",
       "      <th>VehicleType</th>\n",
       "      <th>RegistrationYear</th>\n",
       "      <th>Gearbox</th>\n",
       "      <th>Power</th>\n",
       "      <th>Model</th>\n",
       "      <th>Kilometer</th>\n",
       "      <th>RegistrationMonth</th>\n",
       "      <th>FuelType</th>\n",
       "      <th>Brand</th>\n",
       "      <th>Repaired</th>\n",
       "      <th>DateCreated</th>\n",
       "      <th>NumberOfPictures</th>\n",
       "      <th>PostalCode</th>\n",
       "      <th>LastSeen</th>\n",
       "    </tr>\n",
       "  </thead>\n",
       "  <tbody>\n",
       "    <tr>\n",
       "      <th>0</th>\n",
       "      <td>2016-03-24 11:52:17</td>\n",
       "      <td>480</td>\n",
       "      <td>NaN</td>\n",
       "      <td>1993</td>\n",
       "      <td>manual</td>\n",
       "      <td>0</td>\n",
       "      <td>golf</td>\n",
       "      <td>150000</td>\n",
       "      <td>0</td>\n",
       "      <td>petrol</td>\n",
       "      <td>volkswagen</td>\n",
       "      <td>NaN</td>\n",
       "      <td>2016-03-24 00:00:00</td>\n",
       "      <td>0</td>\n",
       "      <td>70435</td>\n",
       "      <td>2016-04-07 03:16:57</td>\n",
       "    </tr>\n",
       "    <tr>\n",
       "      <th>1</th>\n",
       "      <td>2016-03-24 10:58:45</td>\n",
       "      <td>18300</td>\n",
       "      <td>coupe</td>\n",
       "      <td>2011</td>\n",
       "      <td>manual</td>\n",
       "      <td>190</td>\n",
       "      <td>NaN</td>\n",
       "      <td>125000</td>\n",
       "      <td>5</td>\n",
       "      <td>gasoline</td>\n",
       "      <td>audi</td>\n",
       "      <td>yes</td>\n",
       "      <td>2016-03-24 00:00:00</td>\n",
       "      <td>0</td>\n",
       "      <td>66954</td>\n",
       "      <td>2016-04-07 01:46:50</td>\n",
       "    </tr>\n",
       "    <tr>\n",
       "      <th>2</th>\n",
       "      <td>2016-03-14 12:52:21</td>\n",
       "      <td>9800</td>\n",
       "      <td>suv</td>\n",
       "      <td>2004</td>\n",
       "      <td>auto</td>\n",
       "      <td>163</td>\n",
       "      <td>grand</td>\n",
       "      <td>125000</td>\n",
       "      <td>8</td>\n",
       "      <td>gasoline</td>\n",
       "      <td>jeep</td>\n",
       "      <td>NaN</td>\n",
       "      <td>2016-03-14 00:00:00</td>\n",
       "      <td>0</td>\n",
       "      <td>90480</td>\n",
       "      <td>2016-04-05 12:47:46</td>\n",
       "    </tr>\n",
       "    <tr>\n",
       "      <th>3</th>\n",
       "      <td>2016-03-17 16:54:04</td>\n",
       "      <td>1500</td>\n",
       "      <td>small</td>\n",
       "      <td>2001</td>\n",
       "      <td>manual</td>\n",
       "      <td>75</td>\n",
       "      <td>golf</td>\n",
       "      <td>150000</td>\n",
       "      <td>6</td>\n",
       "      <td>petrol</td>\n",
       "      <td>volkswagen</td>\n",
       "      <td>no</td>\n",
       "      <td>2016-03-17 00:00:00</td>\n",
       "      <td>0</td>\n",
       "      <td>91074</td>\n",
       "      <td>2016-03-17 17:40:17</td>\n",
       "    </tr>\n",
       "    <tr>\n",
       "      <th>4</th>\n",
       "      <td>2016-03-31 17:25:20</td>\n",
       "      <td>3600</td>\n",
       "      <td>small</td>\n",
       "      <td>2008</td>\n",
       "      <td>manual</td>\n",
       "      <td>69</td>\n",
       "      <td>fabia</td>\n",
       "      <td>90000</td>\n",
       "      <td>7</td>\n",
       "      <td>gasoline</td>\n",
       "      <td>skoda</td>\n",
       "      <td>no</td>\n",
       "      <td>2016-03-31 00:00:00</td>\n",
       "      <td>0</td>\n",
       "      <td>60437</td>\n",
       "      <td>2016-04-06 10:17:21</td>\n",
       "    </tr>\n",
       "  </tbody>\n",
       "</table>\n",
       "</div>"
      ],
      "text/plain": [
       "           DateCrawled  Price VehicleType  RegistrationYear Gearbox  Power  \\\n",
       "0  2016-03-24 11:52:17    480         NaN              1993  manual      0   \n",
       "1  2016-03-24 10:58:45  18300       coupe              2011  manual    190   \n",
       "2  2016-03-14 12:52:21   9800         suv              2004    auto    163   \n",
       "3  2016-03-17 16:54:04   1500       small              2001  manual     75   \n",
       "4  2016-03-31 17:25:20   3600       small              2008  manual     69   \n",
       "\n",
       "   Model  Kilometer  RegistrationMonth  FuelType       Brand Repaired  \\\n",
       "0   golf     150000                  0    petrol  volkswagen      NaN   \n",
       "1    NaN     125000                  5  gasoline        audi      yes   \n",
       "2  grand     125000                  8  gasoline        jeep      NaN   \n",
       "3   golf     150000                  6    petrol  volkswagen       no   \n",
       "4  fabia      90000                  7  gasoline       skoda       no   \n",
       "\n",
       "           DateCreated  NumberOfPictures  PostalCode             LastSeen  \n",
       "0  2016-03-24 00:00:00                 0       70435  2016-04-07 03:16:57  \n",
       "1  2016-03-24 00:00:00                 0       66954  2016-04-07 01:46:50  \n",
       "2  2016-03-14 00:00:00                 0       90480  2016-04-05 12:47:46  \n",
       "3  2016-03-17 00:00:00                 0       91074  2016-03-17 17:40:17  \n",
       "4  2016-03-31 00:00:00                 0       60437  2016-04-06 10:17:21  "
      ]
     },
     "execution_count": 6,
     "metadata": {},
     "output_type": "execute_result"
    }
   ],
   "source": [
    "df_info(data)"
   ]
  },
  {
   "cell_type": "markdown",
   "metadata": {},
   "source": [
    "проверим полные дубли"
   ]
  },
  {
   "cell_type": "code",
   "execution_count": 7,
   "metadata": {},
   "outputs": [
    {
     "data": {
      "text/plain": [
       "(4, (354369, 16))"
      ]
     },
     "execution_count": 7,
     "metadata": {},
     "output_type": "execute_result"
    }
   ],
   "source": [
    "data.duplicated().sum(), data.shape"
   ]
  },
  {
   "cell_type": "markdown",
   "metadata": {},
   "source": [
    "удалим полные дубли"
   ]
  },
  {
   "cell_type": "code",
   "execution_count": 8,
   "metadata": {},
   "outputs": [
    {
     "data": {
      "text/plain": [
       "(354365, 16)"
      ]
     },
     "execution_count": 8,
     "metadata": {},
     "output_type": "execute_result"
    }
   ],
   "source": [
    "data.drop_duplicates(inplace=True)\n",
    "data.shape"
   ]
  },
  {
   "cell_type": "markdown",
   "metadata": {},
   "source": [
    "оценим тип данных и пропуски"
   ]
  },
  {
   "cell_type": "code",
   "execution_count": 9,
   "metadata": {},
   "outputs": [],
   "source": [
    "def output_info(df):\n",
    "    output = []\n",
    "    for col in df.columns:\n",
    "        nul = df[col].isna().sum()\n",
    "        non_nul = len(df) - nul\n",
    "        n_uniq = df[col].nunique()\n",
    "        col_type = str(df[col].dtype)\n",
    "        output.append([col, nul, non_nul, n_uniq, col_type])\n",
    "    output = pd.DataFrame(output)\n",
    "    output.columns = [\n",
    "        'col_names', 'null_values','non-null_values', 'unique_amount', 'dtype']\n",
    "    return output"
   ]
  },
  {
   "cell_type": "code",
   "execution_count": 10,
   "metadata": {},
   "outputs": [
    {
     "data": {
      "text/html": [
       "<div>\n",
       "<style scoped>\n",
       "    .dataframe tbody tr th:only-of-type {\n",
       "        vertical-align: middle;\n",
       "    }\n",
       "\n",
       "    .dataframe tbody tr th {\n",
       "        vertical-align: top;\n",
       "    }\n",
       "\n",
       "    .dataframe thead th {\n",
       "        text-align: right;\n",
       "    }\n",
       "</style>\n",
       "<table border=\"1\" class=\"dataframe\">\n",
       "  <thead>\n",
       "    <tr style=\"text-align: right;\">\n",
       "      <th></th>\n",
       "      <th>col_names</th>\n",
       "      <th>null_values</th>\n",
       "      <th>non-null_values</th>\n",
       "      <th>unique_amount</th>\n",
       "      <th>dtype</th>\n",
       "    </tr>\n",
       "  </thead>\n",
       "  <tbody>\n",
       "    <tr>\n",
       "      <th>0</th>\n",
       "      <td>DateCrawled</td>\n",
       "      <td>0</td>\n",
       "      <td>354365</td>\n",
       "      <td>271174</td>\n",
       "      <td>object</td>\n",
       "    </tr>\n",
       "    <tr>\n",
       "      <th>1</th>\n",
       "      <td>Price</td>\n",
       "      <td>0</td>\n",
       "      <td>354365</td>\n",
       "      <td>3731</td>\n",
       "      <td>int64</td>\n",
       "    </tr>\n",
       "    <tr>\n",
       "      <th>2</th>\n",
       "      <td>VehicleType</td>\n",
       "      <td>37490</td>\n",
       "      <td>316875</td>\n",
       "      <td>8</td>\n",
       "      <td>object</td>\n",
       "    </tr>\n",
       "    <tr>\n",
       "      <th>3</th>\n",
       "      <td>RegistrationYear</td>\n",
       "      <td>0</td>\n",
       "      <td>354365</td>\n",
       "      <td>151</td>\n",
       "      <td>int64</td>\n",
       "    </tr>\n",
       "    <tr>\n",
       "      <th>4</th>\n",
       "      <td>Gearbox</td>\n",
       "      <td>19833</td>\n",
       "      <td>334532</td>\n",
       "      <td>2</td>\n",
       "      <td>object</td>\n",
       "    </tr>\n",
       "    <tr>\n",
       "      <th>5</th>\n",
       "      <td>Power</td>\n",
       "      <td>0</td>\n",
       "      <td>354365</td>\n",
       "      <td>712</td>\n",
       "      <td>int64</td>\n",
       "    </tr>\n",
       "    <tr>\n",
       "      <th>6</th>\n",
       "      <td>Model</td>\n",
       "      <td>19705</td>\n",
       "      <td>334660</td>\n",
       "      <td>250</td>\n",
       "      <td>object</td>\n",
       "    </tr>\n",
       "    <tr>\n",
       "      <th>7</th>\n",
       "      <td>Kilometer</td>\n",
       "      <td>0</td>\n",
       "      <td>354365</td>\n",
       "      <td>13</td>\n",
       "      <td>int64</td>\n",
       "    </tr>\n",
       "    <tr>\n",
       "      <th>8</th>\n",
       "      <td>RegistrationMonth</td>\n",
       "      <td>0</td>\n",
       "      <td>354365</td>\n",
       "      <td>13</td>\n",
       "      <td>int64</td>\n",
       "    </tr>\n",
       "    <tr>\n",
       "      <th>9</th>\n",
       "      <td>FuelType</td>\n",
       "      <td>32895</td>\n",
       "      <td>321470</td>\n",
       "      <td>7</td>\n",
       "      <td>object</td>\n",
       "    </tr>\n",
       "    <tr>\n",
       "      <th>10</th>\n",
       "      <td>Brand</td>\n",
       "      <td>0</td>\n",
       "      <td>354365</td>\n",
       "      <td>40</td>\n",
       "      <td>object</td>\n",
       "    </tr>\n",
       "    <tr>\n",
       "      <th>11</th>\n",
       "      <td>Repaired</td>\n",
       "      <td>71154</td>\n",
       "      <td>283211</td>\n",
       "      <td>2</td>\n",
       "      <td>object</td>\n",
       "    </tr>\n",
       "    <tr>\n",
       "      <th>12</th>\n",
       "      <td>DateCreated</td>\n",
       "      <td>0</td>\n",
       "      <td>354365</td>\n",
       "      <td>109</td>\n",
       "      <td>object</td>\n",
       "    </tr>\n",
       "    <tr>\n",
       "      <th>13</th>\n",
       "      <td>NumberOfPictures</td>\n",
       "      <td>0</td>\n",
       "      <td>354365</td>\n",
       "      <td>1</td>\n",
       "      <td>int64</td>\n",
       "    </tr>\n",
       "    <tr>\n",
       "      <th>14</th>\n",
       "      <td>PostalCode</td>\n",
       "      <td>0</td>\n",
       "      <td>354365</td>\n",
       "      <td>8143</td>\n",
       "      <td>int64</td>\n",
       "    </tr>\n",
       "    <tr>\n",
       "      <th>15</th>\n",
       "      <td>LastSeen</td>\n",
       "      <td>0</td>\n",
       "      <td>354365</td>\n",
       "      <td>179150</td>\n",
       "      <td>object</td>\n",
       "    </tr>\n",
       "  </tbody>\n",
       "</table>\n",
       "</div>"
      ],
      "text/plain": [
       "            col_names  null_values  non-null_values  unique_amount   dtype\n",
       "0         DateCrawled            0           354365         271174  object\n",
       "1               Price            0           354365           3731   int64\n",
       "2         VehicleType        37490           316875              8  object\n",
       "3    RegistrationYear            0           354365            151   int64\n",
       "4             Gearbox        19833           334532              2  object\n",
       "5               Power            0           354365            712   int64\n",
       "6               Model        19705           334660            250  object\n",
       "7           Kilometer            0           354365             13   int64\n",
       "8   RegistrationMonth            0           354365             13   int64\n",
       "9            FuelType        32895           321470              7  object\n",
       "10              Brand            0           354365             40  object\n",
       "11           Repaired        71154           283211              2  object\n",
       "12        DateCreated            0           354365            109  object\n",
       "13   NumberOfPictures            0           354365              1   int64\n",
       "14         PostalCode            0           354365           8143   int64\n",
       "15           LastSeen            0           354365         179150  object"
      ]
     },
     "execution_count": 10,
     "metadata": {},
     "output_type": "execute_result"
    }
   ],
   "source": [
    "output_info(data)"
   ]
  },
  {
   "cell_type": "markdown",
   "metadata": {},
   "source": [
    "Пропуски в категориальных данных \n",
    "- VehicleType\t\n",
    "- Gearbox\n",
    "- Model\n",
    "- FuelType\n",
    "- Repaired\n",
    "\n",
    "Заполним их самым часто встречающимся значением в пайплайне"
   ]
  },
  {
   "cell_type": "markdown",
   "metadata": {},
   "source": [
    "Следующие признаки  удаляем, поскольку являются неинформативными \n",
    "- DateCrawled\t\n",
    "- RegistrationMonth\n",
    "- DateCreated\n",
    "- NumberOfPictures\t\n",
    "- LastSeen\n",
    "- PostalCode"
   ]
  },
  {
   "cell_type": "code",
   "execution_count": 11,
   "metadata": {},
   "outputs": [],
   "source": [
    "data.drop(columns=['NumberOfPictures',\n",
    "                   'DateCrawled',\n",
    "                    'RegistrationMonth',\n",
    "                    'DateCreated',\n",
    "                    'PostalCode',\n",
    "                    'LastSeen'], inplace=True)"
   ]
  },
  {
   "cell_type": "markdown",
   "metadata": {},
   "source": [
    "## EDA"
   ]
  },
  {
   "cell_type": "code",
   "execution_count": 12,
   "metadata": {},
   "outputs": [],
   "source": [
    "def eda_graph (column, bins):\n",
    "    plt.figure(figsize=(15,10))\n",
    "    sns.histplot(x=column, data=data, bins=bins)\n",
    "    plt.title('Гистограмма признака ' + column)\n",
    "    plt.ylabel('Количество значений')\n",
    "    plt.xlabel(column)\n",
    "    plt.show()"
   ]
  },
  {
   "cell_type": "markdown",
   "metadata": {},
   "source": [
    "### Price"
   ]
  },
  {
   "cell_type": "code",
   "execution_count": 13,
   "metadata": {},
   "outputs": [
    {
     "data": {
      "image/png": "[encoded data removed]",
      "text/plain": [
       "<Figure size 1500x1000 with 1 Axes>"
      ]
     },
     "metadata": {},
     "output_type": "display_data"
    }
   ],
   "source": [
    "eda_graph('Price', 100)"
   ]
  },
  {
   "cell_type": "code",
   "execution_count": 14,
   "metadata": {},
   "outputs": [
    {
     "data": {
      "text/plain": [
       "count    354365.000000\n",
       "mean       4416.679830\n",
       "std        4514.176349\n",
       "min           0.000000\n",
       "25%        1050.000000\n",
       "50%        2700.000000\n",
       "75%        6400.000000\n",
       "max       20000.000000\n",
       "Name: Price, dtype: float64"
      ]
     },
     "execution_count": 14,
     "metadata": {},
     "output_type": "execute_result"
    }
   ],
   "source": [
    "data.Price.describe()"
   ]
  },
  {
   "cell_type": "code",
   "execution_count": 15,
   "metadata": {},
   "outputs": [
    {
     "data": {
      "image/png": "[encoded data removed]",
      "text/plain": [
       "<Figure size 640x480 with 1 Axes>"
      ]
     },
     "metadata": {},
     "output_type": "display_data"
    }
   ],
   "source": [
    "data.boxplot(column='Price', return_type='both')\n",
    "plt.ylabel('Цена авто в $')\n",
    "plt.show()"
   ]
  },
  {
   "cell_type": "markdown",
   "metadata": {},
   "source": [
    "Слишком много машин с 0 ценой. Удалим значения меньше 10 долларов."
   ]
  },
  {
   "cell_type": "code",
   "execution_count": 16,
   "metadata": {},
   "outputs": [
    {
     "data": {
      "text/plain": [
       "(83326, (354365, 10))"
      ]
     },
     "execution_count": 16,
     "metadata": {},
     "output_type": "execute_result"
    }
   ],
   "source": [
    "mask = data.loc[(data.loc[:, 'Price'] < 1000)].index\n",
    "\n",
    "len(mask), data.shape"
   ]
  },
  {
   "cell_type": "code",
   "execution_count": 17,
   "metadata": {},
   "outputs": [
    {
     "data": {
      "text/plain": [
       "(271039, 10)"
      ]
     },
     "execution_count": 17,
     "metadata": {},
     "output_type": "execute_result"
    }
   ],
   "source": [
    "data.drop(mask, inplace=True)\n",
    "data.shape"
   ]
  },
  {
   "cell_type": "markdown",
   "metadata": {},
   "source": [
    "### VehicleType"
   ]
  },
  {
   "cell_type": "code",
   "execution_count": 18,
   "metadata": {},
   "outputs": [
    {
     "data": {
      "image/png": "[encoded data removed]",
      "text/plain": [
       "<Figure size 1500x1000 with 1 Axes>"
      ]
     },
     "metadata": {},
     "output_type": "display_data"
    }
   ],
   "source": [
    "eda_graph('VehicleType', 8)"
   ]
  },
  {
   "cell_type": "markdown",
   "metadata": {},
   "source": [
    "### RegistrationYear"
   ]
  },
  {
   "cell_type": "code",
   "execution_count": 19,
   "metadata": {},
   "outputs": [
    {
     "data": {
      "text/plain": [
       "array([1000, 1001, 1039, 1234, 1500, 1600, 1800, 1910, 1923, 1925, 1927,\n",
       "       1928, 1929, 1930, 1931, 1932, 1933, 1934, 1935, 1936, 1937, 1938,\n",
       "       1940, 1941, 1942, 1943, 1944, 1945, 1946, 1947, 1948, 1949, 1950,\n",
       "       1951, 1952, 1953, 1954, 1955, 1956, 1957, 1958, 1959, 1960, 1961,\n",
       "       1962, 1963, 1964, 1965, 1966, 1967, 1968, 1969, 1970, 1971, 1972,\n",
       "       1973, 1974, 1975, 1976, 1977, 1978, 1979, 1980, 1981, 1982, 1983,\n",
       "       1984, 1985, 1986, 1987, 1988, 1989, 1990, 1991, 1992, 1993, 1994,\n",
       "       1995, 1996, 1997, 1998, 1999, 2000, 2001, 2002, 2003, 2004, 2005,\n",
       "       2006, 2007, 2008, 2009, 2010, 2011, 2012, 2013, 2014, 2015, 2016,\n",
       "       2017, 2018, 2019, 2500, 2800, 2900, 3000, 3200, 3700, 4000, 4100,\n",
       "       4500, 5000, 5555, 5911, 6000, 7000, 7100, 7800, 8500, 8888, 9000,\n",
       "       9999], dtype=int64)"
      ]
     },
     "execution_count": 19,
     "metadata": {},
     "output_type": "execute_result"
    }
   ],
   "source": [
    "np.sort(data.RegistrationYear.unique())"
   ]
  },
  {
   "cell_type": "markdown",
   "metadata": {},
   "source": [
    "Удалим года меньше 1910 и больше 2018"
   ]
  },
  {
   "cell_type": "code",
   "execution_count": 20,
   "metadata": {},
   "outputs": [
    {
     "data": {
      "text/plain": [
       "(10643, (271039, 10))"
      ]
     },
     "execution_count": 20,
     "metadata": {},
     "output_type": "execute_result"
    }
   ],
   "source": [
    "mask = data.loc[(data.loc[:, 'RegistrationYear'] < 1910) \\\n",
    "         | (data.loc[:, 'RegistrationYear'] > 2016)].index\n",
    "\n",
    "len(mask), data.shape"
   ]
  },
  {
   "cell_type": "code",
   "execution_count": 21,
   "metadata": {},
   "outputs": [
    {
     "data": {
      "text/plain": [
       "(260396, 10)"
      ]
     },
     "execution_count": 21,
     "metadata": {},
     "output_type": "execute_result"
    }
   ],
   "source": [
    "data.drop(mask, inplace=True)\n",
    "data.shape"
   ]
  },
  {
   "cell_type": "code",
   "execution_count": 22,
   "metadata": {},
   "outputs": [
    {
     "data": {
      "image/png": "[encoded data removed]",
      "text/plain": [
       "<Figure size 1500x1000 with 1 Axes>"
      ]
     },
     "metadata": {},
     "output_type": "display_data"
    }
   ],
   "source": [
    "eda_graph('RegistrationYear', 50)"
   ]
  },
  {
   "cell_type": "markdown",
   "metadata": {},
   "source": [
    "### Gearbox "
   ]
  },
  {
   "cell_type": "code",
   "execution_count": 23,
   "metadata": {},
   "outputs": [
    {
     "data": {
      "image/png": "[encoded data removed]",
      "text/plain": [
       "<Figure size 1500x1000 with 1 Axes>"
      ]
     },
     "metadata": {},
     "output_type": "display_data"
    }
   ],
   "source": [
    "eda_graph('Gearbox',2)"
   ]
  },
  {
   "cell_type": "markdown",
   "metadata": {},
   "source": [
    "### Power"
   ]
  },
  {
   "cell_type": "code",
   "execution_count": 24,
   "metadata": {},
   "outputs": [
    {
     "data": {
      "text/plain": [
       "count    260396.000000\n",
       "mean        122.357164\n",
       "std         189.865425\n",
       "min           0.000000\n",
       "25%          80.000000\n",
       "50%         116.000000\n",
       "75%         150.000000\n",
       "max       20000.000000\n",
       "Name: Power, dtype: float64"
      ]
     },
     "execution_count": 24,
     "metadata": {},
     "output_type": "execute_result"
    }
   ],
   "source": [
    "data.Power.describe()"
   ]
  },
  {
   "cell_type": "markdown",
   "metadata": {},
   "source": [
    "удалим значения с аномальной мощностью равной 0 и более 1000 л.с."
   ]
  },
  {
   "cell_type": "code",
   "execution_count": 25,
   "metadata": {},
   "outputs": [
    {
     "data": {
      "text/plain": [
       "(21149, (260396, 10))"
      ]
     },
     "execution_count": 25,
     "metadata": {},
     "output_type": "execute_result"
    }
   ],
   "source": [
    "mask = data.loc[(data.loc[:, 'Power'] < 50)|(data.loc[:, 'Power'] > 1000)].index\n",
    "\n",
    "len(mask), data.shape"
   ]
  },
  {
   "cell_type": "code",
   "execution_count": 26,
   "metadata": {},
   "outputs": [
    {
     "data": {
      "text/plain": [
       "(239247, 10)"
      ]
     },
     "execution_count": 26,
     "metadata": {},
     "output_type": "execute_result"
    }
   ],
   "source": [
    "data.drop(mask, inplace=True)\n",
    "data.shape"
   ]
  },
  {
   "cell_type": "code",
   "execution_count": 27,
   "metadata": {
    "scrolled": true
   },
   "outputs": [
    {
     "data": {
      "image/png": "[encoded data removed]",
      "text/plain": [
       "<Figure size 1500x1000 with 1 Axes>"
      ]
     },
     "metadata": {},
     "output_type": "display_data"
    }
   ],
   "source": [
    "eda_graph('Power', 100)"
   ]
  },
  {
   "cell_type": "markdown",
   "metadata": {},
   "source": [
    "### Model"
   ]
  },
  {
   "cell_type": "code",
   "execution_count": 28,
   "metadata": {},
   "outputs": [
    {
     "data": {
      "text/plain": [
       "Model\n",
       "golf        19759\n",
       "other       16038\n",
       "3er         15372\n",
       "a4           7808\n",
       "passat       7583\n",
       "polo         6698\n",
       "astra        6674\n",
       "5er          6672\n",
       "c_klasse     6596\n",
       "corsa        5621\n",
       "Name: count, dtype: int64"
      ]
     },
     "execution_count": 28,
     "metadata": {},
     "output_type": "execute_result"
    }
   ],
   "source": [
    "data.Model.value_counts()[:10]"
   ]
  },
  {
   "cell_type": "markdown",
   "metadata": {},
   "source": [
    "### Kilometer"
   ]
  },
  {
   "cell_type": "code",
   "execution_count": 29,
   "metadata": {},
   "outputs": [
    {
     "data": {
      "image/png": "[encoded data removed]",
      "text/plain": [
       "<Figure size 1500x1000 with 1 Axes>"
      ]
     },
     "metadata": {},
     "output_type": "display_data"
    }
   ],
   "source": [
    "eda_graph('Kilometer', 13)"
   ]
  },
  {
   "cell_type": "markdown",
   "metadata": {},
   "source": [
    "### FuelType"
   ]
  },
  {
   "cell_type": "code",
   "execution_count": 30,
   "metadata": {},
   "outputs": [
    {
     "data": {
      "image/png": "[encoded data removed]",
      "text/plain": [
       "<Figure size 1500x1000 with 1 Axes>"
      ]
     },
     "metadata": {},
     "output_type": "display_data"
    }
   ],
   "source": [
    "eda_graph('FuelType',7)"
   ]
  },
  {
   "cell_type": "markdown",
   "metadata": {},
   "source": [
    "### Brand"
   ]
  },
  {
   "cell_type": "code",
   "execution_count": 31,
   "metadata": {},
   "outputs": [
    {
     "data": {
      "text/plain": [
       "Brand\n",
       "volkswagen        21.6%\n",
       "bmw               12.3%\n",
       "mercedes_benz     10.6%\n",
       "audi               9.6%\n",
       "opel               9.3%\n",
       "ford               6.1%\n",
       "renault            3.8%\n",
       "peugeot            3.1%\n",
       "fiat               2.1%\n",
       "skoda              2.0%\n",
       "seat               1.9%\n",
       "toyota             1.6%\n",
       "mazda              1.5%\n",
       "smart              1.4%\n",
       "citroen            1.4%\n",
       "nissan             1.2%\n",
       "mini               1.2%\n",
       "hyundai            1.2%\n",
       "volvo              0.9%\n",
       "honda              0.8%\n",
       "kia                0.8%\n",
       "mitsubishi         0.7%\n",
       "alfa_romeo         0.7%\n",
       "suzuki             0.7%\n",
       "sonstige_autos     0.6%\n",
       "chevrolet          0.6%\n",
       "chrysler           0.4%\n",
       "dacia              0.3%\n",
       "porsche            0.3%\n",
       "jeep               0.2%\n",
       "land_rover         0.2%\n",
       "subaru             0.2%\n",
       "jaguar             0.2%\n",
       "saab               0.2%\n",
       "daihatsu           0.1%\n",
       "lancia             0.1%\n",
       "daewoo             0.1%\n",
       "rover              0.1%\n",
       "lada               0.1%\n",
       "trabant            0.0%\n",
       "Name: proportion, dtype: object"
      ]
     },
     "execution_count": 31,
     "metadata": {},
     "output_type": "execute_result"
    }
   ],
   "source": [
    "data.Brand.value_counts(normalize=True).map(\"{:.1%}\".format)"
   ]
  },
  {
   "cell_type": "markdown",
   "metadata": {},
   "source": [
    "### Repaired"
   ]
  },
  {
   "cell_type": "code",
   "execution_count": 32,
   "metadata": {},
   "outputs": [
    {
     "data": {
      "image/png": "[encoded data removed]",
      "text/plain": [
       "<Figure size 1500x1000 with 1 Axes>"
      ]
     },
     "metadata": {},
     "output_type": "display_data"
    }
   ],
   "source": [
    "eda_graph('Repaired',2)"
   ]
  },
  {
   "cell_type": "markdown",
   "metadata": {},
   "source": [
    "### Выводы исследовательский анализ\n",
    "1. столбец `DateCrawled` \n",
    "    - удаляем как неинформативный\n",
    "    - отмечаем год 2016 как верхнюю границу диапазона\n",
    "2. столбец `Price` \n",
    "    - целевой признак \n",
    "    - среднее значение цены 4416$\n",
    "    - max значение 20000$\n",
    "    - удалили все значение (~12k) цены меньше 10$\n",
    "3. столбец `VehicleType` \n",
    "    - категориальный признак\n",
    "    - 8 классов\n",
    "    - отсутсвующие значения заполним в Пайплайне\n",
    "4. столбец `RegistrationYear`\n",
    "    - ранговый признак\n",
    "    - удалили все значения (8214) менше 1910 и больше 2016 года\n",
    "5. столбец `Gearbox`\n",
    "    - бинарный признак\n",
    "    - отсутсвующие значения заполним в Пайплайне\n",
    "6. столбец `Power`\n",
    "    - ранговый признак\n",
    "    - удалили значения (2342) мощности меньше 50 и больше 1000 л.с.\n",
    "7. столбец `Model`\n",
    "    - категориальный признак \n",
    "    - отсутсвующие значения заполним в Пайплайне\n",
    "8. столбец `Kilometer`\n",
    "    - ранговый признак\n",
    "9. столбец `FuelType`\n",
    "    - категориальный признак \n",
    "    - отсутсвующие значения заполним в Пайплайне\n",
    "10. столбец `Brand`\n",
    "    - категориальный признак \n",
    "    - отсутсвующие значения заполним в Пайплайне\n",
    "11. столбец `Repaired`\n",
    "    - бинарный признак\n",
    "    - отсутсвующие значения заполним в Пайплайне"
   ]
  },
  {
   "cell_type": "markdown",
   "metadata": {},
   "source": [
    "## Обучение моделей"
   ]
  },
  {
   "cell_type": "code",
   "execution_count": 33,
   "metadata": {},
   "outputs": [
    {
     "data": {
      "text/plain": [
       "(31094, (239247, 10))"
      ]
     },
     "execution_count": 33,
     "metadata": {},
     "output_type": "execute_result"
    }
   ],
   "source": [
    "data.duplicated().sum(), data.shape"
   ]
  },
  {
   "cell_type": "code",
   "execution_count": 34,
   "metadata": {},
   "outputs": [
    {
     "data": {
      "text/plain": [
       "(208153, 10)"
      ]
     },
     "execution_count": 34,
     "metadata": {},
     "output_type": "execute_result"
    }
   ],
   "source": [
    "data.drop_duplicates(inplace=True)\n",
    "data.shape"
   ]
  },
  {
   "cell_type": "code",
   "execution_count": 35,
   "metadata": {},
   "outputs": [
    {
     "data": {
      "text/plain": [
       "Index(['Price', 'VehicleType', 'RegistrationYear', 'Gearbox', 'Power', 'Model',\n",
       "       'Kilometer', 'FuelType', 'Brand', 'Repaired'],\n",
       "      dtype='object')"
      ]
     },
     "execution_count": 35,
     "metadata": {},
     "output_type": "execute_result"
    }
   ],
   "source": [
    "data.columns"
   ]
  },
  {
   "cell_type": "code",
   "execution_count": 36,
   "metadata": {},
   "outputs": [],
   "source": [
    "ord_columns = ['Kilometer', 'RegistrationYear', 'Power', 'VehicleType', 'Gearbox', 'Model', 'FuelType', 'Repaired', 'Brand']"
   ]
  },
  {
   "cell_type": "code",
   "execution_count": 37,
   "metadata": {},
   "outputs": [],
   "source": [
    "ohe_pipe = Pipeline(\n",
    "    [\n",
    "        (\n",
    "            'simpleImputer_ohe', \n",
    "            SimpleImputer(missing_values=np.nan, strategy='most_frequent')\n",
    "        ),\n",
    "        (\n",
    "            'ohe', \n",
    "            OneHotEncoder(drop='first', handle_unknown='ignore', sparse_output=False)\n",
    "        )\n",
    "    ]\n",
    ")"
   ]
  },
  {
   "cell_type": "code",
   "execution_count": 38,
   "metadata": {},
   "outputs": [],
   "source": [
    "ord_pipe = Pipeline(\n",
    "    [\n",
    "        (\n",
    "            'simpleImputer_before_ord', \n",
    "            SimpleImputer(missing_values=np.nan, strategy='most_frequent')\n",
    "        ),\n",
    "        (\n",
    "            'ord',  \n",
    "            OrdinalEncoder(\n",
    "                 \n",
    "                handle_unknown='use_encoded_value', unknown_value=np.nan\n",
    "            )\n",
    "        ),\n",
    "        (\n",
    "            'simpleImputer_after_ord', \n",
    "            SimpleImputer(missing_values=np.nan, strategy='most_frequent')\n",
    "        )\n",
    "    ]\n",
    ")"
   ]
  },
  {
   "cell_type": "code",
   "execution_count": 39,
   "metadata": {},
   "outputs": [],
   "source": [
    "data_preprocessor = ColumnTransformer(\n",
    "    [\n",
    "        ('ord', ord_pipe, ord_columns)\n",
    "    ]\n",
    ")"
   ]
  },
  {
   "cell_type": "code",
   "execution_count": 40,
   "metadata": {},
   "outputs": [],
   "source": [
    "pipe_final = Pipeline(\n",
    "    [\n",
    "        ('preprocessor', data_preprocessor),\n",
    "        ('models', DecisionTreeRegressor(random_state=RANDOM_STATE))\n",
    "    ]\n",
    ")"
   ]
  },
  {
   "cell_type": "code",
   "execution_count": 41,
   "metadata": {},
   "outputs": [],
   "source": [
    "param_grid_dt = [\n",
    "    {\n",
    "        'models': [DecisionTreeRegressor(\n",
    "            random_state=RANDOM_STATE)],\n",
    "        'models__max_depth': [2, 5, 10]\n",
    "    }\n",
    "]"
   ]
  },
  {
   "cell_type": "code",
   "execution_count": 42,
   "metadata": {},
   "outputs": [],
   "source": [
    "param_grid_lg = [\n",
    "    {\n",
    "        'models': [lgb.LGBMRegressor(random_state=RANDOM_STATE)],\n",
    "        'models__num_leaves': range(5, 10),\n",
    "        'models__max_depth': range(5, 10)\n",
    "        \n",
    "    }\n",
    "]"
   ]
  },
  {
   "cell_type": "code",
   "execution_count": 43,
   "metadata": {},
   "outputs": [],
   "source": [
    "def root_mean_squared_error(y_true, y_pred):\n",
    "    return np.sqrt(np.mean((y_true - y_pred) ** 2))\n",
    "\n",
    "rmse_scorer = make_scorer(root_mean_squared_error, greater_is_better=False)"
   ]
  },
  {
   "cell_type": "code",
   "execution_count": 44,
   "metadata": {},
   "outputs": [],
   "source": [
    "# randomized_search = RandomizedSearchCV(\n",
    "#     pipe_final, \n",
    "#     param_grid, \n",
    "#     cv=3,\n",
    "#     scoring=rmse_scorer,\n",
    "#     random_state=RANDOM_STATE,\n",
    "#     n_iter = 5,\n",
    "#     n_jobs=-1\n",
    "# )"
   ]
  },
  {
   "cell_type": "code",
   "execution_count": 45,
   "metadata": {},
   "outputs": [],
   "source": [
    "grid_search_dt = GridSearchCV(\n",
    "    pipe_final, \n",
    "    param_grid_dt,\n",
    "    cv=3,\n",
    "    scoring=rmse_scorer,\n",
    ")"
   ]
  },
  {
   "cell_type": "code",
   "execution_count": 46,
   "metadata": {},
   "outputs": [],
   "source": [
    "grid_search_lg = GridSearchCV(\n",
    "    pipe_final, \n",
    "    param_grid_lg,\n",
    "    cv=3,\n",
    "    scoring=rmse_scorer,\n",
    ")"
   ]
  },
  {
   "cell_type": "code",
   "execution_count": 47,
   "metadata": {},
   "outputs": [],
   "source": [
    "X = data.drop('Price', axis=1)  \n",
    "y = data['Price']              \n",
    "\n",
    "X_train, X_test, y_train, y_test = train_test_split(X,\n",
    "                                                    y,\n",
    "                                                    test_size=0.2,\n",
    "                                                    random_state=RANDOM_STATE)"
   ]
  },
  {
   "cell_type": "code",
   "execution_count": 48,
   "metadata": {},
   "outputs": [
    {
     "data": {
      "text/html": [
       "<style>#sk-container-id-1 {\n",
       "  /* Definition of color scheme common for light and dark mode */\n",
       "  --sklearn-color-text: black;\n",
       "  --sklearn-color-line: gray;\n",
       "  /* Definition of color scheme for unfitted estimators */\n",
       "  --sklearn-color-unfitted-level-0: #fff5e6;\n",
       "  --sklearn-color-unfitted-level-1: #f6e4d2;\n",
       "  --sklearn-color-unfitted-level-2: #ffe0b3;\n",
       "  --sklearn-color-unfitted-level-3: chocolate;\n",
       "  /* Definition of color scheme for fitted estimators */\n",
       "  --sklearn-color-fitted-level-0: #f0f8ff;\n",
       "  --sklearn-color-fitted-level-1: #d4ebff;\n",
       "  --sklearn-color-fitted-level-2: #b3dbfd;\n",
       "  --sklearn-color-fitted-level-3: cornflowerblue;\n",
       "\n",
       "  /* Specific color for light theme */\n",
       "  --sklearn-color-text-on-default-background: var(--sg-text-color, var(--theme-code-foreground, var(--jp-content-font-color1, black)));\n",
       "  --sklearn-color-background: var(--sg-background-color, var(--theme-background, var(--jp-layout-color0, white)));\n",
       "  --sklearn-color-border-box: var(--sg-text-color, var(--theme-code-foreground, var(--jp-content-font-color1, black)));\n",
       "  --sklearn-color-icon: #696969;\n",
       "\n",
       "  @media (prefers-color-scheme: dark) {\n",
       "    /* Redefinition of color scheme for dark theme */\n",
       "    --sklearn-color-text-on-default-background: var(--sg-text-color, var(--theme-code-foreground, var(--jp-content-font-color1, white)));\n",
       "    --sklearn-color-background: var(--sg-background-color, var(--theme-background, var(--jp-layout-color0, #111)));\n",
       "    --sklearn-color-border-box: var(--sg-text-color, var(--theme-code-foreground, var(--jp-content-font-color1, white)));\n",
       "    --sklearn-color-icon: #878787;\n",
       "  }\n",
       "}\n",
       "\n",
       "#sk-container-id-1 {\n",
       "  color: var(--sklearn-color-text);\n",
       "}\n",
       "\n",
       "#sk-container-id-1 pre {\n",
       "  padding: 0;\n",
       "}\n",
       "\n",
       "#sk-container-id-1 input.sk-hidden--visually {\n",
       "  border: 0;\n",
       "  clip: rect(1px 1px 1px 1px);\n",
       "  clip: rect(1px, 1px, 1px, 1px);\n",
       "  height: 1px;\n",
       "  margin: -1px;\n",
       "  overflow: hidden;\n",
       "  padding: 0;\n",
       "  position: absolute;\n",
       "  width: 1px;\n",
       "}\n",
       "\n",
       "#sk-container-id-1 div.sk-dashed-wrapped {\n",
       "  border: 1px dashed var(--sklearn-color-line);\n",
       "  margin: 0 0.4em 0.5em 0.4em;\n",
       "  box-sizing: border-box;\n",
       "  padding-bottom: 0.4em;\n",
       "  background-color: var(--sklearn-color-background);\n",
       "}\n",
       "\n",
       "#sk-container-id-1 div.sk-container {\n",
       "  /* jupyter's `normalize.less` sets `[hidden] { display: none; }`\n",
       "     but bootstrap.min.css set `[hidden] { display: none !important; }`\n",
       "     so we also need the `!important` here to be able to override the\n",
       "     default hidden behavior on the sphinx rendered scikit-learn.org.\n",
       "     See: https://github.com/scikit-learn/scikit-learn/issues/21755 */\n",
       "  display: inline-block !important;\n",
       "  position: relative;\n",
       "}\n",
       "\n",
       "#sk-container-id-1 div.sk-text-repr-fallback {\n",
       "  display: none;\n",
       "}\n",
       "\n",
       "div.sk-parallel-item,\n",
       "div.sk-serial,\n",
       "div.sk-item {\n",
       "  /* draw centered vertical line to link estimators */\n",
       "  background-image: linear-gradient(var(--sklearn-color-text-on-default-background), var(--sklearn-color-text-on-default-background));\n",
       "  background-size: 2px 100%;\n",
       "  background-repeat: no-repeat;\n",
       "  background-position: center center;\n",
       "}\n",
       "\n",
       "/* Parallel-specific style estimator block */\n",
       "\n",
       "#sk-container-id-1 div.sk-parallel-item::after {\n",
       "  content: \"\";\n",
       "  width: 100%;\n",
       "  border-bottom: 2px solid var(--sklearn-color-text-on-default-background);\n",
       "  flex-grow: 1;\n",
       "}\n",
       "\n",
       "#sk-container-id-1 div.sk-parallel {\n",
       "  display: flex;\n",
       "  align-items: stretch;\n",
       "  justify-content: center;\n",
       "  background-color: var(--sklearn-color-background);\n",
       "  position: relative;\n",
       "}\n",
       "\n",
       "#sk-container-id-1 div.sk-parallel-item {\n",
       "  display: flex;\n",
       "  flex-direction: column;\n",
       "}\n",
       "\n",
       "#sk-container-id-1 div.sk-parallel-item:first-child::after {\n",
       "  align-self: flex-end;\n",
       "  width: 50%;\n",
       "}\n",
       "\n",
       "#sk-container-id-1 div.sk-parallel-item:last-child::after {\n",
       "  align-self: flex-start;\n",
       "  width: 50%;\n",
       "}\n",
       "\n",
       "#sk-container-id-1 div.sk-parallel-item:only-child::after {\n",
       "  width: 0;\n",
       "}\n",
       "\n",
       "/* Serial-specific style estimator block */\n",
       "\n",
       "#sk-container-id-1 div.sk-serial {\n",
       "  display: flex;\n",
       "  flex-direction: column;\n",
       "  align-items: center;\n",
       "  background-color: var(--sklearn-color-background);\n",
       "  padding-right: 1em;\n",
       "  padding-left: 1em;\n",
       "}\n",
       "\n",
       "\n",
       "/* Toggleable style: style used for estimator/Pipeline/ColumnTransformer box that is\n",
       "clickable and can be expanded/collapsed.\n",
       "- Pipeline and ColumnTransformer use this feature and define the default style\n",
       "- Estimators will overwrite some part of the style using the `sk-estimator` class\n",
       "*/\n",
       "\n",
       "/* Pipeline and ColumnTransformer style (default) */\n",
       "\n",
       "#sk-container-id-1 div.sk-toggleable {\n",
       "  /* Default theme specific background. It is overwritten whether we have a\n",
       "  specific estimator or a Pipeline/ColumnTransformer */\n",
       "  background-color: var(--sklearn-color-background);\n",
       "}\n",
       "\n",
       "/* Toggleable label */\n",
       "#sk-container-id-1 label.sk-toggleable__label {\n",
       "  cursor: pointer;\n",
       "  display: block;\n",
       "  width: 100%;\n",
       "  margin-bottom: 0;\n",
       "  padding: 0.5em;\n",
       "  box-sizing: border-box;\n",
       "  text-align: center;\n",
       "}\n",
       "\n",
       "#sk-container-id-1 label.sk-toggleable__label-arrow:before {\n",
       "  /* Arrow on the left of the label */\n",
       "  content: \"▸\";\n",
       "  float: left;\n",
       "  margin-right: 0.25em;\n",
       "  color: var(--sklearn-color-icon);\n",
       "}\n",
       "\n",
       "#sk-container-id-1 label.sk-toggleable__label-arrow:hover:before {\n",
       "  color: var(--sklearn-color-text);\n",
       "}\n",
       "\n",
       "/* Toggleable content - dropdown */\n",
       "\n",
       "#sk-container-id-1 div.sk-toggleable__content {\n",
       "  max-height: 0;\n",
       "  max-width: 0;\n",
       "  overflow: hidden;\n",
       "  text-align: left;\n",
       "  /* unfitted */\n",
       "  background-color: var(--sklearn-color-unfitted-level-0);\n",
       "}\n",
       "\n",
       "#sk-container-id-1 div.sk-toggleable__content.fitted {\n",
       "  /* fitted */\n",
       "  background-color: var(--sklearn-color-fitted-level-0);\n",
       "}\n",
       "\n",
       "#sk-container-id-1 div.sk-toggleable__content pre {\n",
       "  margin: 0.2em;\n",
       "  border-radius: 0.25em;\n",
       "  color: var(--sklearn-color-text);\n",
       "  /* unfitted */\n",
       "  background-color: var(--sklearn-color-unfitted-level-0);\n",
       "}\n",
       "\n",
       "#sk-container-id-1 div.sk-toggleable__content.fitted pre {\n",
       "  /* unfitted */\n",
       "  background-color: var(--sklearn-color-fitted-level-0);\n",
       "}\n",
       "\n",
       "#sk-container-id-1 input.sk-toggleable__control:checked~div.sk-toggleable__content {\n",
       "  /* Expand drop-down */\n",
       "  max-height: 200px;\n",
       "  max-width: 100%;\n",
       "  overflow: auto;\n",
       "}\n",
       "\n",
       "#sk-container-id-1 input.sk-toggleable__control:checked~label.sk-toggleable__label-arrow:before {\n",
       "  content: \"▾\";\n",
       "}\n",
       "\n",
       "/* Pipeline/ColumnTransformer-specific style */\n",
       "\n",
       "#sk-container-id-1 div.sk-label input.sk-toggleable__control:checked~label.sk-toggleable__label {\n",
       "  color: var(--sklearn-color-text);\n",
       "  background-color: var(--sklearn-color-unfitted-level-2);\n",
       "}\n",
       "\n",
       "#sk-container-id-1 div.sk-label.fitted input.sk-toggleable__control:checked~label.sk-toggleable__label {\n",
       "  background-color: var(--sklearn-color-fitted-level-2);\n",
       "}\n",
       "\n",
       "/* Estimator-specific style */\n",
       "\n",
       "/* Colorize estimator box */\n",
       "#sk-container-id-1 div.sk-estimator input.sk-toggleable__control:checked~label.sk-toggleable__label {\n",
       "  /* unfitted */\n",
       "  background-color: var(--sklearn-color-unfitted-level-2);\n",
       "}\n",
       "\n",
       "#sk-container-id-1 div.sk-estimator.fitted input.sk-toggleable__control:checked~label.sk-toggleable__label {\n",
       "  /* fitted */\n",
       "  background-color: var(--sklearn-color-fitted-level-2);\n",
       "}\n",
       "\n",
       "#sk-container-id-1 div.sk-label label.sk-toggleable__label,\n",
       "#sk-container-id-1 div.sk-label label {\n",
       "  /* The background is the default theme color */\n",
       "  color: var(--sklearn-color-text-on-default-background);\n",
       "}\n",
       "\n",
       "/* On hover, darken the color of the background */\n",
       "#sk-container-id-1 div.sk-label:hover label.sk-toggleable__label {\n",
       "  color: var(--sklearn-color-text);\n",
       "  background-color: var(--sklearn-color-unfitted-level-2);\n",
       "}\n",
       "\n",
       "/* Label box, darken color on hover, fitted */\n",
       "#sk-container-id-1 div.sk-label.fitted:hover label.sk-toggleable__label.fitted {\n",
       "  color: var(--sklearn-color-text);\n",
       "  background-color: var(--sklearn-color-fitted-level-2);\n",
       "}\n",
       "\n",
       "/* Estimator label */\n",
       "\n",
       "#sk-container-id-1 div.sk-label label {\n",
       "  font-family: monospace;\n",
       "  font-weight: bold;\n",
       "  display: inline-block;\n",
       "  line-height: 1.2em;\n",
       "}\n",
       "\n",
       "#sk-container-id-1 div.sk-label-container {\n",
       "  text-align: center;\n",
       "}\n",
       "\n",
       "/* Estimator-specific */\n",
       "#sk-container-id-1 div.sk-estimator {\n",
       "  font-family: monospace;\n",
       "  border: 1px dotted var(--sklearn-color-border-box);\n",
       "  border-radius: 0.25em;\n",
       "  box-sizing: border-box;\n",
       "  margin-bottom: 0.5em;\n",
       "  /* unfitted */\n",
       "  background-color: var(--sklearn-color-unfitted-level-0);\n",
       "}\n",
       "\n",
       "#sk-container-id-1 div.sk-estimator.fitted {\n",
       "  /* fitted */\n",
       "  background-color: var(--sklearn-color-fitted-level-0);\n",
       "}\n",
       "\n",
       "/* on hover */\n",
       "#sk-container-id-1 div.sk-estimator:hover {\n",
       "  /* unfitted */\n",
       "  background-color: var(--sklearn-color-unfitted-level-2);\n",
       "}\n",
       "\n",
       "#sk-container-id-1 div.sk-estimator.fitted:hover {\n",
       "  /* fitted */\n",
       "  background-color: var(--sklearn-color-fitted-level-2);\n",
       "}\n",
       "\n",
       "/* Specification for estimator info (e.g. \"i\" and \"?\") */\n",
       "\n",
       "/* Common style for \"i\" and \"?\" */\n",
       "\n",
       ".sk-estimator-doc-link,\n",
       "a:link.sk-estimator-doc-link,\n",
       "a:visited.sk-estimator-doc-link {\n",
       "  float: right;\n",
       "  font-size: smaller;\n",
       "  line-height: 1em;\n",
       "  font-family: monospace;\n",
       "  background-color: var(--sklearn-color-background);\n",
       "  border-radius: 1em;\n",
       "  height: 1em;\n",
       "  width: 1em;\n",
       "  text-decoration: none !important;\n",
       "  margin-left: 1ex;\n",
       "  /* unfitted */\n",
       "  border: var(--sklearn-color-unfitted-level-1) 1pt solid;\n",
       "  color: var(--sklearn-color-unfitted-level-1);\n",
       "}\n",
       "\n",
       ".sk-estimator-doc-link.fitted,\n",
       "a:link.sk-estimator-doc-link.fitted,\n",
       "a:visited.sk-estimator-doc-link.fitted {\n",
       "  /* fitted */\n",
       "  border: var(--sklearn-color-fitted-level-1) 1pt solid;\n",
       "  color: var(--sklearn-color-fitted-level-1);\n",
       "}\n",
       "\n",
       "/* On hover */\n",
       "div.sk-estimator:hover .sk-estimator-doc-link:hover,\n",
       ".sk-estimator-doc-link:hover,\n",
       "div.sk-label-container:hover .sk-estimator-doc-link:hover,\n",
       ".sk-estimator-doc-link:hover {\n",
       "  /* unfitted */\n",
       "  background-color: var(--sklearn-color-unfitted-level-3);\n",
       "  color: var(--sklearn-color-background);\n",
       "  text-decoration: none;\n",
       "}\n",
       "\n",
       "div.sk-estimator.fitted:hover .sk-estimator-doc-link.fitted:hover,\n",
       ".sk-estimator-doc-link.fitted:hover,\n",
       "div.sk-label-container:hover .sk-estimator-doc-link.fitted:hover,\n",
       ".sk-estimator-doc-link.fitted:hover {\n",
       "  /* fitted */\n",
       "  background-color: var(--sklearn-color-fitted-level-3);\n",
       "  color: var(--sklearn-color-background);\n",
       "  text-decoration: none;\n",
       "}\n",
       "\n",
       "/* Span, style for the box shown on hovering the info icon */\n",
       ".sk-estimator-doc-link span {\n",
       "  display: none;\n",
       "  z-index: 9999;\n",
       "  position: relative;\n",
       "  font-weight: normal;\n",
       "  right: .2ex;\n",
       "  padding: .5ex;\n",
       "  margin: .5ex;\n",
       "  width: min-content;\n",
       "  min-width: 20ex;\n",
       "  max-width: 50ex;\n",
       "  color: var(--sklearn-color-text);\n",
       "  box-shadow: 2pt 2pt 4pt #999;\n",
       "  /* unfitted */\n",
       "  background: var(--sklearn-color-unfitted-level-0);\n",
       "  border: .5pt solid var(--sklearn-color-unfitted-level-3);\n",
       "}\n",
       "\n",
       ".sk-estimator-doc-link.fitted span {\n",
       "  /* fitted */\n",
       "  background: var(--sklearn-color-fitted-level-0);\n",
       "  border: var(--sklearn-color-fitted-level-3);\n",
       "}\n",
       "\n",
       ".sk-estimator-doc-link:hover span {\n",
       "  display: block;\n",
       "}\n",
       "\n",
       "/* \"?\"-specific style due to the `<a>` HTML tag */\n",
       "\n",
       "#sk-container-id-1 a.estimator_doc_link {\n",
       "  float: right;\n",
       "  font-size: 1rem;\n",
       "  line-height: 1em;\n",
       "  font-family: monospace;\n",
       "  background-color: var(--sklearn-color-background);\n",
       "  border-radius: 1rem;\n",
       "  height: 1rem;\n",
       "  width: 1rem;\n",
       "  text-decoration: none;\n",
       "  /* unfitted */\n",
       "  color: var(--sklearn-color-unfitted-level-1);\n",
       "  border: var(--sklearn-color-unfitted-level-1) 1pt solid;\n",
       "}\n",
       "\n",
       "#sk-container-id-1 a.estimator_doc_link.fitted {\n",
       "  /* fitted */\n",
       "  border: var(--sklearn-color-fitted-level-1) 1pt solid;\n",
       "  color: var(--sklearn-color-fitted-level-1);\n",
       "}\n",
       "\n",
       "/* On hover */\n",
       "#sk-container-id-1 a.estimator_doc_link:hover {\n",
       "  /* unfitted */\n",
       "  background-color: var(--sklearn-color-unfitted-level-3);\n",
       "  color: var(--sklearn-color-background);\n",
       "  text-decoration: none;\n",
       "}\n",
       "\n",
       "#sk-container-id-1 a.estimator_doc_link.fitted:hover {\n",
       "  /* fitted */\n",
       "  background-color: var(--sklearn-color-fitted-level-3);\n",
       "}\n",
       "</style><div id=\"sk-container-id-1\" class=\"sk-top-container\"><div class=\"sk-text-repr-fallback\"><pre>GridSearchCV(cv=3,\n",
       "             estimator=Pipeline(steps=[(&#x27;preprocessor&#x27;,\n",
       "                                        ColumnTransformer(transformers=[(&#x27;ord&#x27;,\n",
       "                                                                         Pipeline(steps=[(&#x27;simpleImputer_before_ord&#x27;,\n",
       "                                                                                          SimpleImputer(strategy=&#x27;most_frequent&#x27;)),\n",
       "                                                                                         (&#x27;ord&#x27;,\n",
       "                                                                                          OrdinalEncoder(handle_unknown=&#x27;use_encoded_value&#x27;,\n",
       "                                                                                                         unknown_value=nan)),\n",
       "                                                                                         (&#x27;simpleImputer_after_ord&#x27;,\n",
       "                                                                                          SimpleImputer(strategy=&#x27;most_frequent&#x27;))]),\n",
       "                                                                         [&#x27;Kilometer&#x27;,\n",
       "                                                                          &#x27;RegistrationYear&#x27;,\n",
       "                                                                          &#x27;Power&#x27;,\n",
       "                                                                          &#x27;VehicleType&#x27;,\n",
       "                                                                          &#x27;Gearbox&#x27;,\n",
       "                                                                          &#x27;Model&#x27;,\n",
       "                                                                          &#x27;FuelType&#x27;,\n",
       "                                                                          &#x27;Repaired&#x27;,\n",
       "                                                                          &#x27;Brand&#x27;])])),\n",
       "                                       (&#x27;models&#x27;,\n",
       "                                        DecisionTreeRegressor(random_state=123))]),\n",
       "             param_grid=[{&#x27;models&#x27;: [DecisionTreeRegressor(random_state=123)],\n",
       "                          &#x27;models__max_depth&#x27;: [2, 5, 10]}],\n",
       "             scoring=make_scorer(root_mean_squared_error, greater_is_better=False, response_method=&#x27;predict&#x27;))</pre><b>In a Jupyter environment, please rerun this cell to show the HTML representation or trust the notebook. <br />On GitHub, the HTML representation is unable to render, please try loading this page with nbviewer.org.</b></div><div class=\"sk-container\" hidden><div class=\"sk-item sk-dashed-wrapped\"><div class=\"sk-label-container\"><div class=\"sk-label fitted sk-toggleable\"><input class=\"sk-toggleable__control sk-hidden--visually\" id=\"sk-estimator-id-1\" type=\"checkbox\" ><label for=\"sk-estimator-id-1\" class=\"sk-toggleable__label fitted sk-toggleable__label-arrow fitted\">&nbsp;&nbsp;GridSearchCV<a class=\"sk-estimator-doc-link fitted\" rel=\"noreferrer\" target=\"_blank\" href=\"https://scikit-learn.org/1.5/modules/generated/sklearn.model_selection.GridSearchCV.html\">?<span>Documentation for GridSearchCV</span></a><span class=\"sk-estimator-doc-link fitted\">i<span>Fitted</span></span></label><div class=\"sk-toggleable__content fitted\"><pre>GridSearchCV(cv=3,\n",
       "             estimator=Pipeline(steps=[(&#x27;preprocessor&#x27;,\n",
       "                                        ColumnTransformer(transformers=[(&#x27;ord&#x27;,\n",
       "                                                                         Pipeline(steps=[(&#x27;simpleImputer_before_ord&#x27;,\n",
       "                                                                                          SimpleImputer(strategy=&#x27;most_frequent&#x27;)),\n",
       "                                                                                         (&#x27;ord&#x27;,\n",
       "                                                                                          OrdinalEncoder(handle_unknown=&#x27;use_encoded_value&#x27;,\n",
       "                                                                                                         unknown_value=nan)),\n",
       "                                                                                         (&#x27;simpleImputer_after_ord&#x27;,\n",
       "                                                                                          SimpleImputer(strategy=&#x27;most_frequent&#x27;))]),\n",
       "                                                                         [&#x27;Kilometer&#x27;,\n",
       "                                                                          &#x27;RegistrationYear&#x27;,\n",
       "                                                                          &#x27;Power&#x27;,\n",
       "                                                                          &#x27;VehicleType&#x27;,\n",
       "                                                                          &#x27;Gearbox&#x27;,\n",
       "                                                                          &#x27;Model&#x27;,\n",
       "                                                                          &#x27;FuelType&#x27;,\n",
       "                                                                          &#x27;Repaired&#x27;,\n",
       "                                                                          &#x27;Brand&#x27;])])),\n",
       "                                       (&#x27;models&#x27;,\n",
       "                                        DecisionTreeRegressor(random_state=123))]),\n",
       "             param_grid=[{&#x27;models&#x27;: [DecisionTreeRegressor(random_state=123)],\n",
       "                          &#x27;models__max_depth&#x27;: [2, 5, 10]}],\n",
       "             scoring=make_scorer(root_mean_squared_error, greater_is_better=False, response_method=&#x27;predict&#x27;))</pre></div> </div></div><div class=\"sk-parallel\"><div class=\"sk-parallel-item\"><div class=\"sk-item\"><div class=\"sk-label-container\"><div class=\"sk-label fitted sk-toggleable\"><input class=\"sk-toggleable__control sk-hidden--visually\" id=\"sk-estimator-id-2\" type=\"checkbox\" ><label for=\"sk-estimator-id-2\" class=\"sk-toggleable__label fitted sk-toggleable__label-arrow fitted\">best_estimator_: Pipeline</label><div class=\"sk-toggleable__content fitted\"><pre>Pipeline(steps=[(&#x27;preprocessor&#x27;,\n",
       "                 ColumnTransformer(transformers=[(&#x27;ord&#x27;,\n",
       "                                                  Pipeline(steps=[(&#x27;simpleImputer_before_ord&#x27;,\n",
       "                                                                   SimpleImputer(strategy=&#x27;most_frequent&#x27;)),\n",
       "                                                                  (&#x27;ord&#x27;,\n",
       "                                                                   OrdinalEncoder(handle_unknown=&#x27;use_encoded_value&#x27;,\n",
       "                                                                                  unknown_value=nan)),\n",
       "                                                                  (&#x27;simpleImputer_after_ord&#x27;,\n",
       "                                                                   SimpleImputer(strategy=&#x27;most_frequent&#x27;))]),\n",
       "                                                  [&#x27;Kilometer&#x27;,\n",
       "                                                   &#x27;RegistrationYear&#x27;, &#x27;Power&#x27;,\n",
       "                                                   &#x27;VehicleType&#x27;, &#x27;Gearbox&#x27;,\n",
       "                                                   &#x27;Model&#x27;, &#x27;FuelType&#x27;,\n",
       "                                                   &#x27;Repaired&#x27;, &#x27;Brand&#x27;])])),\n",
       "                (&#x27;models&#x27;,\n",
       "                 DecisionTreeRegressor(max_depth=10, random_state=123))])</pre></div> </div></div><div class=\"sk-serial\"><div class=\"sk-item\"><div class=\"sk-serial\"><div class=\"sk-item sk-dashed-wrapped\"><div class=\"sk-label-container\"><div class=\"sk-label fitted sk-toggleable\"><input class=\"sk-toggleable__control sk-hidden--visually\" id=\"sk-estimator-id-3\" type=\"checkbox\" ><label for=\"sk-estimator-id-3\" class=\"sk-toggleable__label fitted sk-toggleable__label-arrow fitted\">&nbsp;preprocessor: ColumnTransformer<a class=\"sk-estimator-doc-link fitted\" rel=\"noreferrer\" target=\"_blank\" href=\"https://scikit-learn.org/1.5/modules/generated/sklearn.compose.ColumnTransformer.html\">?<span>Documentation for preprocessor: ColumnTransformer</span></a></label><div class=\"sk-toggleable__content fitted\"><pre>ColumnTransformer(transformers=[(&#x27;ord&#x27;,\n",
       "                                 Pipeline(steps=[(&#x27;simpleImputer_before_ord&#x27;,\n",
       "                                                  SimpleImputer(strategy=&#x27;most_frequent&#x27;)),\n",
       "                                                 (&#x27;ord&#x27;,\n",
       "                                                  OrdinalEncoder(handle_unknown=&#x27;use_encoded_value&#x27;,\n",
       "                                                                 unknown_value=nan)),\n",
       "                                                 (&#x27;simpleImputer_after_ord&#x27;,\n",
       "                                                  SimpleImputer(strategy=&#x27;most_frequent&#x27;))]),\n",
       "                                 [&#x27;Kilometer&#x27;, &#x27;RegistrationYear&#x27;, &#x27;Power&#x27;,\n",
       "                                  &#x27;VehicleType&#x27;, &#x27;Gearbox&#x27;, &#x27;Model&#x27;, &#x27;FuelType&#x27;,\n",
       "                                  &#x27;Repaired&#x27;, &#x27;Brand&#x27;])])</pre></div> </div></div><div class=\"sk-parallel\"><div class=\"sk-parallel-item\"><div class=\"sk-item\"><div class=\"sk-label-container\"><div class=\"sk-label fitted sk-toggleable\"><input class=\"sk-toggleable__control sk-hidden--visually\" id=\"sk-estimator-id-4\" type=\"checkbox\" ><label for=\"sk-estimator-id-4\" class=\"sk-toggleable__label fitted sk-toggleable__label-arrow fitted\">ord</label><div class=\"sk-toggleable__content fitted\"><pre>[&#x27;Kilometer&#x27;, &#x27;RegistrationYear&#x27;, &#x27;Power&#x27;, &#x27;VehicleType&#x27;, &#x27;Gearbox&#x27;, &#x27;Model&#x27;, &#x27;FuelType&#x27;, &#x27;Repaired&#x27;, &#x27;Brand&#x27;]</pre></div> </div></div><div class=\"sk-serial\"><div class=\"sk-item\"><div class=\"sk-serial\"><div class=\"sk-item\"><div class=\"sk-estimator fitted sk-toggleable\"><input class=\"sk-toggleable__control sk-hidden--visually\" id=\"sk-estimator-id-5\" type=\"checkbox\" ><label for=\"sk-estimator-id-5\" class=\"sk-toggleable__label fitted sk-toggleable__label-arrow fitted\">&nbsp;SimpleImputer<a class=\"sk-estimator-doc-link fitted\" rel=\"noreferrer\" target=\"_blank\" href=\"https://scikit-learn.org/1.5/modules/generated/sklearn.impute.SimpleImputer.html\">?<span>Documentation for SimpleImputer</span></a></label><div class=\"sk-toggleable__content fitted\"><pre>SimpleImputer(strategy=&#x27;most_frequent&#x27;)</pre></div> </div></div><div class=\"sk-item\"><div class=\"sk-estimator fitted sk-toggleable\"><input class=\"sk-toggleable__control sk-hidden--visually\" id=\"sk-estimator-id-6\" type=\"checkbox\" ><label for=\"sk-estimator-id-6\" class=\"sk-toggleable__label fitted sk-toggleable__label-arrow fitted\">&nbsp;OrdinalEncoder<a class=\"sk-estimator-doc-link fitted\" rel=\"noreferrer\" target=\"_blank\" href=\"https://scikit-learn.org/1.5/modules/generated/sklearn.preprocessing.OrdinalEncoder.html\">?<span>Documentation for OrdinalEncoder</span></a></label><div class=\"sk-toggleable__content fitted\"><pre>OrdinalEncoder(handle_unknown=&#x27;use_encoded_value&#x27;, unknown_value=nan)</pre></div> </div></div><div class=\"sk-item\"><div class=\"sk-estimator fitted sk-toggleable\"><input class=\"sk-toggleable__control sk-hidden--visually\" id=\"sk-estimator-id-7\" type=\"checkbox\" ><label for=\"sk-estimator-id-7\" class=\"sk-toggleable__label fitted sk-toggleable__label-arrow fitted\">&nbsp;SimpleImputer<a class=\"sk-estimator-doc-link fitted\" rel=\"noreferrer\" target=\"_blank\" href=\"https://scikit-learn.org/1.5/modules/generated/sklearn.impute.SimpleImputer.html\">?<span>Documentation for SimpleImputer</span></a></label><div class=\"sk-toggleable__content fitted\"><pre>SimpleImputer(strategy=&#x27;most_frequent&#x27;)</pre></div> </div></div></div></div></div></div></div></div></div><div class=\"sk-item\"><div class=\"sk-estimator fitted sk-toggleable\"><input class=\"sk-toggleable__control sk-hidden--visually\" id=\"sk-estimator-id-8\" type=\"checkbox\" ><label for=\"sk-estimator-id-8\" class=\"sk-toggleable__label fitted sk-toggleable__label-arrow fitted\">&nbsp;DecisionTreeRegressor<a class=\"sk-estimator-doc-link fitted\" rel=\"noreferrer\" target=\"_blank\" href=\"https://scikit-learn.org/1.5/modules/generated/sklearn.tree.DecisionTreeRegressor.html\">?<span>Documentation for DecisionTreeRegressor</span></a></label><div class=\"sk-toggleable__content fitted\"><pre>DecisionTreeRegressor(max_depth=10, random_state=123)</pre></div> </div></div></div></div></div></div></div></div></div></div></div>"
      ],
      "text/plain": [
       "GridSearchCV(cv=3,\n",
       "             estimator=Pipeline(steps=[('preprocessor',\n",
       "                                        ColumnTransformer(transformers=[('ord',\n",
       "                                                                         Pipeline(steps=[('simpleImputer_before_ord',\n",
       "                                                                                          SimpleImputer(strategy='most_frequent')),\n",
       "                                                                                         ('ord',\n",
       "                                                                                          OrdinalEncoder(handle_unknown='use_encoded_value',\n",
       "                                                                                                         unknown_value=nan)),\n",
       "                                                                                         ('simpleImputer_after_ord',\n",
       "                                                                                          SimpleImputer(strategy='most_frequent'))]),\n",
       "                                                                         ['Kilometer',\n",
       "                                                                          'RegistrationYear',\n",
       "                                                                          'Power',\n",
       "                                                                          'VehicleType',\n",
       "                                                                          'Gearbox',\n",
       "                                                                          'Model',\n",
       "                                                                          'FuelType',\n",
       "                                                                          'Repaired',\n",
       "                                                                          'Brand'])])),\n",
       "                                       ('models',\n",
       "                                        DecisionTreeRegressor(random_state=123))]),\n",
       "             param_grid=[{'models': [DecisionTreeRegressor(random_state=123)],\n",
       "                          'models__max_depth': [2, 5, 10]}],\n",
       "             scoring=make_scorer(root_mean_squared_error, greater_is_better=False, response_method='predict'))"
      ]
     },
     "execution_count": 48,
     "metadata": {},
     "output_type": "execute_result"
    }
   ],
   "source": [
    "grid_search_dt.fit(X_train, y_train)"
   ]
  },
  {
   "cell_type": "code",
   "execution_count": 49,
   "metadata": {},
   "outputs": [
    {
     "name": "stdout",
     "output_type": "stream",
     "text": [
      "[LightGBM] [Info] Auto-choosing row-wise multi-threading, the overhead of testing was 0.005081 seconds.\n",
      "You can set `force_row_wise=true` to remove the overhead.\n",
      "And if memory is not enough, you can set `force_col_wise=true`.\n",
      "[LightGBM] [Info] Total Bins 621\n",
      "[LightGBM] [Info] Number of data points in the train set: 111014, number of used features: 9\n",
      "[LightGBM] [Info] Start training from score 5943.604608\n",
      "[LightGBM] [Info] Auto-choosing row-wise multi-threading, the overhead of testing was 0.003655 seconds.\n",
      "You can set `force_row_wise=true` to remove the overhead.\n",
      "And if memory is not enough, you can set `force_col_wise=true`.\n",
      "[LightGBM] [Info] Total Bins 612\n",
      "[LightGBM] [Info] Number of data points in the train set: 111015, number of used features: 9\n",
      "[LightGBM] [Info] Start training from score 5967.699239\n",
      "[LightGBM] [Info] Auto-choosing row-wise multi-threading, the overhead of testing was 0.008422 seconds.\n",
      "You can set `force_row_wise=true` to remove the overhead.\n",
      "And if memory is not enough, you can set `force_col_wise=true`.\n",
      "[LightGBM] [Info] Total Bins 609\n",
      "[LightGBM] [Info] Number of data points in the train set: 111015, number of used features: 9\n",
      "[LightGBM] [Info] Start training from score 5945.899032\n",
      "[LightGBM] [Info] Auto-choosing row-wise multi-threading, the overhead of testing was 0.003449 seconds.\n",
      "You can set `force_row_wise=true` to remove the overhead.\n",
      "And if memory is not enough, you can set `force_col_wise=true`.\n",
      "[LightGBM] [Info] Total Bins 621\n",
      "[LightGBM] [Info] Number of data points in the train set: 111014, number of used features: 9\n",
      "[LightGBM] [Info] Start training from score 5943.604608\n",
      "[LightGBM] [Info] Auto-choosing col-wise multi-threading, the overhead of testing was 0.045074 seconds.\n",
      "You can set `force_col_wise=true` to remove the overhead.\n",
      "[LightGBM] [Info] Total Bins 612\n",
      "[LightGBM] [Info] Number of data points in the train set: 111015, number of used features: 9\n",
      "[LightGBM] [Info] Start training from score 5967.699239\n",
      "[LightGBM] [Info] Auto-choosing col-wise multi-threading, the overhead of testing was 0.006774 seconds.\n",
      "You can set `force_col_wise=true` to remove the overhead.\n",
      "[LightGBM] [Info] Total Bins 609\n",
      "[LightGBM] [Info] Number of data points in the train set: 111015, number of used features: 9\n",
      "[LightGBM] [Info] Start training from score 5945.899032\n",
      "[LightGBM] [Info] Auto-choosing col-wise multi-threading, the overhead of testing was 0.009035 seconds.\n",
      "You can set `force_col_wise=true` to remove the overhead.\n",
      "[LightGBM] [Info] Total Bins 621\n",
      "[LightGBM] [Info] Number of data points in the train set: 111014, number of used features: 9\n",
      "[LightGBM] [Info] Start training from score 5943.604608\n",
      "[LightGBM] [Info] Auto-choosing col-wise multi-threading, the overhead of testing was 0.017550 seconds.\n",
      "You can set `force_col_wise=true` to remove the overhead.\n",
      "[LightGBM] [Info] Total Bins 612\n",
      "[LightGBM] [Info] Number of data points in the train set: 111015, number of used features: 9\n",
      "[LightGBM] [Info] Start training from score 5967.699239\n",
      "[LightGBM] [Info] Auto-choosing col-wise multi-threading, the overhead of testing was 0.012795 seconds.\n",
      "You can set `force_col_wise=true` to remove the overhead.\n",
      "[LightGBM] [Info] Total Bins 609\n",
      "[LightGBM] [Info] Number of data points in the train set: 111015, number of used features: 9\n",
      "[LightGBM] [Info] Start training from score 5945.899032\n",
      "[LightGBM] [Info] Auto-choosing col-wise multi-threading, the overhead of testing was 0.021365 seconds.\n",
      "You can set `force_col_wise=true` to remove the overhead.\n",
      "[LightGBM] [Info] Total Bins 621\n",
      "[LightGBM] [Info] Number of data points in the train set: 111014, number of used features: 9\n",
      "[LightGBM] [Info] Start training from score 5943.604608\n",
      "[LightGBM] [Info] Auto-choosing row-wise multi-threading, the overhead of testing was 0.004176 seconds.\n",
      "You can set `force_row_wise=true` to remove the overhead.\n",
      "And if memory is not enough, you can set `force_col_wise=true`.\n",
      "[LightGBM] [Info] Total Bins 612\n",
      "[LightGBM] [Info] Number of data points in the train set: 111015, number of used features: 9\n",
      "[LightGBM] [Info] Start training from score 5967.699239\n",
      "[LightGBM] [Info] Auto-choosing col-wise multi-threading, the overhead of testing was 0.010171 seconds.\n",
      "You can set `force_col_wise=true` to remove the overhead.\n",
      "[LightGBM] [Info] Total Bins 609\n",
      "[LightGBM] [Info] Number of data points in the train set: 111015, number of used features: 9\n",
      "[LightGBM] [Info] Start training from score 5945.899032\n",
      "[LightGBM] [Info] Auto-choosing row-wise multi-threading, the overhead of testing was 0.003395 seconds.\n",
      "You can set `force_row_wise=true` to remove the overhead.\n",
      "And if memory is not enough, you can set `force_col_wise=true`.\n",
      "[LightGBM] [Info] Total Bins 621\n",
      "[LightGBM] [Info] Number of data points in the train set: 111014, number of used features: 9\n",
      "[LightGBM] [Info] Start training from score 5943.604608\n",
      "[LightGBM] [Info] Auto-choosing row-wise multi-threading, the overhead of testing was 0.003741 seconds.\n",
      "You can set `force_row_wise=true` to remove the overhead.\n",
      "And if memory is not enough, you can set `force_col_wise=true`.\n",
      "[LightGBM] [Info] Total Bins 612\n",
      "[LightGBM] [Info] Number of data points in the train set: 111015, number of used features: 9\n",
      "[LightGBM] [Info] Start training from score 5967.699239\n",
      "[LightGBM] [Info] Auto-choosing row-wise multi-threading, the overhead of testing was 0.003950 seconds.\n",
      "You can set `force_row_wise=true` to remove the overhead.\n",
      "And if memory is not enough, you can set `force_col_wise=true`.\n",
      "[LightGBM] [Info] Total Bins 609\n",
      "[LightGBM] [Info] Number of data points in the train set: 111015, number of used features: 9\n",
      "[LightGBM] [Info] Start training from score 5945.899032\n",
      "[LightGBM] [Info] Auto-choosing col-wise multi-threading, the overhead of testing was 0.023160 seconds.\n",
      "You can set `force_col_wise=true` to remove the overhead.\n",
      "[LightGBM] [Info] Total Bins 621\n",
      "[LightGBM] [Info] Number of data points in the train set: 111014, number of used features: 9\n",
      "[LightGBM] [Info] Start training from score 5943.604608\n",
      "[LightGBM] [Info] Auto-choosing col-wise multi-threading, the overhead of testing was 0.015023 seconds.\n",
      "You can set `force_col_wise=true` to remove the overhead.\n",
      "[LightGBM] [Info] Total Bins 612\n",
      "[LightGBM] [Info] Number of data points in the train set: 111015, number of used features: 9\n",
      "[LightGBM] [Info] Start training from score 5967.699239\n",
      "[LightGBM] [Info] Auto-choosing row-wise multi-threading, the overhead of testing was 0.004318 seconds.\n",
      "You can set `force_row_wise=true` to remove the overhead.\n",
      "And if memory is not enough, you can set `force_col_wise=true`.\n",
      "[LightGBM] [Info] Total Bins 609\n",
      "[LightGBM] [Info] Number of data points in the train set: 111015, number of used features: 9\n",
      "[LightGBM] [Info] Start training from score 5945.899032\n",
      "[LightGBM] [Info] Auto-choosing row-wise multi-threading, the overhead of testing was 0.003408 seconds.\n",
      "You can set `force_row_wise=true` to remove the overhead.\n",
      "And if memory is not enough, you can set `force_col_wise=true`.\n",
      "[LightGBM] [Info] Total Bins 621\n",
      "[LightGBM] [Info] Number of data points in the train set: 111014, number of used features: 9\n",
      "[LightGBM] [Info] Start training from score 5943.604608\n",
      "[LightGBM] [Info] Auto-choosing row-wise multi-threading, the overhead of testing was 0.004350 seconds.\n",
      "You can set `force_row_wise=true` to remove the overhead.\n",
      "And if memory is not enough, you can set `force_col_wise=true`.\n",
      "[LightGBM] [Info] Total Bins 612\n",
      "[LightGBM] [Info] Number of data points in the train set: 111015, number of used features: 9\n",
      "[LightGBM] [Info] Start training from score 5967.699239\n",
      "[LightGBM] [Info] Auto-choosing row-wise multi-threading, the overhead of testing was 0.003660 seconds.\n",
      "You can set `force_row_wise=true` to remove the overhead.\n",
      "And if memory is not enough, you can set `force_col_wise=true`.\n",
      "[LightGBM] [Info] Total Bins 609\n",
      "[LightGBM] [Info] Number of data points in the train set: 111015, number of used features: 9\n",
      "[LightGBM] [Info] Start training from score 5945.899032\n",
      "[LightGBM] [Info] Auto-choosing col-wise multi-threading, the overhead of testing was 0.011651 seconds.\n",
      "You can set `force_col_wise=true` to remove the overhead.\n",
      "[LightGBM] [Info] Total Bins 621\n",
      "[LightGBM] [Info] Number of data points in the train set: 111014, number of used features: 9\n",
      "[LightGBM] [Info] Start training from score 5943.604608\n",
      "[LightGBM] [Info] Auto-choosing row-wise multi-threading, the overhead of testing was 0.003530 seconds.\n",
      "You can set `force_row_wise=true` to remove the overhead.\n",
      "And if memory is not enough, you can set `force_col_wise=true`.\n",
      "[LightGBM] [Info] Total Bins 612\n",
      "[LightGBM] [Info] Number of data points in the train set: 111015, number of used features: 9\n",
      "[LightGBM] [Info] Start training from score 5967.699239\n",
      "[LightGBM] [Info] Auto-choosing row-wise multi-threading, the overhead of testing was 0.004296 seconds.\n",
      "You can set `force_row_wise=true` to remove the overhead.\n",
      "And if memory is not enough, you can set `force_col_wise=true`.\n",
      "[LightGBM] [Info] Total Bins 609\n",
      "[LightGBM] [Info] Number of data points in the train set: 111015, number of used features: 9\n",
      "[LightGBM] [Info] Start training from score 5945.899032\n",
      "[LightGBM] [Info] Auto-choosing col-wise multi-threading, the overhead of testing was 0.009729 seconds.\n",
      "You can set `force_col_wise=true` to remove the overhead.\n",
      "[LightGBM] [Info] Total Bins 621\n",
      "[LightGBM] [Info] Number of data points in the train set: 111014, number of used features: 9\n",
      "[LightGBM] [Info] Start training from score 5943.604608\n",
      "[LightGBM] [Info] Auto-choosing col-wise multi-threading, the overhead of testing was 0.006675 seconds.\n",
      "You can set `force_col_wise=true` to remove the overhead.\n",
      "[LightGBM] [Info] Total Bins 612\n",
      "[LightGBM] [Info] Number of data points in the train set: 111015, number of used features: 9\n",
      "[LightGBM] [Info] Start training from score 5967.699239\n",
      "[LightGBM] [Info] Auto-choosing row-wise multi-threading, the overhead of testing was 0.004191 seconds.\n",
      "You can set `force_row_wise=true` to remove the overhead.\n",
      "And if memory is not enough, you can set `force_col_wise=true`.\n",
      "[LightGBM] [Info] Total Bins 609\n",
      "[LightGBM] [Info] Number of data points in the train set: 111015, number of used features: 9\n",
      "[LightGBM] [Info] Start training from score 5945.899032\n",
      "[LightGBM] [Info] Auto-choosing row-wise multi-threading, the overhead of testing was 0.004073 seconds.\n",
      "You can set `force_row_wise=true` to remove the overhead.\n",
      "And if memory is not enough, you can set `force_col_wise=true`.\n",
      "[LightGBM] [Info] Total Bins 621\n",
      "[LightGBM] [Info] Number of data points in the train set: 111014, number of used features: 9\n",
      "[LightGBM] [Info] Start training from score 5943.604608\n",
      "[LightGBM] [Info] Auto-choosing col-wise multi-threading, the overhead of testing was 0.009309 seconds.\n",
      "You can set `force_col_wise=true` to remove the overhead.\n",
      "[LightGBM] [Info] Total Bins 612\n",
      "[LightGBM] [Info] Number of data points in the train set: 111015, number of used features: 9\n",
      "[LightGBM] [Info] Start training from score 5967.699239\n",
      "[LightGBM] [Info] Auto-choosing col-wise multi-threading, the overhead of testing was 0.005761 seconds.\n",
      "You can set `force_col_wise=true` to remove the overhead.\n",
      "[LightGBM] [Info] Total Bins 609\n",
      "[LightGBM] [Info] Number of data points in the train set: 111015, number of used features: 9\n",
      "[LightGBM] [Info] Start training from score 5945.899032\n",
      "[LightGBM] [Info] Auto-choosing row-wise multi-threading, the overhead of testing was 0.003884 seconds.\n",
      "You can set `force_row_wise=true` to remove the overhead.\n",
      "And if memory is not enough, you can set `force_col_wise=true`.\n",
      "[LightGBM] [Info] Total Bins 621\n",
      "[LightGBM] [Info] Number of data points in the train set: 111014, number of used features: 9\n",
      "[LightGBM] [Info] Start training from score 5943.604608\n",
      "[LightGBM] [Info] Auto-choosing row-wise multi-threading, the overhead of testing was 0.004756 seconds.\n",
      "You can set `force_row_wise=true` to remove the overhead.\n",
      "And if memory is not enough, you can set `force_col_wise=true`.\n",
      "[LightGBM] [Info] Total Bins 612\n",
      "[LightGBM] [Info] Number of data points in the train set: 111015, number of used features: 9\n",
      "[LightGBM] [Info] Start training from score 5967.699239\n",
      "[LightGBM] [Info] Auto-choosing col-wise multi-threading, the overhead of testing was 0.010144 seconds.\n",
      "You can set `force_col_wise=true` to remove the overhead.\n",
      "[LightGBM] [Info] Total Bins 609\n",
      "[LightGBM] [Info] Number of data points in the train set: 111015, number of used features: 9\n",
      "[LightGBM] [Info] Start training from score 5945.899032\n",
      "[LightGBM] [Info] Auto-choosing row-wise multi-threading, the overhead of testing was 0.003425 seconds.\n",
      "You can set `force_row_wise=true` to remove the overhead.\n",
      "And if memory is not enough, you can set `force_col_wise=true`.\n",
      "[LightGBM] [Info] Total Bins 621\n",
      "[LightGBM] [Info] Number of data points in the train set: 111014, number of used features: 9\n",
      "[LightGBM] [Info] Start training from score 5943.604608\n",
      "[LightGBM] [Info] Auto-choosing row-wise multi-threading, the overhead of testing was 0.003941 seconds.\n",
      "You can set `force_row_wise=true` to remove the overhead.\n",
      "And if memory is not enough, you can set `force_col_wise=true`.\n",
      "[LightGBM] [Info] Total Bins 612\n",
      "[LightGBM] [Info] Number of data points in the train set: 111015, number of used features: 9\n",
      "[LightGBM] [Info] Start training from score 5967.699239\n",
      "[LightGBM] [Info] Auto-choosing col-wise multi-threading, the overhead of testing was 0.009083 seconds.\n",
      "You can set `force_col_wise=true` to remove the overhead.\n",
      "[LightGBM] [Info] Total Bins 609\n",
      "[LightGBM] [Info] Number of data points in the train set: 111015, number of used features: 9\n",
      "[LightGBM] [Info] Start training from score 5945.899032\n",
      "[LightGBM] [Info] Auto-choosing row-wise multi-threading, the overhead of testing was 0.008657 seconds.\n",
      "You can set `force_row_wise=true` to remove the overhead.\n",
      "And if memory is not enough, you can set `force_col_wise=true`.\n",
      "[LightGBM] [Info] Total Bins 621\n",
      "[LightGBM] [Info] Number of data points in the train set: 111014, number of used features: 9\n",
      "[LightGBM] [Info] Start training from score 5943.604608\n",
      "[LightGBM] [Info] Auto-choosing col-wise multi-threading, the overhead of testing was 0.010581 seconds.\n",
      "You can set `force_col_wise=true` to remove the overhead.\n",
      "[LightGBM] [Info] Total Bins 612\n",
      "[LightGBM] [Info] Number of data points in the train set: 111015, number of used features: 9\n",
      "[LightGBM] [Info] Start training from score 5967.699239\n",
      "[LightGBM] [Info] Auto-choosing row-wise multi-threading, the overhead of testing was 0.003963 seconds.\n",
      "You can set `force_row_wise=true` to remove the overhead.\n",
      "And if memory is not enough, you can set `force_col_wise=true`.\n",
      "[LightGBM] [Info] Total Bins 609\n",
      "[LightGBM] [Info] Number of data points in the train set: 111015, number of used features: 9\n",
      "[LightGBM] [Info] Start training from score 5945.899032\n",
      "[LightGBM] [Info] Auto-choosing col-wise multi-threading, the overhead of testing was 0.010290 seconds.\n",
      "You can set `force_col_wise=true` to remove the overhead.\n",
      "[LightGBM] [Info] Total Bins 621\n",
      "[LightGBM] [Info] Number of data points in the train set: 111014, number of used features: 9\n",
      "[LightGBM] [Info] Start training from score 5943.604608\n",
      "[LightGBM] [Info] Auto-choosing row-wise multi-threading, the overhead of testing was 0.003710 seconds.\n",
      "You can set `force_row_wise=true` to remove the overhead.\n",
      "And if memory is not enough, you can set `force_col_wise=true`.\n",
      "[LightGBM] [Info] Total Bins 612\n",
      "[LightGBM] [Info] Number of data points in the train set: 111015, number of used features: 9\n",
      "[LightGBM] [Info] Start training from score 5967.699239\n",
      "[LightGBM] [Info] Auto-choosing col-wise multi-threading, the overhead of testing was 0.014705 seconds.\n",
      "You can set `force_col_wise=true` to remove the overhead.\n",
      "[LightGBM] [Info] Total Bins 609\n",
      "[LightGBM] [Info] Number of data points in the train set: 111015, number of used features: 9\n",
      "[LightGBM] [Info] Start training from score 5945.899032\n",
      "[LightGBM] [Info] Auto-choosing col-wise multi-threading, the overhead of testing was 0.006454 seconds.\n",
      "You can set `force_col_wise=true` to remove the overhead.\n",
      "[LightGBM] [Info] Total Bins 621\n",
      "[LightGBM] [Info] Number of data points in the train set: 111014, number of used features: 9\n",
      "[LightGBM] [Info] Start training from score 5943.604608\n",
      "[LightGBM] [Info] Auto-choosing row-wise multi-threading, the overhead of testing was 0.004066 seconds.\n",
      "You can set `force_row_wise=true` to remove the overhead.\n",
      "And if memory is not enough, you can set `force_col_wise=true`.\n",
      "[LightGBM] [Info] Total Bins 612\n",
      "[LightGBM] [Info] Number of data points in the train set: 111015, number of used features: 9\n",
      "[LightGBM] [Info] Start training from score 5967.699239\n",
      "[LightGBM] [Info] Auto-choosing col-wise multi-threading, the overhead of testing was 0.011629 seconds.\n",
      "You can set `force_col_wise=true` to remove the overhead.\n",
      "[LightGBM] [Info] Total Bins 609\n",
      "[LightGBM] [Info] Number of data points in the train set: 111015, number of used features: 9\n",
      "[LightGBM] [Info] Start training from score 5945.899032\n",
      "[LightGBM] [Info] Auto-choosing col-wise multi-threading, the overhead of testing was 0.011826 seconds.\n",
      "You can set `force_col_wise=true` to remove the overhead.\n",
      "[LightGBM] [Info] Total Bins 621\n",
      "[LightGBM] [Info] Number of data points in the train set: 111014, number of used features: 9\n",
      "[LightGBM] [Info] Start training from score 5943.604608\n",
      "[LightGBM] [Info] Auto-choosing col-wise multi-threading, the overhead of testing was 0.013247 seconds.\n",
      "You can set `force_col_wise=true` to remove the overhead.\n",
      "[LightGBM] [Info] Total Bins 612\n",
      "[LightGBM] [Info] Number of data points in the train set: 111015, number of used features: 9\n",
      "[LightGBM] [Info] Start training from score 5967.699239\n",
      "[LightGBM] [Info] Auto-choosing row-wise multi-threading, the overhead of testing was 0.004814 seconds.\n",
      "You can set `force_row_wise=true` to remove the overhead.\n",
      "And if memory is not enough, you can set `force_col_wise=true`.\n",
      "[LightGBM] [Info] Total Bins 609\n",
      "[LightGBM] [Info] Number of data points in the train set: 111015, number of used features: 9\n",
      "[LightGBM] [Info] Start training from score 5945.899032\n",
      "[LightGBM] [Info] Auto-choosing col-wise multi-threading, the overhead of testing was 0.010070 seconds.\n",
      "You can set `force_col_wise=true` to remove the overhead.\n",
      "[LightGBM] [Info] Total Bins 621\n",
      "[LightGBM] [Info] Number of data points in the train set: 111014, number of used features: 9\n",
      "[LightGBM] [Info] Start training from score 5943.604608\n",
      "[LightGBM] [Info] Auto-choosing row-wise multi-threading, the overhead of testing was 0.004335 seconds.\n",
      "You can set `force_row_wise=true` to remove the overhead.\n",
      "And if memory is not enough, you can set `force_col_wise=true`.\n",
      "[LightGBM] [Info] Total Bins 612\n",
      "[LightGBM] [Info] Number of data points in the train set: 111015, number of used features: 9\n",
      "[LightGBM] [Info] Start training from score 5967.699239\n",
      "[LightGBM] [Info] Auto-choosing row-wise multi-threading, the overhead of testing was 0.003578 seconds.\n",
      "You can set `force_row_wise=true` to remove the overhead.\n",
      "And if memory is not enough, you can set `force_col_wise=true`.\n",
      "[LightGBM] [Info] Total Bins 609\n",
      "[LightGBM] [Info] Number of data points in the train set: 111015, number of used features: 9\n",
      "[LightGBM] [Info] Start training from score 5945.899032\n",
      "[LightGBM] [Info] Auto-choosing row-wise multi-threading, the overhead of testing was 0.003516 seconds.\n",
      "You can set `force_row_wise=true` to remove the overhead.\n",
      "And if memory is not enough, you can set `force_col_wise=true`.\n",
      "[LightGBM] [Info] Total Bins 621\n",
      "[LightGBM] [Info] Number of data points in the train set: 111014, number of used features: 9\n",
      "[LightGBM] [Info] Start training from score 5943.604608\n",
      "[LightGBM] [Info] Auto-choosing row-wise multi-threading, the overhead of testing was 0.003605 seconds.\n",
      "You can set `force_row_wise=true` to remove the overhead.\n",
      "And if memory is not enough, you can set `force_col_wise=true`.\n",
      "[LightGBM] [Info] Total Bins 612\n",
      "[LightGBM] [Info] Number of data points in the train set: 111015, number of used features: 9\n",
      "[LightGBM] [Info] Start training from score 5967.699239\n",
      "[LightGBM] [Info] Auto-choosing col-wise multi-threading, the overhead of testing was 0.021900 seconds.\n",
      "You can set `force_col_wise=true` to remove the overhead.\n",
      "[LightGBM] [Info] Total Bins 609\n",
      "[LightGBM] [Info] Number of data points in the train set: 111015, number of used features: 9\n",
      "[LightGBM] [Info] Start training from score 5945.899032\n",
      "[LightGBM] [Info] Auto-choosing row-wise multi-threading, the overhead of testing was 0.004095 seconds.\n",
      "You can set `force_row_wise=true` to remove the overhead.\n",
      "And if memory is not enough, you can set `force_col_wise=true`.\n",
      "[LightGBM] [Info] Total Bins 621\n",
      "[LightGBM] [Info] Number of data points in the train set: 111014, number of used features: 9\n",
      "[LightGBM] [Info] Start training from score 5943.604608\n",
      "[LightGBM] [Info] Auto-choosing row-wise multi-threading, the overhead of testing was 0.004115 seconds.\n",
      "You can set `force_row_wise=true` to remove the overhead.\n",
      "And if memory is not enough, you can set `force_col_wise=true`.\n",
      "[LightGBM] [Info] Total Bins 612\n",
      "[LightGBM] [Info] Number of data points in the train set: 111015, number of used features: 9\n",
      "[LightGBM] [Info] Start training from score 5967.699239\n",
      "[LightGBM] [Info] Auto-choosing col-wise multi-threading, the overhead of testing was 0.024407 seconds.\n",
      "You can set `force_col_wise=true` to remove the overhead.\n",
      "[LightGBM] [Info] Total Bins 609\n",
      "[LightGBM] [Info] Number of data points in the train set: 111015, number of used features: 9\n",
      "[LightGBM] [Info] Start training from score 5945.899032\n",
      "[LightGBM] [Info] Auto-choosing row-wise multi-threading, the overhead of testing was 0.004185 seconds.\n",
      "You can set `force_row_wise=true` to remove the overhead.\n",
      "And if memory is not enough, you can set `force_col_wise=true`.\n",
      "[LightGBM] [Info] Total Bins 621\n",
      "[LightGBM] [Info] Number of data points in the train set: 111014, number of used features: 9\n",
      "[LightGBM] [Info] Start training from score 5943.604608\n",
      "[LightGBM] [Info] Auto-choosing col-wise multi-threading, the overhead of testing was 0.006180 seconds.\n",
      "You can set `force_col_wise=true` to remove the overhead.\n",
      "[LightGBM] [Info] Total Bins 612\n",
      "[LightGBM] [Info] Number of data points in the train set: 111015, number of used features: 9\n",
      "[LightGBM] [Info] Start training from score 5967.699239\n",
      "[LightGBM] [Info] Auto-choosing row-wise multi-threading, the overhead of testing was 0.004023 seconds.\n",
      "You can set `force_row_wise=true` to remove the overhead.\n",
      "And if memory is not enough, you can set `force_col_wise=true`.\n",
      "[LightGBM] [Info] Total Bins 609\n",
      "[LightGBM] [Info] Number of data points in the train set: 111015, number of used features: 9\n",
      "[LightGBM] [Info] Start training from score 5945.899032\n",
      "[LightGBM] [Info] Auto-choosing col-wise multi-threading, the overhead of testing was 0.014016 seconds.\n",
      "You can set `force_col_wise=true` to remove the overhead.\n",
      "[LightGBM] [Info] Total Bins 621\n",
      "[LightGBM] [Info] Number of data points in the train set: 111014, number of used features: 9\n",
      "[LightGBM] [Info] Start training from score 5943.604608\n",
      "[LightGBM] [Info] Auto-choosing col-wise multi-threading, the overhead of testing was 0.013471 seconds.\n",
      "You can set `force_col_wise=true` to remove the overhead.\n",
      "[LightGBM] [Info] Total Bins 612\n",
      "[LightGBM] [Info] Number of data points in the train set: 111015, number of used features: 9\n",
      "[LightGBM] [Info] Start training from score 5967.699239\n",
      "[LightGBM] [Info] Auto-choosing col-wise multi-threading, the overhead of testing was 0.010693 seconds.\n",
      "You can set `force_col_wise=true` to remove the overhead.\n",
      "[LightGBM] [Info] Total Bins 609\n",
      "[LightGBM] [Info] Number of data points in the train set: 111015, number of used features: 9\n",
      "[LightGBM] [Info] Start training from score 5945.899032\n",
      "[LightGBM] [Info] Auto-choosing row-wise multi-threading, the overhead of testing was 0.033742 seconds.\n",
      "You can set `force_row_wise=true` to remove the overhead.\n",
      "And if memory is not enough, you can set `force_col_wise=true`.\n",
      "[LightGBM] [Info] Total Bins 621\n",
      "[LightGBM] [Info] Number of data points in the train set: 111014, number of used features: 9\n",
      "[LightGBM] [Info] Start training from score 5943.604608\n",
      "[LightGBM] [Info] Auto-choosing row-wise multi-threading, the overhead of testing was 0.003516 seconds.\n",
      "You can set `force_row_wise=true` to remove the overhead.\n",
      "And if memory is not enough, you can set `force_col_wise=true`.\n",
      "[LightGBM] [Info] Total Bins 612\n",
      "[LightGBM] [Info] Number of data points in the train set: 111015, number of used features: 9\n",
      "[LightGBM] [Info] Start training from score 5967.699239\n",
      "[LightGBM] [Info] Auto-choosing row-wise multi-threading, the overhead of testing was 0.004623 seconds.\n",
      "You can set `force_row_wise=true` to remove the overhead.\n",
      "And if memory is not enough, you can set `force_col_wise=true`.\n",
      "[LightGBM] [Info] Total Bins 609\n",
      "[LightGBM] [Info] Number of data points in the train set: 111015, number of used features: 9\n",
      "[LightGBM] [Info] Start training from score 5945.899032\n",
      "[LightGBM] [Info] Auto-choosing col-wise multi-threading, the overhead of testing was 0.011005 seconds.\n",
      "You can set `force_col_wise=true` to remove the overhead.\n",
      "[LightGBM] [Info] Total Bins 621\n",
      "[LightGBM] [Info] Number of data points in the train set: 111014, number of used features: 9\n",
      "[LightGBM] [Info] Start training from score 5943.604608\n",
      "[LightGBM] [Info] Auto-choosing row-wise multi-threading, the overhead of testing was 0.004006 seconds.\n",
      "You can set `force_row_wise=true` to remove the overhead.\n",
      "And if memory is not enough, you can set `force_col_wise=true`.\n",
      "[LightGBM] [Info] Total Bins 612\n",
      "[LightGBM] [Info] Number of data points in the train set: 111015, number of used features: 9\n",
      "[LightGBM] [Info] Start training from score 5967.699239\n",
      "[LightGBM] [Info] Auto-choosing row-wise multi-threading, the overhead of testing was 0.004432 seconds.\n",
      "You can set `force_row_wise=true` to remove the overhead.\n",
      "And if memory is not enough, you can set `force_col_wise=true`.\n",
      "[LightGBM] [Info] Total Bins 609\n",
      "[LightGBM] [Info] Number of data points in the train set: 111015, number of used features: 9\n",
      "[LightGBM] [Info] Start training from score 5945.899032\n",
      "[LightGBM] [Info] Auto-choosing row-wise multi-threading, the overhead of testing was 0.003961 seconds.\n",
      "You can set `force_row_wise=true` to remove the overhead.\n",
      "And if memory is not enough, you can set `force_col_wise=true`.\n",
      "[LightGBM] [Info] Total Bins 621\n",
      "[LightGBM] [Info] Number of data points in the train set: 111014, number of used features: 9\n",
      "[LightGBM] [Info] Start training from score 5943.604608\n",
      "[LightGBM] [Info] Auto-choosing col-wise multi-threading, the overhead of testing was 0.008983 seconds.\n",
      "You can set `force_col_wise=true` to remove the overhead.\n",
      "[LightGBM] [Info] Total Bins 612\n",
      "[LightGBM] [Info] Number of data points in the train set: 111015, number of used features: 9\n",
      "[LightGBM] [Info] Start training from score 5967.699239\n",
      "[LightGBM] [Info] Auto-choosing row-wise multi-threading, the overhead of testing was 0.003487 seconds.\n",
      "You can set `force_row_wise=true` to remove the overhead.\n",
      "And if memory is not enough, you can set `force_col_wise=true`.\n",
      "[LightGBM] [Info] Total Bins 609\n",
      "[LightGBM] [Info] Number of data points in the train set: 111015, number of used features: 9\n",
      "[LightGBM] [Info] Start training from score 5945.899032\n",
      "[LightGBM] [Info] Auto-choosing col-wise multi-threading, the overhead of testing was 0.010137 seconds.\n",
      "You can set `force_col_wise=true` to remove the overhead.\n",
      "[LightGBM] [Info] Total Bins 621\n",
      "[LightGBM] [Info] Number of data points in the train set: 111014, number of used features: 9\n",
      "[LightGBM] [Info] Start training from score 5943.604608\n",
      "[LightGBM] [Info] Auto-choosing col-wise multi-threading, the overhead of testing was 0.008543 seconds.\n",
      "You can set `force_col_wise=true` to remove the overhead.\n",
      "[LightGBM] [Info] Total Bins 612\n",
      "[LightGBM] [Info] Number of data points in the train set: 111015, number of used features: 9\n",
      "[LightGBM] [Info] Start training from score 5967.699239\n",
      "[LightGBM] [Info] Auto-choosing row-wise multi-threading, the overhead of testing was 0.003754 seconds.\n",
      "You can set `force_row_wise=true` to remove the overhead.\n",
      "And if memory is not enough, you can set `force_col_wise=true`.\n",
      "[LightGBM] [Info] Total Bins 609\n",
      "[LightGBM] [Info] Number of data points in the train set: 111015, number of used features: 9\n",
      "[LightGBM] [Info] Start training from score 5945.899032\n",
      "[LightGBM] [Info] Auto-choosing row-wise multi-threading, the overhead of testing was 0.006322 seconds.\n",
      "You can set `force_row_wise=true` to remove the overhead.\n",
      "And if memory is not enough, you can set `force_col_wise=true`.\n",
      "[LightGBM] [Info] Total Bins 627\n",
      "[LightGBM] [Info] Number of data points in the train set: 166522, number of used features: 9\n",
      "[LightGBM] [Info] Start training from score 5952.400986\n"
     ]
    },
    {
     "data": {
      "text/html": [
       "<style>#sk-container-id-2 {\n",
       "  /* Definition of color scheme common for light and dark mode */\n",
       "  --sklearn-color-text: black;\n",
       "  --sklearn-color-line: gray;\n",
       "  /* Definition of color scheme for unfitted estimators */\n",
       "  --sklearn-color-unfitted-level-0: #fff5e6;\n",
       "  --sklearn-color-unfitted-level-1: #f6e4d2;\n",
       "  --sklearn-color-unfitted-level-2: #ffe0b3;\n",
       "  --sklearn-color-unfitted-level-3: chocolate;\n",
       "  /* Definition of color scheme for fitted estimators */\n",
       "  --sklearn-color-fitted-level-0: #f0f8ff;\n",
       "  --sklearn-color-fitted-level-1: #d4ebff;\n",
       "  --sklearn-color-fitted-level-2: #b3dbfd;\n",
       "  --sklearn-color-fitted-level-3: cornflowerblue;\n",
       "\n",
       "  /* Specific color for light theme */\n",
       "  --sklearn-color-text-on-default-background: var(--sg-text-color, var(--theme-code-foreground, var(--jp-content-font-color1, black)));\n",
       "  --sklearn-color-background: var(--sg-background-color, var(--theme-background, var(--jp-layout-color0, white)));\n",
       "  --sklearn-color-border-box: var(--sg-text-color, var(--theme-code-foreground, var(--jp-content-font-color1, black)));\n",
       "  --sklearn-color-icon: #696969;\n",
       "\n",
       "  @media (prefers-color-scheme: dark) {\n",
       "    /* Redefinition of color scheme for dark theme */\n",
       "    --sklearn-color-text-on-default-background: var(--sg-text-color, var(--theme-code-foreground, var(--jp-content-font-color1, white)));\n",
       "    --sklearn-color-background: var(--sg-background-color, var(--theme-background, var(--jp-layout-color0, #111)));\n",
       "    --sklearn-color-border-box: var(--sg-text-color, var(--theme-code-foreground, var(--jp-content-font-color1, white)));\n",
       "    --sklearn-color-icon: #878787;\n",
       "  }\n",
       "}\n",
       "\n",
       "#sk-container-id-2 {\n",
       "  color: var(--sklearn-color-text);\n",
       "}\n",
       "\n",
       "#sk-container-id-2 pre {\n",
       "  padding: 0;\n",
       "}\n",
       "\n",
       "#sk-container-id-2 input.sk-hidden--visually {\n",
       "  border: 0;\n",
       "  clip: rect(1px 1px 1px 1px);\n",
       "  clip: rect(1px, 1px, 1px, 1px);\n",
       "  height: 1px;\n",
       "  margin: -1px;\n",
       "  overflow: hidden;\n",
       "  padding: 0;\n",
       "  position: absolute;\n",
       "  width: 1px;\n",
       "}\n",
       "\n",
       "#sk-container-id-2 div.sk-dashed-wrapped {\n",
       "  border: 1px dashed var(--sklearn-color-line);\n",
       "  margin: 0 0.4em 0.5em 0.4em;\n",
       "  box-sizing: border-box;\n",
       "  padding-bottom: 0.4em;\n",
       "  background-color: var(--sklearn-color-background);\n",
       "}\n",
       "\n",
       "#sk-container-id-2 div.sk-container {\n",
       "  /* jupyter's `normalize.less` sets `[hidden] { display: none; }`\n",
       "     but bootstrap.min.css set `[hidden] { display: none !important; }`\n",
       "     so we also need the `!important` here to be able to override the\n",
       "     default hidden behavior on the sphinx rendered scikit-learn.org.\n",
       "     See: https://github.com/scikit-learn/scikit-learn/issues/21755 */\n",
       "  display: inline-block !important;\n",
       "  position: relative;\n",
       "}\n",
       "\n",
       "#sk-container-id-2 div.sk-text-repr-fallback {\n",
       "  display: none;\n",
       "}\n",
       "\n",
       "div.sk-parallel-item,\n",
       "div.sk-serial,\n",
       "div.sk-item {\n",
       "  /* draw centered vertical line to link estimators */\n",
       "  background-image: linear-gradient(var(--sklearn-color-text-on-default-background), var(--sklearn-color-text-on-default-background));\n",
       "  background-size: 2px 100%;\n",
       "  background-repeat: no-repeat;\n",
       "  background-position: center center;\n",
       "}\n",
       "\n",
       "/* Parallel-specific style estimator block */\n",
       "\n",
       "#sk-container-id-2 div.sk-parallel-item::after {\n",
       "  content: \"\";\n",
       "  width: 100%;\n",
       "  border-bottom: 2px solid var(--sklearn-color-text-on-default-background);\n",
       "  flex-grow: 1;\n",
       "}\n",
       "\n",
       "#sk-container-id-2 div.sk-parallel {\n",
       "  display: flex;\n",
       "  align-items: stretch;\n",
       "  justify-content: center;\n",
       "  background-color: var(--sklearn-color-background);\n",
       "  position: relative;\n",
       "}\n",
       "\n",
       "#sk-container-id-2 div.sk-parallel-item {\n",
       "  display: flex;\n",
       "  flex-direction: column;\n",
       "}\n",
       "\n",
       "#sk-container-id-2 div.sk-parallel-item:first-child::after {\n",
       "  align-self: flex-end;\n",
       "  width: 50%;\n",
       "}\n",
       "\n",
       "#sk-container-id-2 div.sk-parallel-item:last-child::after {\n",
       "  align-self: flex-start;\n",
       "  width: 50%;\n",
       "}\n",
       "\n",
       "#sk-container-id-2 div.sk-parallel-item:only-child::after {\n",
       "  width: 0;\n",
       "}\n",
       "\n",
       "/* Serial-specific style estimator block */\n",
       "\n",
       "#sk-container-id-2 div.sk-serial {\n",
       "  display: flex;\n",
       "  flex-direction: column;\n",
       "  align-items: center;\n",
       "  background-color: var(--sklearn-color-background);\n",
       "  padding-right: 1em;\n",
       "  padding-left: 1em;\n",
       "}\n",
       "\n",
       "\n",
       "/* Toggleable style: style used for estimator/Pipeline/ColumnTransformer box that is\n",
       "clickable and can be expanded/collapsed.\n",
       "- Pipeline and ColumnTransformer use this feature and define the default style\n",
       "- Estimators will overwrite some part of the style using the `sk-estimator` class\n",
       "*/\n",
       "\n",
       "/* Pipeline and ColumnTransformer style (default) */\n",
       "\n",
       "#sk-container-id-2 div.sk-toggleable {\n",
       "  /* Default theme specific background. It is overwritten whether we have a\n",
       "  specific estimator or a Pipeline/ColumnTransformer */\n",
       "  background-color: var(--sklearn-color-background);\n",
       "}\n",
       "\n",
       "/* Toggleable label */\n",
       "#sk-container-id-2 label.sk-toggleable__label {\n",
       "  cursor: pointer;\n",
       "  display: block;\n",
       "  width: 100%;\n",
       "  margin-bottom: 0;\n",
       "  padding: 0.5em;\n",
       "  box-sizing: border-box;\n",
       "  text-align: center;\n",
       "}\n",
       "\n",
       "#sk-container-id-2 label.sk-toggleable__label-arrow:before {\n",
       "  /* Arrow on the left of the label */\n",
       "  content: \"▸\";\n",
       "  float: left;\n",
       "  margin-right: 0.25em;\n",
       "  color: var(--sklearn-color-icon);\n",
       "}\n",
       "\n",
       "#sk-container-id-2 label.sk-toggleable__label-arrow:hover:before {\n",
       "  color: var(--sklearn-color-text);\n",
       "}\n",
       "\n",
       "/* Toggleable content - dropdown */\n",
       "\n",
       "#sk-container-id-2 div.sk-toggleable__content {\n",
       "  max-height: 0;\n",
       "  max-width: 0;\n",
       "  overflow: hidden;\n",
       "  text-align: left;\n",
       "  /* unfitted */\n",
       "  background-color: var(--sklearn-color-unfitted-level-0);\n",
       "}\n",
       "\n",
       "#sk-container-id-2 div.sk-toggleable__content.fitted {\n",
       "  /* fitted */\n",
       "  background-color: var(--sklearn-color-fitted-level-0);\n",
       "}\n",
       "\n",
       "#sk-container-id-2 div.sk-toggleable__content pre {\n",
       "  margin: 0.2em;\n",
       "  border-radius: 0.25em;\n",
       "  color: var(--sklearn-color-text);\n",
       "  /* unfitted */\n",
       "  background-color: var(--sklearn-color-unfitted-level-0);\n",
       "}\n",
       "\n",
       "#sk-container-id-2 div.sk-toggleable__content.fitted pre {\n",
       "  /* unfitted */\n",
       "  background-color: var(--sklearn-color-fitted-level-0);\n",
       "}\n",
       "\n",
       "#sk-container-id-2 input.sk-toggleable__control:checked~div.sk-toggleable__content {\n",
       "  /* Expand drop-down */\n",
       "  max-height: 200px;\n",
       "  max-width: 100%;\n",
       "  overflow: auto;\n",
       "}\n",
       "\n",
       "#sk-container-id-2 input.sk-toggleable__control:checked~label.sk-toggleable__label-arrow:before {\n",
       "  content: \"▾\";\n",
       "}\n",
       "\n",
       "/* Pipeline/ColumnTransformer-specific style */\n",
       "\n",
       "#sk-container-id-2 div.sk-label input.sk-toggleable__control:checked~label.sk-toggleable__label {\n",
       "  color: var(--sklearn-color-text);\n",
       "  background-color: var(--sklearn-color-unfitted-level-2);\n",
       "}\n",
       "\n",
       "#sk-container-id-2 div.sk-label.fitted input.sk-toggleable__control:checked~label.sk-toggleable__label {\n",
       "  background-color: var(--sklearn-color-fitted-level-2);\n",
       "}\n",
       "\n",
       "/* Estimator-specific style */\n",
       "\n",
       "/* Colorize estimator box */\n",
       "#sk-container-id-2 div.sk-estimator input.sk-toggleable__control:checked~label.sk-toggleable__label {\n",
       "  /* unfitted */\n",
       "  background-color: var(--sklearn-color-unfitted-level-2);\n",
       "}\n",
       "\n",
       "#sk-container-id-2 div.sk-estimator.fitted input.sk-toggleable__control:checked~label.sk-toggleable__label {\n",
       "  /* fitted */\n",
       "  background-color: var(--sklearn-color-fitted-level-2);\n",
       "}\n",
       "\n",
       "#sk-container-id-2 div.sk-label label.sk-toggleable__label,\n",
       "#sk-container-id-2 div.sk-label label {\n",
       "  /* The background is the default theme color */\n",
       "  color: var(--sklearn-color-text-on-default-background);\n",
       "}\n",
       "\n",
       "/* On hover, darken the color of the background */\n",
       "#sk-container-id-2 div.sk-label:hover label.sk-toggleable__label {\n",
       "  color: var(--sklearn-color-text);\n",
       "  background-color: var(--sklearn-color-unfitted-level-2);\n",
       "}\n",
       "\n",
       "/* Label box, darken color on hover, fitted */\n",
       "#sk-container-id-2 div.sk-label.fitted:hover label.sk-toggleable__label.fitted {\n",
       "  color: var(--sklearn-color-text);\n",
       "  background-color: var(--sklearn-color-fitted-level-2);\n",
       "}\n",
       "\n",
       "/* Estimator label */\n",
       "\n",
       "#sk-container-id-2 div.sk-label label {\n",
       "  font-family: monospace;\n",
       "  font-weight: bold;\n",
       "  display: inline-block;\n",
       "  line-height: 1.2em;\n",
       "}\n",
       "\n",
       "#sk-container-id-2 div.sk-label-container {\n",
       "  text-align: center;\n",
       "}\n",
       "\n",
       "/* Estimator-specific */\n",
       "#sk-container-id-2 div.sk-estimator {\n",
       "  font-family: monospace;\n",
       "  border: 1px dotted var(--sklearn-color-border-box);\n",
       "  border-radius: 0.25em;\n",
       "  box-sizing: border-box;\n",
       "  margin-bottom: 0.5em;\n",
       "  /* unfitted */\n",
       "  background-color: var(--sklearn-color-unfitted-level-0);\n",
       "}\n",
       "\n",
       "#sk-container-id-2 div.sk-estimator.fitted {\n",
       "  /* fitted */\n",
       "  background-color: var(--sklearn-color-fitted-level-0);\n",
       "}\n",
       "\n",
       "/* on hover */\n",
       "#sk-container-id-2 div.sk-estimator:hover {\n",
       "  /* unfitted */\n",
       "  background-color: var(--sklearn-color-unfitted-level-2);\n",
       "}\n",
       "\n",
       "#sk-container-id-2 div.sk-estimator.fitted:hover {\n",
       "  /* fitted */\n",
       "  background-color: var(--sklearn-color-fitted-level-2);\n",
       "}\n",
       "\n",
       "/* Specification for estimator info (e.g. \"i\" and \"?\") */\n",
       "\n",
       "/* Common style for \"i\" and \"?\" */\n",
       "\n",
       ".sk-estimator-doc-link,\n",
       "a:link.sk-estimator-doc-link,\n",
       "a:visited.sk-estimator-doc-link {\n",
       "  float: right;\n",
       "  font-size: smaller;\n",
       "  line-height: 1em;\n",
       "  font-family: monospace;\n",
       "  background-color: var(--sklearn-color-background);\n",
       "  border-radius: 1em;\n",
       "  height: 1em;\n",
       "  width: 1em;\n",
       "  text-decoration: none !important;\n",
       "  margin-left: 1ex;\n",
       "  /* unfitted */\n",
       "  border: var(--sklearn-color-unfitted-level-1) 1pt solid;\n",
       "  color: var(--sklearn-color-unfitted-level-1);\n",
       "}\n",
       "\n",
       ".sk-estimator-doc-link.fitted,\n",
       "a:link.sk-estimator-doc-link.fitted,\n",
       "a:visited.sk-estimator-doc-link.fitted {\n",
       "  /* fitted */\n",
       "  border: var(--sklearn-color-fitted-level-1) 1pt solid;\n",
       "  color: var(--sklearn-color-fitted-level-1);\n",
       "}\n",
       "\n",
       "/* On hover */\n",
       "div.sk-estimator:hover .sk-estimator-doc-link:hover,\n",
       ".sk-estimator-doc-link:hover,\n",
       "div.sk-label-container:hover .sk-estimator-doc-link:hover,\n",
       ".sk-estimator-doc-link:hover {\n",
       "  /* unfitted */\n",
       "  background-color: var(--sklearn-color-unfitted-level-3);\n",
       "  color: var(--sklearn-color-background);\n",
       "  text-decoration: none;\n",
       "}\n",
       "\n",
       "div.sk-estimator.fitted:hover .sk-estimator-doc-link.fitted:hover,\n",
       ".sk-estimator-doc-link.fitted:hover,\n",
       "div.sk-label-container:hover .sk-estimator-doc-link.fitted:hover,\n",
       ".sk-estimator-doc-link.fitted:hover {\n",
       "  /* fitted */\n",
       "  background-color: var(--sklearn-color-fitted-level-3);\n",
       "  color: var(--sklearn-color-background);\n",
       "  text-decoration: none;\n",
       "}\n",
       "\n",
       "/* Span, style for the box shown on hovering the info icon */\n",
       ".sk-estimator-doc-link span {\n",
       "  display: none;\n",
       "  z-index: 9999;\n",
       "  position: relative;\n",
       "  font-weight: normal;\n",
       "  right: .2ex;\n",
       "  padding: .5ex;\n",
       "  margin: .5ex;\n",
       "  width: min-content;\n",
       "  min-width: 20ex;\n",
       "  max-width: 50ex;\n",
       "  color: var(--sklearn-color-text);\n",
       "  box-shadow: 2pt 2pt 4pt #999;\n",
       "  /* unfitted */\n",
       "  background: var(--sklearn-color-unfitted-level-0);\n",
       "  border: .5pt solid var(--sklearn-color-unfitted-level-3);\n",
       "}\n",
       "\n",
       ".sk-estimator-doc-link.fitted span {\n",
       "  /* fitted */\n",
       "  background: var(--sklearn-color-fitted-level-0);\n",
       "  border: var(--sklearn-color-fitted-level-3);\n",
       "}\n",
       "\n",
       ".sk-estimator-doc-link:hover span {\n",
       "  display: block;\n",
       "}\n",
       "\n",
       "/* \"?\"-specific style due to the `<a>` HTML tag */\n",
       "\n",
       "#sk-container-id-2 a.estimator_doc_link {\n",
       "  float: right;\n",
       "  font-size: 1rem;\n",
       "  line-height: 1em;\n",
       "  font-family: monospace;\n",
       "  background-color: var(--sklearn-color-background);\n",
       "  border-radius: 1rem;\n",
       "  height: 1rem;\n",
       "  width: 1rem;\n",
       "  text-decoration: none;\n",
       "  /* unfitted */\n",
       "  color: var(--sklearn-color-unfitted-level-1);\n",
       "  border: var(--sklearn-color-unfitted-level-1) 1pt solid;\n",
       "}\n",
       "\n",
       "#sk-container-id-2 a.estimator_doc_link.fitted {\n",
       "  /* fitted */\n",
       "  border: var(--sklearn-color-fitted-level-1) 1pt solid;\n",
       "  color: var(--sklearn-color-fitted-level-1);\n",
       "}\n",
       "\n",
       "/* On hover */\n",
       "#sk-container-id-2 a.estimator_doc_link:hover {\n",
       "  /* unfitted */\n",
       "  background-color: var(--sklearn-color-unfitted-level-3);\n",
       "  color: var(--sklearn-color-background);\n",
       "  text-decoration: none;\n",
       "}\n",
       "\n",
       "#sk-container-id-2 a.estimator_doc_link.fitted:hover {\n",
       "  /* fitted */\n",
       "  background-color: var(--sklearn-color-fitted-level-3);\n",
       "}\n",
       "</style><div id=\"sk-container-id-2\" class=\"sk-top-container\"><div class=\"sk-text-repr-fallback\"><pre>GridSearchCV(cv=3,\n",
       "             estimator=Pipeline(steps=[(&#x27;preprocessor&#x27;,\n",
       "                                        ColumnTransformer(transformers=[(&#x27;ord&#x27;,\n",
       "                                                                         Pipeline(steps=[(&#x27;simpleImputer_before_ord&#x27;,\n",
       "                                                                                          SimpleImputer(strategy=&#x27;most_frequent&#x27;)),\n",
       "                                                                                         (&#x27;ord&#x27;,\n",
       "                                                                                          OrdinalEncoder(handle_unknown=&#x27;use_encoded_value&#x27;,\n",
       "                                                                                                         unknown_value=nan)),\n",
       "                                                                                         (&#x27;simpleImputer_after_ord&#x27;,\n",
       "                                                                                          SimpleImputer(strategy=&#x27;most_frequent&#x27;))]),\n",
       "                                                                         [&#x27;Kilometer&#x27;,\n",
       "                                                                          &#x27;Regis...ar&#x27;,\n",
       "                                                                          &#x27;Power&#x27;,\n",
       "                                                                          &#x27;VehicleType&#x27;,\n",
       "                                                                          &#x27;Gearbox&#x27;,\n",
       "                                                                          &#x27;Model&#x27;,\n",
       "                                                                          &#x27;FuelType&#x27;,\n",
       "                                                                          &#x27;Repaired&#x27;,\n",
       "                                                                          &#x27;Brand&#x27;])])),\n",
       "                                       (&#x27;models&#x27;,\n",
       "                                        DecisionTreeRegressor(random_state=123))]),\n",
       "             param_grid=[{&#x27;models&#x27;: [LGBMRegressor(random_state=123)],\n",
       "                          &#x27;models__max_depth&#x27;: range(5, 10),\n",
       "                          &#x27;models__num_leaves&#x27;: range(5, 10)}],\n",
       "             scoring=make_scorer(root_mean_squared_error, greater_is_better=False, response_method=&#x27;predict&#x27;))</pre><b>In a Jupyter environment, please rerun this cell to show the HTML representation or trust the notebook. <br />On GitHub, the HTML representation is unable to render, please try loading this page with nbviewer.org.</b></div><div class=\"sk-container\" hidden><div class=\"sk-item sk-dashed-wrapped\"><div class=\"sk-label-container\"><div class=\"sk-label fitted sk-toggleable\"><input class=\"sk-toggleable__control sk-hidden--visually\" id=\"sk-estimator-id-9\" type=\"checkbox\" ><label for=\"sk-estimator-id-9\" class=\"sk-toggleable__label fitted sk-toggleable__label-arrow fitted\">&nbsp;&nbsp;GridSearchCV<a class=\"sk-estimator-doc-link fitted\" rel=\"noreferrer\" target=\"_blank\" href=\"https://scikit-learn.org/1.5/modules/generated/sklearn.model_selection.GridSearchCV.html\">?<span>Documentation for GridSearchCV</span></a><span class=\"sk-estimator-doc-link fitted\">i<span>Fitted</span></span></label><div class=\"sk-toggleable__content fitted\"><pre>GridSearchCV(cv=3,\n",
       "             estimator=Pipeline(steps=[(&#x27;preprocessor&#x27;,\n",
       "                                        ColumnTransformer(transformers=[(&#x27;ord&#x27;,\n",
       "                                                                         Pipeline(steps=[(&#x27;simpleImputer_before_ord&#x27;,\n",
       "                                                                                          SimpleImputer(strategy=&#x27;most_frequent&#x27;)),\n",
       "                                                                                         (&#x27;ord&#x27;,\n",
       "                                                                                          OrdinalEncoder(handle_unknown=&#x27;use_encoded_value&#x27;,\n",
       "                                                                                                         unknown_value=nan)),\n",
       "                                                                                         (&#x27;simpleImputer_after_ord&#x27;,\n",
       "                                                                                          SimpleImputer(strategy=&#x27;most_frequent&#x27;))]),\n",
       "                                                                         [&#x27;Kilometer&#x27;,\n",
       "                                                                          &#x27;Regis...ar&#x27;,\n",
       "                                                                          &#x27;Power&#x27;,\n",
       "                                                                          &#x27;VehicleType&#x27;,\n",
       "                                                                          &#x27;Gearbox&#x27;,\n",
       "                                                                          &#x27;Model&#x27;,\n",
       "                                                                          &#x27;FuelType&#x27;,\n",
       "                                                                          &#x27;Repaired&#x27;,\n",
       "                                                                          &#x27;Brand&#x27;])])),\n",
       "                                       (&#x27;models&#x27;,\n",
       "                                        DecisionTreeRegressor(random_state=123))]),\n",
       "             param_grid=[{&#x27;models&#x27;: [LGBMRegressor(random_state=123)],\n",
       "                          &#x27;models__max_depth&#x27;: range(5, 10),\n",
       "                          &#x27;models__num_leaves&#x27;: range(5, 10)}],\n",
       "             scoring=make_scorer(root_mean_squared_error, greater_is_better=False, response_method=&#x27;predict&#x27;))</pre></div> </div></div><div class=\"sk-parallel\"><div class=\"sk-parallel-item\"><div class=\"sk-item\"><div class=\"sk-label-container\"><div class=\"sk-label fitted sk-toggleable\"><input class=\"sk-toggleable__control sk-hidden--visually\" id=\"sk-estimator-id-10\" type=\"checkbox\" ><label for=\"sk-estimator-id-10\" class=\"sk-toggleable__label fitted sk-toggleable__label-arrow fitted\">best_estimator_: Pipeline</label><div class=\"sk-toggleable__content fitted\"><pre>Pipeline(steps=[(&#x27;preprocessor&#x27;,\n",
       "                 ColumnTransformer(transformers=[(&#x27;ord&#x27;,\n",
       "                                                  Pipeline(steps=[(&#x27;simpleImputer_before_ord&#x27;,\n",
       "                                                                   SimpleImputer(strategy=&#x27;most_frequent&#x27;)),\n",
       "                                                                  (&#x27;ord&#x27;,\n",
       "                                                                   OrdinalEncoder(handle_unknown=&#x27;use_encoded_value&#x27;,\n",
       "                                                                                  unknown_value=nan)),\n",
       "                                                                  (&#x27;simpleImputer_after_ord&#x27;,\n",
       "                                                                   SimpleImputer(strategy=&#x27;most_frequent&#x27;))]),\n",
       "                                                  [&#x27;Kilometer&#x27;,\n",
       "                                                   &#x27;RegistrationYear&#x27;, &#x27;Power&#x27;,\n",
       "                                                   &#x27;VehicleType&#x27;, &#x27;Gearbox&#x27;,\n",
       "                                                   &#x27;Model&#x27;, &#x27;FuelType&#x27;,\n",
       "                                                   &#x27;Repaired&#x27;, &#x27;Brand&#x27;])])),\n",
       "                (&#x27;models&#x27;,\n",
       "                 LGBMRegressor(max_depth=8, num_leaves=9, random_state=123))])</pre></div> </div></div><div class=\"sk-serial\"><div class=\"sk-item\"><div class=\"sk-serial\"><div class=\"sk-item sk-dashed-wrapped\"><div class=\"sk-label-container\"><div class=\"sk-label fitted sk-toggleable\"><input class=\"sk-toggleable__control sk-hidden--visually\" id=\"sk-estimator-id-11\" type=\"checkbox\" ><label for=\"sk-estimator-id-11\" class=\"sk-toggleable__label fitted sk-toggleable__label-arrow fitted\">&nbsp;preprocessor: ColumnTransformer<a class=\"sk-estimator-doc-link fitted\" rel=\"noreferrer\" target=\"_blank\" href=\"https://scikit-learn.org/1.5/modules/generated/sklearn.compose.ColumnTransformer.html\">?<span>Documentation for preprocessor: ColumnTransformer</span></a></label><div class=\"sk-toggleable__content fitted\"><pre>ColumnTransformer(transformers=[(&#x27;ord&#x27;,\n",
       "                                 Pipeline(steps=[(&#x27;simpleImputer_before_ord&#x27;,\n",
       "                                                  SimpleImputer(strategy=&#x27;most_frequent&#x27;)),\n",
       "                                                 (&#x27;ord&#x27;,\n",
       "                                                  OrdinalEncoder(handle_unknown=&#x27;use_encoded_value&#x27;,\n",
       "                                                                 unknown_value=nan)),\n",
       "                                                 (&#x27;simpleImputer_after_ord&#x27;,\n",
       "                                                  SimpleImputer(strategy=&#x27;most_frequent&#x27;))]),\n",
       "                                 [&#x27;Kilometer&#x27;, &#x27;RegistrationYear&#x27;, &#x27;Power&#x27;,\n",
       "                                  &#x27;VehicleType&#x27;, &#x27;Gearbox&#x27;, &#x27;Model&#x27;, &#x27;FuelType&#x27;,\n",
       "                                  &#x27;Repaired&#x27;, &#x27;Brand&#x27;])])</pre></div> </div></div><div class=\"sk-parallel\"><div class=\"sk-parallel-item\"><div class=\"sk-item\"><div class=\"sk-label-container\"><div class=\"sk-label fitted sk-toggleable\"><input class=\"sk-toggleable__control sk-hidden--visually\" id=\"sk-estimator-id-12\" type=\"checkbox\" ><label for=\"sk-estimator-id-12\" class=\"sk-toggleable__label fitted sk-toggleable__label-arrow fitted\">ord</label><div class=\"sk-toggleable__content fitted\"><pre>[&#x27;Kilometer&#x27;, &#x27;RegistrationYear&#x27;, &#x27;Power&#x27;, &#x27;VehicleType&#x27;, &#x27;Gearbox&#x27;, &#x27;Model&#x27;, &#x27;FuelType&#x27;, &#x27;Repaired&#x27;, &#x27;Brand&#x27;]</pre></div> </div></div><div class=\"sk-serial\"><div class=\"sk-item\"><div class=\"sk-serial\"><div class=\"sk-item\"><div class=\"sk-estimator fitted sk-toggleable\"><input class=\"sk-toggleable__control sk-hidden--visually\" id=\"sk-estimator-id-13\" type=\"checkbox\" ><label for=\"sk-estimator-id-13\" class=\"sk-toggleable__label fitted sk-toggleable__label-arrow fitted\">&nbsp;SimpleImputer<a class=\"sk-estimator-doc-link fitted\" rel=\"noreferrer\" target=\"_blank\" href=\"https://scikit-learn.org/1.5/modules/generated/sklearn.impute.SimpleImputer.html\">?<span>Documentation for SimpleImputer</span></a></label><div class=\"sk-toggleable__content fitted\"><pre>SimpleImputer(strategy=&#x27;most_frequent&#x27;)</pre></div> </div></div><div class=\"sk-item\"><div class=\"sk-estimator fitted sk-toggleable\"><input class=\"sk-toggleable__control sk-hidden--visually\" id=\"sk-estimator-id-14\" type=\"checkbox\" ><label for=\"sk-estimator-id-14\" class=\"sk-toggleable__label fitted sk-toggleable__label-arrow fitted\">&nbsp;OrdinalEncoder<a class=\"sk-estimator-doc-link fitted\" rel=\"noreferrer\" target=\"_blank\" href=\"https://scikit-learn.org/1.5/modules/generated/sklearn.preprocessing.OrdinalEncoder.html\">?<span>Documentation for OrdinalEncoder</span></a></label><div class=\"sk-toggleable__content fitted\"><pre>OrdinalEncoder(handle_unknown=&#x27;use_encoded_value&#x27;, unknown_value=nan)</pre></div> </div></div><div class=\"sk-item\"><div class=\"sk-estimator fitted sk-toggleable\"><input class=\"sk-toggleable__control sk-hidden--visually\" id=\"sk-estimator-id-15\" type=\"checkbox\" ><label for=\"sk-estimator-id-15\" class=\"sk-toggleable__label fitted sk-toggleable__label-arrow fitted\">&nbsp;SimpleImputer<a class=\"sk-estimator-doc-link fitted\" rel=\"noreferrer\" target=\"_blank\" href=\"https://scikit-learn.org/1.5/modules/generated/sklearn.impute.SimpleImputer.html\">?<span>Documentation for SimpleImputer</span></a></label><div class=\"sk-toggleable__content fitted\"><pre>SimpleImputer(strategy=&#x27;most_frequent&#x27;)</pre></div> </div></div></div></div></div></div></div></div></div><div class=\"sk-item\"><div class=\"sk-estimator fitted sk-toggleable\"><input class=\"sk-toggleable__control sk-hidden--visually\" id=\"sk-estimator-id-16\" type=\"checkbox\" ><label for=\"sk-estimator-id-16\" class=\"sk-toggleable__label fitted sk-toggleable__label-arrow fitted\">LGBMRegressor</label><div class=\"sk-toggleable__content fitted\"><pre>LGBMRegressor(max_depth=8, num_leaves=9, random_state=123)</pre></div> </div></div></div></div></div></div></div></div></div></div></div>"
      ],
      "text/plain": [
       "GridSearchCV(cv=3,\n",
       "             estimator=Pipeline(steps=[('preprocessor',\n",
       "                                        ColumnTransformer(transformers=[('ord',\n",
       "                                                                         Pipeline(steps=[('simpleImputer_before_ord',\n",
       "                                                                                          SimpleImputer(strategy='most_frequent')),\n",
       "                                                                                         ('ord',\n",
       "                                                                                          OrdinalEncoder(handle_unknown='use_encoded_value',\n",
       "                                                                                                         unknown_value=nan)),\n",
       "                                                                                         ('simpleImputer_after_ord',\n",
       "                                                                                          SimpleImputer(strategy='most_frequent'))]),\n",
       "                                                                         ['Kilometer',\n",
       "                                                                          'Regis...ar',\n",
       "                                                                          'Power',\n",
       "                                                                          'VehicleType',\n",
       "                                                                          'Gearbox',\n",
       "                                                                          'Model',\n",
       "                                                                          'FuelType',\n",
       "                                                                          'Repaired',\n",
       "                                                                          'Brand'])])),\n",
       "                                       ('models',\n",
       "                                        DecisionTreeRegressor(random_state=123))]),\n",
       "             param_grid=[{'models': [LGBMRegressor(random_state=123)],\n",
       "                          'models__max_depth': range(5, 10),\n",
       "                          'models__num_leaves': range(5, 10)}],\n",
       "             scoring=make_scorer(root_mean_squared_error, greater_is_better=False, response_method='predict'))"
      ]
     },
     "execution_count": 49,
     "metadata": {},
     "output_type": "execute_result"
    }
   ],
   "source": [
    "grid_search_lg.fit(X_train, y_train)"
   ]
  },
  {
   "cell_type": "markdown",
   "metadata": {},
   "source": [
    "## Анализ моделей"
   ]
  },
  {
   "cell_type": "code",
   "execution_count": 53,
   "metadata": {},
   "outputs": [],
   "source": [
    "results_dt = (pd.DataFrame(grid_search_dt.cv_results_)\n",
    " .set_index('mean_test_score')\n",
    " .sort_index(ascending=False))\n",
    "\n",
    "results_lg = (pd.DataFrame(grid_search_lg.cv_results_)\n",
    " .set_index('mean_test_score')\n",
    " .sort_index(ascending=False))"
   ]
  },
  {
   "cell_type": "code",
   "execution_count": 54,
   "metadata": {},
   "outputs": [
    {
     "data": {
      "text/html": [
       "<div>\n",
       "<style scoped>\n",
       "    .dataframe tbody tr th:only-of-type {\n",
       "        vertical-align: middle;\n",
       "    }\n",
       "\n",
       "    .dataframe tbody tr th {\n",
       "        vertical-align: top;\n",
       "    }\n",
       "\n",
       "    .dataframe thead th {\n",
       "        text-align: right;\n",
       "    }\n",
       "</style>\n",
       "<table border=\"1\" class=\"dataframe\">\n",
       "  <thead>\n",
       "    <tr style=\"text-align: right;\">\n",
       "      <th></th>\n",
       "      <th>mean_test_score</th>\n",
       "      <th>param_models</th>\n",
       "      <th>mean_fit_time</th>\n",
       "      <th>mean_score_time</th>\n",
       "      <th>param_models__max_depth</th>\n",
       "    </tr>\n",
       "  </thead>\n",
       "  <tbody>\n",
       "    <tr>\n",
       "      <th>0</th>\n",
       "      <td>2121.791454</td>\n",
       "      <td>DecisionTreeRegressor(random_state=123)</td>\n",
       "      <td>0.701062</td>\n",
       "      <td>0.184548</td>\n",
       "      <td>10</td>\n",
       "    </tr>\n",
       "  </tbody>\n",
       "</table>\n",
       "</div>"
      ],
      "text/plain": [
       "   mean_test_score                             param_models  mean_fit_time  \\\n",
       "0      2121.791454  DecisionTreeRegressor(random_state=123)       0.701062   \n",
       "\n",
       "   mean_score_time  param_models__max_depth  \n",
       "0         0.184548                       10  "
      ]
     },
     "execution_count": 54,
     "metadata": {},
     "output_type": "execute_result"
    }
   ],
   "source": [
    "best_dt = results_dt.iloc[0:1,:][['param_models', 'mean_fit_time','mean_score_time', 'param_models__max_depth']]\n",
    "best_dt.reset_index(inplace=True)\n",
    "best_dt['mean_test_score'] = best_dt['mean_test_score'].abs()\n",
    "best_dt"
   ]
  },
  {
   "cell_type": "code",
   "execution_count": 55,
   "metadata": {},
   "outputs": [
    {
     "data": {
      "text/html": [
       "<div>\n",
       "<style scoped>\n",
       "    .dataframe tbody tr th:only-of-type {\n",
       "        vertical-align: middle;\n",
       "    }\n",
       "\n",
       "    .dataframe tbody tr th {\n",
       "        vertical-align: top;\n",
       "    }\n",
       "\n",
       "    .dataframe thead th {\n",
       "        text-align: right;\n",
       "    }\n",
       "</style>\n",
       "<table border=\"1\" class=\"dataframe\">\n",
       "  <thead>\n",
       "    <tr style=\"text-align: right;\">\n",
       "      <th></th>\n",
       "      <th>mean_test_score</th>\n",
       "      <th>param_models</th>\n",
       "      <th>mean_fit_time</th>\n",
       "      <th>mean_score_time</th>\n",
       "      <th>param_models__max_depth</th>\n",
       "    </tr>\n",
       "  </thead>\n",
       "  <tbody>\n",
       "    <tr>\n",
       "      <th>0</th>\n",
       "      <td>1917.567807</td>\n",
       "      <td>LGBMRegressor(random_state=123)</td>\n",
       "      <td>1.020991</td>\n",
       "      <td>0.376346</td>\n",
       "      <td>9</td>\n",
       "    </tr>\n",
       "  </tbody>\n",
       "</table>\n",
       "</div>"
      ],
      "text/plain": [
       "   mean_test_score                     param_models  mean_fit_time  \\\n",
       "0      1917.567807  LGBMRegressor(random_state=123)       1.020991   \n",
       "\n",
       "   mean_score_time  param_models__max_depth  \n",
       "0         0.376346                        9  "
      ]
     },
     "execution_count": 55,
     "metadata": {},
     "output_type": "execute_result"
    }
   ],
   "source": [
    "best_lg = results_lg.iloc[0:1,:][['param_models', 'mean_fit_time','mean_score_time', 'param_models__max_depth']]\n",
    "best_lg.reset_index(inplace=True)\n",
    "best_lg['mean_test_score'] = best_lg['mean_test_score'].abs()\n",
    "best_lg"
   ]
  },
  {
   "cell_type": "code",
   "execution_count": 56,
   "metadata": {},
   "outputs": [
    {
     "name": "stdout",
     "output_type": "stream",
     "text": [
      "RMSE лучшей модели на test:      2113.34\n",
      "Время предсказания лучшей модели:      0.21\n"
     ]
    }
   ],
   "source": [
    "start_time = time.time()\n",
    "predicts = grid_search_dt.predict(X_test)\n",
    "prediction_time = time.time() - start_time\n",
    "scores = root_mean_squared_error(y_test, predicts)\n",
    "print(f'RMSE лучшей модели на test:\\\n",
    "      {scores:.2f}')\n",
    "print(f'Время предсказания лучшей модели:\\\n",
    "      {prediction_time:.2f}')"
   ]
  },
  {
   "cell_type": "code",
   "execution_count": 57,
   "metadata": {},
   "outputs": [
    {
     "data": {
      "text/plain": [
       "5952.400986055897"
      ]
     },
     "execution_count": 57,
     "metadata": {},
     "output_type": "execute_result"
    }
   ],
   "source": [
    "dummy_reg = DummyRegressor(strategy=\"mean\")\n",
    "X_transformed_train = data_preprocessor.fit_transform(X_train)\n",
    "X_transformed_test = data_preprocessor.transform(X_test)\n",
    "dummy_reg.fit(X_transformed_train, y_train)\n",
    "np.mean(dummy_reg.predict(X_transformed_test))"
   ]
  },
  {
   "cell_type": "markdown",
   "metadata": {},
   "source": [
    "### Выводы по анализу моделей"
   ]
  },
  {
   "cell_type": "markdown",
   "metadata": {},
   "source": [
    "Оценены 2 модели:\n",
    "- DecisionTreeRegressor\n",
    "- LGBMRegressor\n",
    "\n",
    "Лучшие результаты оценки на кросс-валидации сведены в таблицы"
   ]
  },
  {
   "cell_type": "markdown",
   "metadata": {},
   "source": [
    "TreeRegressor\n",
    "\n",
    "<div>\n",
    "<style scoped>\n",
    "    .dataframe tbody tr th:only-of-type {\n",
    "        vertical-align: middle;\n",
    "    }\n",
    "\n",
    "    .dataframe tbody tr th {\n",
    "        vertical-align: top;\n",
    "    }\n",
    "\n",
    "    .dataframe thead th {\n",
    "        text-align: right;\n",
    "    }\n",
    "</style>\n",
    "<table border=\"1\" class=\"dataframe\">\n",
    "  <thead>\n",
    "    <tr style=\"text-align: right;\">\n",
    "      <th></th>\n",
    "      <th>mean_test_score</th>\n",
    "      <th>param_models</th>\n",
    "      <th>mean_fit_time</th>\n",
    "      <th>mean_score_time</th>\n",
    "      <th>param_models__max_depth</th>\n",
    "    </tr>\n",
    "  </thead>\n",
    "  <tbody>\n",
    "    <tr>\n",
    "      <th>0</th>\n",
    "      <td>2121.791454</td>\n",
    "      <td>DecisionTreeRegressor(random_state=123)</td>\n",
    "      <td>0.82026</td>\n",
    "      <td>0.187493</td>\n",
    "      <td>10</td>\n",
    "    </tr>\n",
    "  </tbody>\n",
    "</table>\n",
    "</div>"
   ]
  },
  {
   "cell_type": "markdown",
   "metadata": {},
   "source": [
    "LGBMRegressor\n",
    "<div>\n",
    "<style scoped>\n",
    "    .dataframe tbody tr th:only-of-type {\n",
    "        vertical-align: middle;\n",
    "    }\n",
    "\n",
    "    .dataframe tbody tr th {\n",
    "        vertical-align: top;\n",
    "    }\n",
    "\n",
    "    .dataframe thead th {\n",
    "        text-align: right;\n",
    "    }\n",
    "</style>\n",
    "<table border=\"1\" class=\"dataframe\">\n",
    "  <thead>\n",
    "    <tr style=\"text-align: right;\">\n",
    "      <th></th>\n",
    "      <th>mean_test_score</th>\n",
    "      <th>param_models</th>\n",
    "      <th>mean_fit_time</th>\n",
    "      <th>mean_score_time</th>\n",
    "      <th>param_models__max_depth</th>\n",
    "    </tr>\n",
    "  </thead>\n",
    "  <tbody>\n",
    "    <tr>\n",
    "      <th>0</th>\n",
    "      <td>1917.567807</td>\n",
    "      <td>LGBMRegressor(random_state=123)</td>\n",
    "      <td>1.150503</td>\n",
    "      <td>0.380913</td>\n",
    "      <td>9</td>\n",
    "    </tr>\n",
    "  </tbody>\n",
    "</table>\n",
    "</div>"
   ]
  },
  {
   "cell_type": "markdown",
   "metadata": {},
   "source": [
    "## Выводы\n",
    "\n",
    "### Предобработка\n",
    "1) Получен датафрейм размерностью (354369,16)\n",
    "\n",
    "2) Категории VehicleType, Gearbox, Model, FuelType, Repaired имеют пропуски данных, которые будут заполняться в пайплайне наиболее частым значением.\n",
    "\n",
    "3) Удалены следующие неиформативные признаки \n",
    "- DateCrawled\t\n",
    "- RegistrationMonth\n",
    "- DateCreated\n",
    "- NumberOfPictures\t\n",
    "- LastSeen\n",
    "- PostalCode\n",
    "\n",
    "### Исследовательский анализ\n",
    "1. столбец `DateCrawled` \n",
    "    - удаляем как неинформативный\n",
    "    - отмечаем год 2016 как верхнюю границу диапазона\n",
    "2. столбец `Price` \n",
    "    - целевой признак \n",
    "    - среднее значение цены 4416 долларов\n",
    "    - max значение 20000 долларов\n",
    "    - удалили все значение (~12k) цены меньше 10 долларов \n",
    "3. столбец `VehicleType` \n",
    "    - категориальный признак\n",
    "    - 8 классов\n",
    "    - отсутсвующие значения заполним в Пайплайне\n",
    "4. столбец `RegistrationYear`\n",
    "    - ранговый признак\n",
    "    - удалили все значения (8214) менше 1910 и больше 2016 года\n",
    "5. столбец `Gearbox`\n",
    "    - бинарный признак\n",
    "    - отсутсвующие значения заполним в Пайплайне\n",
    "6. столбец `Power`\n",
    "    - ранговый признак\n",
    "    - удалили значения (2342) мощности меньше 50 и больше 1000 л.с.\n",
    "7. столбец `Model`\n",
    "    - категориальный признак \n",
    "    - отсутсвующие значения заполним в Пайплайне\n",
    "8. столбец `Kilometer`\n",
    "    - ранговый признак\n",
    "9. столбец `FuelType`\n",
    "    - категориальный признак \n",
    "    - отсутсвующие значения заполним в Пайплайне\n",
    "10. столбец `Brand`\n",
    "    - категориальный признак \n",
    "    - отсутсвующие значения заполним в Пайплайне\n",
    "11. столбец `Repaired`\n",
    "    - бинарный признак\n",
    "    - отсутсвующие значения заполним в Пайплайне\n",
    "    \n",
    "    \n",
    "### Подготовка данных\n",
    "\n",
    "1. Распределены признаки для кодирования\n",
    "- ОRD = ['VehicleType', 'Gearbox', 'Model', 'FuelType', 'Repaired', 'Brand','Kilometer', 'RegistrationYear', 'Power']\n",
    "2. Построен Пайплайн с перебором параметров для двух моделей\n",
    "- DecisionTreeRegressor\n",
    "- LGBMRegressor\n",
    "3. Проведено обучение валидационной выборки методом randomize_search"
   ]
  },
  {
   "cell_type": "markdown",
   "metadata": {},
   "source": [
    "###  Анализ моделей\n",
    "1.Оценены 2 модели:\n",
    "- DecisionTreeRegressor\n",
    "- LGBMRegressor\n",
    "\n",
    "TreeRegressor\n",
    "\n",
    "<div>\n",
    "<style scoped>\n",
    "    .dataframe tbody tr th:only-of-type {\n",
    "        vertical-align: middle;\n",
    "    }\n",
    "\n",
    "    .dataframe tbody tr th {\n",
    "        vertical-align: top;\n",
    "    }\n",
    "\n",
    "    .dataframe thead th {\n",
    "        text-align: right;\n",
    "    }\n",
    "</style>\n",
    "<table border=\"1\" class=\"dataframe\">\n",
    "  <thead>\n",
    "    <tr style=\"text-align: right;\">\n",
    "      <th></th>\n",
    "      <th>mean_test_score</th>\n",
    "      <th>param_models</th>\n",
    "      <th>mean_fit_time</th>\n",
    "      <th>mean_score_time</th>\n",
    "      <th>param_models__max_depth</th>\n",
    "    </tr>\n",
    "  </thead>\n",
    "  <tbody>\n",
    "    <tr>\n",
    "      <th>0</th>\n",
    "      <td>2121.791454</td>\n",
    "      <td>DecisionTreeRegressor(random_state=123)</td>\n",
    "      <td>0.82026</td>\n",
    "      <td>0.187493</td>\n",
    "      <td>10</td>\n",
    "    </tr>\n",
    "  </tbody>\n",
    "</table>\n",
    "</div>"
   ]
  },
  {
   "cell_type": "markdown",
   "metadata": {},
   "source": [
    "LGBMRegressor\n",
    "<div>\n",
    "<style scoped>\n",
    "    .dataframe tbody tr th:only-of-type {\n",
    "        vertical-align: middle;\n",
    "    }\n",
    "\n",
    "    .dataframe tbody tr th {\n",
    "        vertical-align: top;\n",
    "    }\n",
    "\n",
    "    .dataframe thead th {\n",
    "        text-align: right;\n",
    "    }\n",
    "</style>\n",
    "<table border=\"1\" class=\"dataframe\">\n",
    "  <thead>\n",
    "    <tr style=\"text-align: right;\">\n",
    "      <th></th>\n",
    "      <th>mean_test_score</th>\n",
    "      <th>param_models</th>\n",
    "      <th>mean_fit_time</th>\n",
    "      <th>mean_score_time</th>\n",
    "      <th>param_models__max_depth</th>\n",
    "    </tr>\n",
    "  </thead>\n",
    "  <tbody>\n",
    "    <tr>\n",
    "      <th>0</th>\n",
    "      <td>1917.567807</td>\n",
    "      <td>LGBMRegressor(random_state=123)</td>\n",
    "      <td>1.150503</td>\n",
    "      <td>0.380913</td>\n",
    "      <td>9</td>\n",
    "    </tr>\n",
    "  </tbody>\n",
    "</table>\n",
    "</div>"
   ]
  },
  {
   "cell_type": "markdown",
   "metadata": {},
   "source": [
    "2.Результаты работы модели DummyRegressor\n",
    "- стратегия 'mean'\n",
    "- RMSE кросс-валидации:    5952.40"
   ]
  },
  {
   "cell_type": "markdown",
   "metadata": {},
   "source": [
    "### Общий вывод \n",
    "Оптимальным решением соответствующим требованием клиента\n",
    "- RMSE < 2500\n",
    "- самое быстрое время обучения и предсказания\n",
    "\n",
    "является модель DecisionTreeRegressor\n",
    "- глубина ветвления 10\n",
    "- RMSE = 2121\n",
    "- самое быстрое время обучения 0,70 для моделей со сходными метриками "
   ]
  }
 ],
 "metadata": {
  "ExecuteTimeLog": [
   {
    "duration": 1747,
    "start_time": "2024-11-16T08:41:20.915Z"
   },
   {
    "duration": 2718,
    "start_time": "2024-11-16T08:42:28.401Z"
   },
   {
    "duration": 6818,
    "start_time": "2024-11-16T08:42:42.255Z"
   },
   {
    "duration": 18,
    "start_time": "2024-11-16T08:46:28.266Z"
   },
   {
    "duration": 14355,
    "start_time": "2024-11-16T08:48:24.266Z"
   },
   {
    "duration": 66796,
    "start_time": "2024-11-16T08:49:45.546Z"
   },
   {
    "duration": 19,
    "start_time": "2024-11-16T08:53:13.259Z"
   },
   {
    "duration": 11,
    "start_time": "2024-11-16T08:53:15.875Z"
   },
   {
    "duration": 2031,
    "start_time": "2024-11-16T08:53:34.109Z"
   },
   {
    "duration": 3,
    "start_time": "2024-11-16T08:53:42.212Z"
   },
   {
    "duration": 1325,
    "start_time": "2024-11-16T08:53:44.867Z"
   },
   {
    "duration": 6,
    "start_time": "2024-11-16T09:07:28.904Z"
   },
   {
    "duration": 214,
    "start_time": "2024-11-16T09:07:33.398Z"
   },
   {
    "duration": 525,
    "start_time": "2024-11-16T09:08:20.044Z"
   },
   {
    "duration": 530,
    "start_time": "2024-11-16T09:08:37.692Z"
   },
   {
    "duration": 4,
    "start_time": "2024-11-16T09:08:56.677Z"
   },
   {
    "duration": 470,
    "start_time": "2024-11-16T09:09:05.644Z"
   },
   {
    "duration": 43,
    "start_time": "2024-11-16T09:09:50.868Z"
   },
   {
    "duration": 5,
    "start_time": "2024-11-16T09:10:31.668Z"
   },
   {
    "duration": 715,
    "start_time": "2024-11-16T09:10:54.716Z"
   },
   {
    "duration": 18,
    "start_time": "2024-11-16T09:11:14.517Z"
   },
   {
    "duration": 608,
    "start_time": "2024-11-16T09:14:42.303Z"
   },
   {
    "duration": 11,
    "start_time": "2024-11-16T09:22:43.684Z"
   },
   {
    "duration": 53,
    "start_time": "2024-11-16T09:23:04.490Z"
   },
   {
    "duration": 665,
    "start_time": "2024-11-16T09:23:54.699Z"
   },
   {
    "duration": 6,
    "start_time": "2024-11-16T09:24:16.331Z"
   },
   {
    "duration": 7,
    "start_time": "2024-11-16T09:24:46.523Z"
   },
   {
    "duration": 47,
    "start_time": "2024-11-16T09:25:34.451Z"
   },
   {
    "duration": 411,
    "start_time": "2024-11-16T09:25:58.515Z"
   },
   {
    "duration": 594,
    "start_time": "2024-11-16T09:26:18.988Z"
   },
   {
    "duration": 17,
    "start_time": "2024-11-16T09:26:58.740Z"
   },
   {
    "duration": 6,
    "start_time": "2024-11-16T09:27:39.348Z"
   },
   {
    "duration": 43,
    "start_time": "2024-11-16T09:27:45.589Z"
   },
   {
    "duration": 540,
    "start_time": "2024-11-16T09:28:03.604Z"
   },
   {
    "duration": 34800,
    "start_time": "2024-11-16T09:29:51.648Z"
   },
   {
    "duration": 5,
    "start_time": "2024-11-16T09:30:26.451Z"
   },
   {
    "duration": 7,
    "start_time": "2024-11-16T09:30:26.458Z"
   },
   {
    "duration": 1075,
    "start_time": "2024-11-16T09:30:26.468Z"
   },
   {
    "duration": 3,
    "start_time": "2024-11-16T09:30:27.546Z"
   },
   {
    "duration": 199,
    "start_time": "2024-11-16T09:30:27.551Z"
   },
   {
    "duration": 468,
    "start_time": "2024-11-16T09:30:27.753Z"
   },
   {
    "duration": 507,
    "start_time": "2024-11-16T09:30:28.223Z"
   },
   {
    "duration": 4,
    "start_time": "2024-11-16T09:30:28.732Z"
   },
   {
    "duration": 512,
    "start_time": "2024-11-16T09:30:28.738Z"
   },
   {
    "duration": 34,
    "start_time": "2024-11-16T09:30:29.254Z"
   },
   {
    "duration": 4,
    "start_time": "2024-11-16T09:30:29.297Z"
   },
   {
    "duration": 657,
    "start_time": "2024-11-16T09:30:29.303Z"
   },
   {
    "duration": 36,
    "start_time": "2024-11-16T09:30:29.963Z"
   },
   {
    "duration": 657,
    "start_time": "2024-11-16T09:30:30.002Z"
   },
   {
    "duration": 12,
    "start_time": "2024-11-16T09:30:30.662Z"
   },
   {
    "duration": 63,
    "start_time": "2024-11-16T09:30:30.676Z"
   },
   {
    "duration": 674,
    "start_time": "2024-11-16T09:30:30.740Z"
   },
   {
    "duration": 7,
    "start_time": "2024-11-16T09:30:31.415Z"
   },
   {
    "duration": 14,
    "start_time": "2024-11-16T09:30:31.424Z"
   },
   {
    "duration": 74,
    "start_time": "2024-11-16T09:30:31.440Z"
   },
   {
    "duration": 511,
    "start_time": "2024-11-16T09:30:31.516Z"
   },
   {
    "duration": 651,
    "start_time": "2024-11-16T09:30:32.030Z"
   },
   {
    "duration": 28,
    "start_time": "2024-11-16T09:30:32.684Z"
   },
   {
    "duration": 12,
    "start_time": "2024-11-16T09:30:37.309Z"
   },
   {
    "duration": 38,
    "start_time": "2024-11-16T09:30:39.333Z"
   },
   {
    "duration": 498,
    "start_time": "2024-11-16T09:30:42.174Z"
   },
   {
    "duration": 29,
    "start_time": "2024-11-16T09:32:48.198Z"
   },
   {
    "duration": 596,
    "start_time": "2024-11-16T09:32:51.270Z"
   },
   {
    "duration": 671,
    "start_time": "2024-11-16T09:33:12.135Z"
   },
   {
    "duration": 48,
    "start_time": "2024-11-16T09:34:30.587Z"
   },
   {
    "duration": 31,
    "start_time": "2024-11-16T09:34:40.430Z"
   },
   {
    "duration": 590,
    "start_time": "2024-11-16T09:35:01.886Z"
   },
   {
    "duration": 4,
    "start_time": "2024-11-16T09:35:19.151Z"
   },
   {
    "duration": 4,
    "start_time": "2024-11-16T09:35:24.950Z"
   },
   {
    "duration": 5,
    "start_time": "2024-11-16T09:35:34.169Z"
   },
   {
    "duration": 3,
    "start_time": "2024-11-16T09:35:41.054Z"
   },
   {
    "duration": 3,
    "start_time": "2024-11-16T09:35:48.850Z"
   },
   {
    "duration": 5,
    "start_time": "2024-11-16T09:36:30.608Z"
   },
   {
    "duration": 137,
    "start_time": "2024-11-16T09:36:41.967Z"
   },
   {
    "duration": 4,
    "start_time": "2024-11-16T09:36:49.447Z"
   },
   {
    "duration": 3,
    "start_time": "2024-11-16T09:37:02.119Z"
   },
   {
    "duration": 73,
    "start_time": "2024-11-16T09:37:10.772Z"
   },
   {
    "duration": 398677,
    "start_time": "2024-11-16T09:37:18.759Z"
   },
   {
    "duration": 4,
    "start_time": "2024-11-16T09:44:18.050Z"
   },
   {
    "duration": 3,
    "start_time": "2024-11-16T09:44:19.714Z"
   },
   {
    "duration": 87,
    "start_time": "2024-11-16T09:44:21.923Z"
   },
   {
    "duration": 886575,
    "start_time": "2024-11-16T09:44:23.747Z"
   },
   {
    "duration": 4,
    "start_time": "2024-11-16T09:59:12.131Z"
   },
   {
    "duration": 4,
    "start_time": "2024-11-16T09:59:15.058Z"
   },
   {
    "duration": 85,
    "start_time": "2024-11-16T09:59:16.667Z"
   },
   {
    "duration": 62048,
    "start_time": "2024-11-16T09:59:18.381Z"
   },
   {
    "duration": 0,
    "start_time": "2024-11-16T10:00:20.431Z"
   },
   {
    "duration": 5,
    "start_time": "2024-11-16T10:00:22.212Z"
   },
   {
    "duration": 3,
    "start_time": "2024-11-16T10:00:38.714Z"
   },
   {
    "duration": 91,
    "start_time": "2024-11-16T10:00:40.635Z"
   },
   {
    "duration": 96462,
    "start_time": "2024-11-16T10:00:42.950Z"
   },
   {
    "duration": 0,
    "start_time": "2024-11-16T10:02:19.415Z"
   },
   {
    "duration": 8,
    "start_time": "2024-11-16T10:02:20.902Z"
   },
   {
    "duration": 3,
    "start_time": "2024-11-16T10:03:12.055Z"
   },
   {
    "duration": 21,
    "start_time": "2024-11-16T10:03:12.060Z"
   },
   {
    "duration": 29,
    "start_time": "2024-11-16T10:03:12.083Z"
   },
   {
    "duration": 1048,
    "start_time": "2024-11-16T10:03:12.113Z"
   },
   {
    "duration": 3,
    "start_time": "2024-11-16T10:03:13.163Z"
   },
   {
    "duration": 190,
    "start_time": "2024-11-16T10:03:13.168Z"
   },
   {
    "duration": 420,
    "start_time": "2024-11-16T10:03:13.360Z"
   },
   {
    "duration": 470,
    "start_time": "2024-11-16T10:03:13.782Z"
   },
   {
    "duration": 4,
    "start_time": "2024-11-16T10:03:14.253Z"
   },
   {
    "duration": 467,
    "start_time": "2024-11-16T10:03:14.259Z"
   },
   {
    "duration": 25,
    "start_time": "2024-11-16T10:03:14.728Z"
   },
   {
    "duration": 3,
    "start_time": "2024-11-16T10:03:14.755Z"
   },
   {
    "duration": 551,
    "start_time": "2024-11-16T10:03:14.760Z"
   },
   {
    "duration": 18,
    "start_time": "2024-11-16T10:03:15.314Z"
   },
   {
    "duration": 631,
    "start_time": "2024-11-16T10:03:15.334Z"
   },
   {
    "duration": 8,
    "start_time": "2024-11-16T10:03:15.967Z"
   },
   {
    "duration": 55,
    "start_time": "2024-11-16T10:03:15.977Z"
   },
   {
    "duration": 677,
    "start_time": "2024-11-16T10:03:16.033Z"
   },
   {
    "duration": 8,
    "start_time": "2024-11-16T10:03:16.712Z"
   },
   {
    "duration": 12,
    "start_time": "2024-11-16T10:03:16.722Z"
   },
   {
    "duration": 37,
    "start_time": "2024-11-16T10:03:16.736Z"
   },
   {
    "duration": 472,
    "start_time": "2024-11-16T10:03:16.775Z"
   },
   {
    "duration": 648,
    "start_time": "2024-11-16T10:03:17.249Z"
   },
   {
    "duration": 28,
    "start_time": "2024-11-16T10:03:17.906Z"
   },
   {
    "duration": 14,
    "start_time": "2024-11-16T10:03:17.936Z"
   },
   {
    "duration": 55,
    "start_time": "2024-11-16T10:03:17.952Z"
   },
   {
    "duration": 540,
    "start_time": "2024-11-16T10:03:18.009Z"
   },
   {
    "duration": 30,
    "start_time": "2024-11-16T10:03:18.551Z"
   },
   {
    "duration": 462,
    "start_time": "2024-11-16T10:03:18.583Z"
   },
   {
    "duration": 692,
    "start_time": "2024-11-16T10:03:19.046Z"
   },
   {
    "duration": 32,
    "start_time": "2024-11-16T10:03:19.739Z"
   },
   {
    "duration": 611,
    "start_time": "2024-11-16T10:03:19.773Z"
   },
   {
    "duration": 19,
    "start_time": "2024-11-16T10:03:20.386Z"
   },
   {
    "duration": 6,
    "start_time": "2024-11-16T10:03:20.407Z"
   },
   {
    "duration": 8,
    "start_time": "2024-11-16T10:03:20.415Z"
   },
   {
    "duration": 21,
    "start_time": "2024-11-16T10:03:20.425Z"
   },
   {
    "duration": 28,
    "start_time": "2024-11-16T10:03:20.448Z"
   },
   {
    "duration": 5,
    "start_time": "2024-11-16T10:03:20.478Z"
   },
   {
    "duration": 8,
    "start_time": "2024-11-16T10:03:20.485Z"
   },
   {
    "duration": 13,
    "start_time": "2024-11-16T10:03:20.495Z"
   },
   {
    "duration": 87,
    "start_time": "2024-11-16T10:03:23.651Z"
   },
   {
    "duration": 272185,
    "start_time": "2024-11-16T10:03:26.126Z"
   },
   {
    "duration": 3,
    "start_time": "2024-11-16T10:08:40.231Z"
   },
   {
    "duration": 9,
    "start_time": "2024-11-16T10:08:40.236Z"
   },
   {
    "duration": 10,
    "start_time": "2024-11-16T10:08:40.247Z"
   },
   {
    "duration": 1005,
    "start_time": "2024-11-16T10:08:40.258Z"
   },
   {
    "duration": 4,
    "start_time": "2024-11-16T10:08:41.265Z"
   },
   {
    "duration": 199,
    "start_time": "2024-11-16T10:08:41.270Z"
   },
   {
    "duration": 455,
    "start_time": "2024-11-16T10:08:41.471Z"
   },
   {
    "duration": 485,
    "start_time": "2024-11-16T10:08:41.928Z"
   },
   {
    "duration": 6,
    "start_time": "2024-11-16T10:08:42.415Z"
   },
   {
    "duration": 482,
    "start_time": "2024-11-16T10:08:42.425Z"
   },
   {
    "duration": 28,
    "start_time": "2024-11-16T10:08:42.910Z"
   },
   {
    "duration": 4,
    "start_time": "2024-11-16T10:08:42.939Z"
   },
   {
    "duration": 742,
    "start_time": "2024-11-16T10:08:42.945Z"
   },
   {
    "duration": 34,
    "start_time": "2024-11-16T10:08:43.689Z"
   },
   {
    "duration": 650,
    "start_time": "2024-11-16T10:08:43.725Z"
   },
   {
    "duration": 29,
    "start_time": "2024-11-16T10:08:44.376Z"
   },
   {
    "duration": 4,
    "start_time": "2024-11-16T10:08:44.409Z"
   },
   {
    "duration": 693,
    "start_time": "2024-11-16T10:08:44.414Z"
   },
   {
    "duration": 10,
    "start_time": "2024-11-16T10:08:45.112Z"
   },
   {
    "duration": 11,
    "start_time": "2024-11-16T10:08:45.126Z"
   },
   {
    "duration": 40,
    "start_time": "2024-11-16T10:08:45.139Z"
   },
   {
    "duration": 473,
    "start_time": "2024-11-16T10:08:45.180Z"
   },
   {
    "duration": 649,
    "start_time": "2024-11-16T10:08:45.655Z"
   },
   {
    "duration": 21,
    "start_time": "2024-11-16T10:08:46.306Z"
   },
   {
    "duration": 12,
    "start_time": "2024-11-16T10:08:46.329Z"
   },
   {
    "duration": 65,
    "start_time": "2024-11-16T10:08:46.343Z"
   },
   {
    "duration": 538,
    "start_time": "2024-11-16T10:08:46.417Z"
   },
   {
    "duration": 29,
    "start_time": "2024-11-16T10:08:46.956Z"
   },
   {
    "duration": 463,
    "start_time": "2024-11-16T10:08:47.005Z"
   },
   {
    "duration": 739,
    "start_time": "2024-11-16T10:08:47.469Z"
   },
   {
    "duration": 39,
    "start_time": "2024-11-16T10:08:48.209Z"
   },
   {
    "duration": 639,
    "start_time": "2024-11-16T10:08:48.251Z"
   },
   {
    "duration": 9,
    "start_time": "2024-11-16T10:08:48.897Z"
   },
   {
    "duration": 16,
    "start_time": "2024-11-16T10:08:48.910Z"
   },
   {
    "duration": 8,
    "start_time": "2024-11-16T10:08:48.928Z"
   },
   {
    "duration": 9,
    "start_time": "2024-11-16T10:08:48.938Z"
   },
   {
    "duration": 22,
    "start_time": "2024-11-16T10:08:48.949Z"
   },
   {
    "duration": 4,
    "start_time": "2024-11-16T10:08:48.973Z"
   },
   {
    "duration": 6,
    "start_time": "2024-11-16T10:08:48.978Z"
   },
   {
    "duration": 6,
    "start_time": "2024-11-16T10:08:48.986Z"
   },
   {
    "duration": 108,
    "start_time": "2024-11-16T10:08:48.994Z"
   },
   {
    "duration": 276922,
    "start_time": "2024-11-16T10:08:51.769Z"
   },
   {
    "duration": 4,
    "start_time": "2024-11-16T10:15:38.876Z"
   },
   {
    "duration": 3,
    "start_time": "2024-11-16T10:16:02.645Z"
   },
   {
    "duration": 27,
    "start_time": "2024-11-16T10:16:02.650Z"
   },
   {
    "duration": 44,
    "start_time": "2024-11-16T10:16:02.679Z"
   },
   {
    "duration": 956,
    "start_time": "2024-11-16T10:16:02.726Z"
   },
   {
    "duration": 3,
    "start_time": "2024-11-16T10:16:03.683Z"
   },
   {
    "duration": 198,
    "start_time": "2024-11-16T10:16:03.688Z"
   },
   {
    "duration": 474,
    "start_time": "2024-11-16T10:16:03.888Z"
   },
   {
    "duration": 478,
    "start_time": "2024-11-16T10:16:04.363Z"
   },
   {
    "duration": 5,
    "start_time": "2024-11-16T10:16:04.844Z"
   },
   {
    "duration": 511,
    "start_time": "2024-11-16T10:16:04.850Z"
   },
   {
    "duration": 24,
    "start_time": "2024-11-16T10:16:05.363Z"
   },
   {
    "duration": 13,
    "start_time": "2024-11-16T10:16:05.388Z"
   },
   {
    "duration": 574,
    "start_time": "2024-11-16T10:16:05.408Z"
   },
   {
    "duration": 39,
    "start_time": "2024-11-16T10:16:05.983Z"
   },
   {
    "duration": 656,
    "start_time": "2024-11-16T10:16:06.024Z"
   },
   {
    "duration": 37,
    "start_time": "2024-11-16T10:16:06.682Z"
   },
   {
    "duration": 6,
    "start_time": "2024-11-16T10:16:06.725Z"
   },
   {
    "duration": 706,
    "start_time": "2024-11-16T10:16:06.732Z"
   },
   {
    "duration": 8,
    "start_time": "2024-11-16T10:16:07.440Z"
   },
   {
    "duration": 21,
    "start_time": "2024-11-16T10:16:07.450Z"
   },
   {
    "duration": 63,
    "start_time": "2024-11-16T10:16:07.472Z"
   },
   {
    "duration": 719,
    "start_time": "2024-11-16T10:16:07.538Z"
   },
   {
    "duration": 730,
    "start_time": "2024-11-16T10:16:08.259Z"
   },
   {
    "duration": 29,
    "start_time": "2024-11-16T10:16:08.997Z"
   },
   {
    "duration": 14,
    "start_time": "2024-11-16T10:16:09.028Z"
   },
   {
    "duration": 90,
    "start_time": "2024-11-16T10:16:09.044Z"
   },
   {
    "duration": 569,
    "start_time": "2024-11-16T10:16:09.136Z"
   },
   {
    "duration": 37,
    "start_time": "2024-11-16T10:16:09.714Z"
   },
   {
    "duration": 477,
    "start_time": "2024-11-16T10:16:09.752Z"
   },
   {
    "duration": 693,
    "start_time": "2024-11-16T10:16:10.231Z"
   },
   {
    "duration": 34,
    "start_time": "2024-11-16T10:16:10.926Z"
   },
   {
    "duration": 662,
    "start_time": "2024-11-16T10:16:10.962Z"
   },
   {
    "duration": 5,
    "start_time": "2024-11-16T10:16:11.626Z"
   },
   {
    "duration": 20,
    "start_time": "2024-11-16T10:16:11.632Z"
   },
   {
    "duration": 5,
    "start_time": "2024-11-16T10:16:11.654Z"
   },
   {
    "duration": 8,
    "start_time": "2024-11-16T10:16:11.660Z"
   },
   {
    "duration": 3,
    "start_time": "2024-11-16T10:16:11.670Z"
   },
   {
    "duration": 16,
    "start_time": "2024-11-16T10:16:11.675Z"
   },
   {
    "duration": 20,
    "start_time": "2024-11-16T10:16:11.693Z"
   },
   {
    "duration": 6,
    "start_time": "2024-11-16T10:16:11.715Z"
   },
   {
    "duration": 103,
    "start_time": "2024-11-16T10:16:11.723Z"
   },
   {
    "duration": 339932,
    "start_time": "2024-11-16T10:16:14.410Z"
   },
   {
    "duration": 3,
    "start_time": "2024-11-16T10:30:52.655Z"
   },
   {
    "duration": 11,
    "start_time": "2024-11-16T10:30:52.661Z"
   },
   {
    "duration": 30,
    "start_time": "2024-11-16T10:30:52.673Z"
   },
   {
    "duration": 1037,
    "start_time": "2024-11-16T10:30:52.705Z"
   },
   {
    "duration": 3,
    "start_time": "2024-11-16T10:30:53.744Z"
   },
   {
    "duration": 201,
    "start_time": "2024-11-16T10:30:53.749Z"
   },
   {
    "duration": 437,
    "start_time": "2024-11-16T10:30:53.952Z"
   },
   {
    "duration": 502,
    "start_time": "2024-11-16T10:30:54.391Z"
   },
   {
    "duration": 7,
    "start_time": "2024-11-16T10:30:54.898Z"
   },
   {
    "duration": 503,
    "start_time": "2024-11-16T10:30:54.906Z"
   },
   {
    "duration": 38,
    "start_time": "2024-11-16T10:30:55.411Z"
   },
   {
    "duration": 4,
    "start_time": "2024-11-16T10:30:55.450Z"
   },
   {
    "duration": 619,
    "start_time": "2024-11-16T10:30:55.456Z"
   },
   {
    "duration": 30,
    "start_time": "2024-11-16T10:30:56.078Z"
   },
   {
    "duration": 675,
    "start_time": "2024-11-16T10:30:56.113Z"
   },
   {
    "duration": 21,
    "start_time": "2024-11-16T10:30:56.806Z"
   },
   {
    "duration": 35,
    "start_time": "2024-11-16T10:30:56.829Z"
   },
   {
    "duration": 698,
    "start_time": "2024-11-16T10:30:56.866Z"
   },
   {
    "duration": 6,
    "start_time": "2024-11-16T10:30:57.566Z"
   },
   {
    "duration": 6,
    "start_time": "2024-11-16T10:30:57.575Z"
   },
   {
    "duration": 51,
    "start_time": "2024-11-16T10:30:57.597Z"
   },
   {
    "duration": 530,
    "start_time": "2024-11-16T10:30:57.650Z"
   },
   {
    "duration": 748,
    "start_time": "2024-11-16T10:30:58.181Z"
   },
   {
    "duration": 18,
    "start_time": "2024-11-16T10:30:58.932Z"
   },
   {
    "duration": 31,
    "start_time": "2024-11-16T10:30:58.952Z"
   },
   {
    "duration": 47,
    "start_time": "2024-11-16T10:30:58.985Z"
   },
   {
    "duration": 557,
    "start_time": "2024-11-16T10:30:59.036Z"
   },
   {
    "duration": 45,
    "start_time": "2024-11-16T10:30:59.601Z"
   },
   {
    "duration": 499,
    "start_time": "2024-11-16T10:30:59.647Z"
   },
   {
    "duration": 894,
    "start_time": "2024-11-16T10:31:00.148Z"
   },
   {
    "duration": 31,
    "start_time": "2024-11-16T10:31:01.044Z"
   },
   {
    "duration": 648,
    "start_time": "2024-11-16T10:31:01.077Z"
   },
   {
    "duration": 5,
    "start_time": "2024-11-16T10:31:01.726Z"
   },
   {
    "duration": 30,
    "start_time": "2024-11-16T10:31:01.733Z"
   },
   {
    "duration": 29,
    "start_time": "2024-11-16T10:31:01.764Z"
   },
   {
    "duration": 27,
    "start_time": "2024-11-16T10:31:01.795Z"
   },
   {
    "duration": 45,
    "start_time": "2024-11-16T10:31:01.824Z"
   },
   {
    "duration": 43,
    "start_time": "2024-11-16T10:31:01.871Z"
   },
   {
    "duration": 15,
    "start_time": "2024-11-16T10:31:01.916Z"
   },
   {
    "duration": 17,
    "start_time": "2024-11-16T10:31:01.932Z"
   },
   {
    "duration": 0,
    "start_time": "2024-11-16T10:31:01.951Z"
   },
   {
    "duration": 0,
    "start_time": "2024-11-16T10:31:01.953Z"
   },
   {
    "duration": 4,
    "start_time": "2024-11-16T10:31:15.885Z"
   },
   {
    "duration": 4,
    "start_time": "2024-11-16T10:31:21.324Z"
   },
   {
    "duration": 5,
    "start_time": "2024-11-16T10:31:23.011Z"
   },
   {
    "duration": 89,
    "start_time": "2024-11-16T10:31:24.924Z"
   },
   {
    "duration": 883676,
    "start_time": "2024-11-16T10:31:26.948Z"
   },
   {
    "duration": 10,
    "start_time": "2024-11-16T10:46:21.972Z"
   },
   {
    "duration": 3,
    "start_time": "2024-11-16T10:47:19.975Z"
   },
   {
    "duration": 7,
    "start_time": "2024-11-16T10:47:19.980Z"
   },
   {
    "duration": 3,
    "start_time": "2024-11-16T10:47:19.989Z"
   },
   {
    "duration": 1016,
    "start_time": "2024-11-16T10:47:19.995Z"
   },
   {
    "duration": 10,
    "start_time": "2024-11-16T10:47:21.020Z"
   },
   {
    "duration": 191,
    "start_time": "2024-11-16T10:47:21.032Z"
   },
   {
    "duration": 438,
    "start_time": "2024-11-16T10:47:21.225Z"
   },
   {
    "duration": 479,
    "start_time": "2024-11-16T10:47:21.665Z"
   },
   {
    "duration": 4,
    "start_time": "2024-11-16T10:47:22.146Z"
   },
   {
    "duration": 502,
    "start_time": "2024-11-16T10:47:22.153Z"
   },
   {
    "duration": 54,
    "start_time": "2024-11-16T10:47:22.657Z"
   },
   {
    "duration": 5,
    "start_time": "2024-11-16T10:47:22.720Z"
   },
   {
    "duration": 567,
    "start_time": "2024-11-16T10:47:22.726Z"
   },
   {
    "duration": 24,
    "start_time": "2024-11-16T10:47:23.301Z"
   },
   {
    "duration": 709,
    "start_time": "2024-11-16T10:47:23.327Z"
   },
   {
    "duration": 10,
    "start_time": "2024-11-16T10:47:24.038Z"
   },
   {
    "duration": 59,
    "start_time": "2024-11-16T10:47:24.049Z"
   },
   {
    "duration": 721,
    "start_time": "2024-11-16T10:47:24.110Z"
   },
   {
    "duration": 9,
    "start_time": "2024-11-16T10:47:24.833Z"
   },
   {
    "duration": 9,
    "start_time": "2024-11-16T10:47:24.843Z"
   },
   {
    "duration": 57,
    "start_time": "2024-11-16T10:47:24.853Z"
   },
   {
    "duration": 537,
    "start_time": "2024-11-16T10:47:24.918Z"
   },
   {
    "duration": 660,
    "start_time": "2024-11-16T10:47:25.457Z"
   },
   {
    "duration": 22,
    "start_time": "2024-11-16T10:47:26.118Z"
   },
   {
    "duration": 13,
    "start_time": "2024-11-16T10:47:26.142Z"
   },
   {
    "duration": 67,
    "start_time": "2024-11-16T10:47:26.157Z"
   },
   {
    "duration": 562,
    "start_time": "2024-11-16T10:47:26.228Z"
   },
   {
    "duration": 51,
    "start_time": "2024-11-16T10:47:26.794Z"
   },
   {
    "duration": 499,
    "start_time": "2024-11-16T10:47:26.847Z"
   },
   {
    "duration": 699,
    "start_time": "2024-11-16T10:47:27.348Z"
   },
   {
    "duration": 32,
    "start_time": "2024-11-16T10:47:28.049Z"
   },
   {
    "duration": 606,
    "start_time": "2024-11-16T10:47:28.083Z"
   },
   {
    "duration": 14,
    "start_time": "2024-11-16T10:47:28.699Z"
   },
   {
    "duration": 11,
    "start_time": "2024-11-16T10:47:28.716Z"
   },
   {
    "duration": 8,
    "start_time": "2024-11-16T10:47:28.729Z"
   },
   {
    "duration": 5,
    "start_time": "2024-11-16T10:47:28.739Z"
   },
   {
    "duration": 14,
    "start_time": "2024-11-16T10:47:28.745Z"
   },
   {
    "duration": 12,
    "start_time": "2024-11-16T10:47:28.761Z"
   },
   {
    "duration": 6,
    "start_time": "2024-11-16T10:47:28.774Z"
   },
   {
    "duration": 4,
    "start_time": "2024-11-16T10:47:28.782Z"
   },
   {
    "duration": 4,
    "start_time": "2024-11-16T10:47:28.788Z"
   },
   {
    "duration": 92,
    "start_time": "2024-11-16T10:47:28.793Z"
   },
   {
    "duration": 552242,
    "start_time": "2024-11-16T10:47:30.988Z"
   },
   {
    "duration": 4,
    "start_time": "2024-11-16T10:57:05.872Z"
   },
   {
    "duration": 3,
    "start_time": "2024-11-16T10:57:07.887Z"
   },
   {
    "duration": 1263271,
    "start_time": "2024-11-16T10:57:10.561Z"
   },
   {
    "duration": 0,
    "start_time": "2024-11-16T11:18:13.834Z"
   },
   {
    "duration": 2,
    "start_time": "2024-11-16T11:18:50.110Z"
   },
   {
    "duration": 11,
    "start_time": "2024-11-16T11:18:50.114Z"
   },
   {
    "duration": 21,
    "start_time": "2024-11-16T11:18:50.126Z"
   },
   {
    "duration": 2108,
    "start_time": "2024-11-16T11:18:50.148Z"
   },
   {
    "duration": 3,
    "start_time": "2024-11-16T11:18:52.258Z"
   },
   {
    "duration": 179,
    "start_time": "2024-11-16T11:18:52.262Z"
   },
   {
    "duration": 410,
    "start_time": "2024-11-16T11:18:52.443Z"
   },
   {
    "duration": 456,
    "start_time": "2024-11-16T11:18:52.855Z"
   },
   {
    "duration": 4,
    "start_time": "2024-11-16T11:18:53.312Z"
   },
   {
    "duration": 432,
    "start_time": "2024-11-16T11:18:53.318Z"
   },
   {
    "duration": 24,
    "start_time": "2024-11-16T11:18:53.752Z"
   },
   {
    "duration": 4,
    "start_time": "2024-11-16T11:18:53.777Z"
   },
   {
    "duration": 575,
    "start_time": "2024-11-16T11:18:53.783Z"
   },
   {
    "duration": 18,
    "start_time": "2024-11-16T11:18:54.361Z"
   },
   {
    "duration": 869,
    "start_time": "2024-11-16T11:18:54.380Z"
   },
   {
    "duration": 9,
    "start_time": "2024-11-16T11:18:55.251Z"
   },
   {
    "duration": 57,
    "start_time": "2024-11-16T11:18:55.262Z"
   },
   {
    "duration": 658,
    "start_time": "2024-11-16T11:18:55.321Z"
   },
   {
    "duration": 24,
    "start_time": "2024-11-16T11:18:55.981Z"
   },
   {
    "duration": 7,
    "start_time": "2024-11-16T11:18:56.010Z"
   },
   {
    "duration": 67,
    "start_time": "2024-11-16T11:18:56.019Z"
   },
   {
    "duration": 461,
    "start_time": "2024-11-16T11:18:56.087Z"
   },
   {
    "duration": 632,
    "start_time": "2024-11-16T11:18:56.550Z"
   },
   {
    "duration": 34,
    "start_time": "2024-11-16T11:18:57.184Z"
   },
   {
    "duration": 12,
    "start_time": "2024-11-16T11:18:57.219Z"
   },
   {
    "duration": 34,
    "start_time": "2024-11-16T11:18:57.232Z"
   },
   {
    "duration": 543,
    "start_time": "2024-11-16T11:18:57.268Z"
   },
   {
    "duration": 29,
    "start_time": "2024-11-16T11:18:57.813Z"
   },
   {
    "duration": 429,
    "start_time": "2024-11-16T11:18:57.844Z"
   },
   {
    "duration": 689,
    "start_time": "2024-11-16T11:18:58.274Z"
   },
   {
    "duration": 46,
    "start_time": "2024-11-16T11:18:58.965Z"
   },
   {
    "duration": 572,
    "start_time": "2024-11-16T11:18:59.013Z"
   },
   {
    "duration": 4,
    "start_time": "2024-11-16T11:18:59.586Z"
   },
   {
    "duration": 3,
    "start_time": "2024-11-16T11:18:59.610Z"
   },
   {
    "duration": 3,
    "start_time": "2024-11-16T11:18:59.615Z"
   },
   {
    "duration": 4,
    "start_time": "2024-11-16T11:18:59.619Z"
   },
   {
    "duration": 4,
    "start_time": "2024-11-16T11:18:59.625Z"
   },
   {
    "duration": 5,
    "start_time": "2024-11-16T11:18:59.631Z"
   },
   {
    "duration": 3,
    "start_time": "2024-11-16T11:18:59.638Z"
   },
   {
    "duration": 5,
    "start_time": "2024-11-16T11:18:59.643Z"
   },
   {
    "duration": 4,
    "start_time": "2024-11-16T11:18:59.652Z"
   },
   {
    "duration": 104,
    "start_time": "2024-11-16T11:18:59.657Z"
   },
   {
    "duration": 384683,
    "start_time": "2024-11-16T11:19:02.293Z"
   },
   {
    "duration": 4,
    "start_time": "2024-11-16T11:26:03.489Z"
   },
   {
    "duration": 856,
    "start_time": "2024-11-16T11:26:05.557Z"
   },
   {
    "duration": 49,
    "start_time": "2024-11-16T11:26:07.885Z"
   },
   {
    "duration": 6,
    "start_time": "2024-11-16T11:26:20.504Z"
   },
   {
    "duration": 7,
    "start_time": "2024-11-16T11:26:23.364Z"
   },
   {
    "duration": 43,
    "start_time": "2024-11-16T11:26:25.685Z"
   },
   {
    "duration": 53,
    "start_time": "2024-11-16T11:26:40.981Z"
   },
   {
    "duration": 5,
    "start_time": "2024-11-16T11:26:55.461Z"
   },
   {
    "duration": 59,
    "start_time": "2024-11-16T11:27:07.221Z"
   },
   {
    "duration": 4,
    "start_time": "2024-11-16T11:27:24.710Z"
   },
   {
    "duration": 829,
    "start_time": "2024-11-16T11:27:32.069Z"
   },
   {
    "duration": 55,
    "start_time": "2024-11-17T07:06:22.208Z"
   },
   {
    "duration": 4,
    "start_time": "2024-11-17T07:07:33.693Z"
   },
   {
    "duration": 1673,
    "start_time": "2024-11-17T07:07:33.699Z"
   },
   {
    "duration": 1,
    "start_time": "2024-11-17T07:07:35.375Z"
   },
   {
    "duration": 0,
    "start_time": "2024-11-17T07:07:35.377Z"
   },
   {
    "duration": 0,
    "start_time": "2024-11-17T07:07:35.379Z"
   },
   {
    "duration": 0,
    "start_time": "2024-11-17T07:07:35.380Z"
   },
   {
    "duration": 0,
    "start_time": "2024-11-17T07:07:35.382Z"
   },
   {
    "duration": 0,
    "start_time": "2024-11-17T07:07:35.383Z"
   },
   {
    "duration": 0,
    "start_time": "2024-11-17T07:07:35.385Z"
   },
   {
    "duration": 0,
    "start_time": "2024-11-17T07:07:35.386Z"
   },
   {
    "duration": 1,
    "start_time": "2024-11-17T07:07:35.387Z"
   },
   {
    "duration": 0,
    "start_time": "2024-11-17T07:07:35.389Z"
   },
   {
    "duration": 0,
    "start_time": "2024-11-17T07:07:35.391Z"
   },
   {
    "duration": 0,
    "start_time": "2024-11-17T07:07:35.392Z"
   },
   {
    "duration": 0,
    "start_time": "2024-11-17T07:07:35.393Z"
   },
   {
    "duration": 0,
    "start_time": "2024-11-17T07:07:35.395Z"
   },
   {
    "duration": 0,
    "start_time": "2024-11-17T07:07:35.421Z"
   },
   {
    "duration": 0,
    "start_time": "2024-11-17T07:07:35.422Z"
   },
   {
    "duration": 0,
    "start_time": "2024-11-17T07:07:35.424Z"
   },
   {
    "duration": 0,
    "start_time": "2024-11-17T07:07:35.425Z"
   },
   {
    "duration": 0,
    "start_time": "2024-11-17T07:07:35.427Z"
   },
   {
    "duration": 0,
    "start_time": "2024-11-17T07:07:35.429Z"
   },
   {
    "duration": 0,
    "start_time": "2024-11-17T07:07:35.430Z"
   },
   {
    "duration": 0,
    "start_time": "2024-11-17T07:07:35.431Z"
   },
   {
    "duration": 0,
    "start_time": "2024-11-17T07:07:35.433Z"
   },
   {
    "duration": 0,
    "start_time": "2024-11-17T07:07:35.434Z"
   },
   {
    "duration": 0,
    "start_time": "2024-11-17T07:07:35.436Z"
   },
   {
    "duration": 0,
    "start_time": "2024-11-17T07:07:35.437Z"
   },
   {
    "duration": 0,
    "start_time": "2024-11-17T07:07:35.438Z"
   },
   {
    "duration": 0,
    "start_time": "2024-11-17T07:07:35.439Z"
   },
   {
    "duration": 0,
    "start_time": "2024-11-17T07:07:35.440Z"
   },
   {
    "duration": 0,
    "start_time": "2024-11-17T07:07:35.441Z"
   },
   {
    "duration": 0,
    "start_time": "2024-11-17T07:07:35.442Z"
   },
   {
    "duration": 0,
    "start_time": "2024-11-17T07:07:35.443Z"
   },
   {
    "duration": 0,
    "start_time": "2024-11-17T07:07:35.444Z"
   },
   {
    "duration": 0,
    "start_time": "2024-11-17T07:07:35.445Z"
   },
   {
    "duration": 0,
    "start_time": "2024-11-17T07:07:35.446Z"
   },
   {
    "duration": 0,
    "start_time": "2024-11-17T07:07:35.447Z"
   },
   {
    "duration": 0,
    "start_time": "2024-11-17T07:07:35.448Z"
   },
   {
    "duration": 0,
    "start_time": "2024-11-17T07:07:35.449Z"
   },
   {
    "duration": 0,
    "start_time": "2024-11-17T07:07:35.450Z"
   },
   {
    "duration": 0,
    "start_time": "2024-11-17T07:07:35.451Z"
   },
   {
    "duration": 0,
    "start_time": "2024-11-17T07:07:35.452Z"
   },
   {
    "duration": 0,
    "start_time": "2024-11-17T07:07:35.453Z"
   },
   {
    "duration": 0,
    "start_time": "2024-11-17T07:07:35.454Z"
   },
   {
    "duration": 0,
    "start_time": "2024-11-17T07:07:35.455Z"
   },
   {
    "duration": 0,
    "start_time": "2024-11-17T07:07:35.456Z"
   },
   {
    "duration": 0,
    "start_time": "2024-11-17T07:07:35.457Z"
   },
   {
    "duration": 41238,
    "start_time": "2024-11-17T07:08:59.716Z"
   },
   {
    "duration": 1912,
    "start_time": "2024-11-17T07:09:52.664Z"
   },
   {
    "duration": 5,
    "start_time": "2024-11-17T07:10:01.492Z"
   },
   {
    "duration": 5,
    "start_time": "2024-11-17T07:10:01.499Z"
   },
   {
    "duration": 1296,
    "start_time": "2024-11-17T07:10:01.505Z"
   },
   {
    "duration": 2,
    "start_time": "2024-11-17T07:10:02.803Z"
   },
   {
    "duration": 237,
    "start_time": "2024-11-17T07:10:02.807Z"
   },
   {
    "duration": 419,
    "start_time": "2024-11-17T07:10:03.046Z"
   },
   {
    "duration": 386,
    "start_time": "2024-11-17T07:10:03.467Z"
   },
   {
    "duration": 6,
    "start_time": "2024-11-17T07:10:03.855Z"
   },
   {
    "duration": 404,
    "start_time": "2024-11-17T07:10:03.862Z"
   },
   {
    "duration": 26,
    "start_time": "2024-11-17T07:10:04.268Z"
   },
   {
    "duration": 4,
    "start_time": "2024-11-17T07:10:04.296Z"
   },
   {
    "duration": 621,
    "start_time": "2024-11-17T07:10:04.301Z"
   },
   {
    "duration": 16,
    "start_time": "2024-11-17T07:10:04.923Z"
   },
   {
    "duration": 530,
    "start_time": "2024-11-17T07:10:04.941Z"
   },
   {
    "duration": 9,
    "start_time": "2024-11-17T07:10:05.473Z"
   },
   {
    "duration": 104,
    "start_time": "2024-11-17T07:10:05.483Z"
   },
   {
    "duration": 637,
    "start_time": "2024-11-17T07:10:05.588Z"
   },
   {
    "duration": 6,
    "start_time": "2024-11-17T07:10:06.227Z"
   },
   {
    "duration": 16,
    "start_time": "2024-11-17T07:10:06.235Z"
   },
   {
    "duration": 59,
    "start_time": "2024-11-17T07:10:06.253Z"
   },
   {
    "duration": 414,
    "start_time": "2024-11-17T07:10:06.323Z"
   },
   {
    "duration": 563,
    "start_time": "2024-11-17T07:10:06.738Z"
   },
   {
    "duration": 29,
    "start_time": "2024-11-17T07:10:07.304Z"
   },
   {
    "duration": 15,
    "start_time": "2024-11-17T07:10:07.335Z"
   },
   {
    "duration": 70,
    "start_time": "2024-11-17T07:10:07.352Z"
   },
   {
    "duration": 492,
    "start_time": "2024-11-17T07:10:07.423Z"
   },
   {
    "duration": 26,
    "start_time": "2024-11-17T07:10:07.916Z"
   },
   {
    "duration": 401,
    "start_time": "2024-11-17T07:10:07.944Z"
   },
   {
    "duration": 589,
    "start_time": "2024-11-17T07:10:08.346Z"
   },
   {
    "duration": 26,
    "start_time": "2024-11-17T07:10:08.936Z"
   },
   {
    "duration": 535,
    "start_time": "2024-11-17T07:10:08.964Z"
   },
   {
    "duration": 4,
    "start_time": "2024-11-17T07:10:09.500Z"
   },
   {
    "duration": 15,
    "start_time": "2024-11-17T07:10:09.506Z"
   },
   {
    "duration": 19,
    "start_time": "2024-11-17T07:10:09.523Z"
   },
   {
    "duration": 25,
    "start_time": "2024-11-17T07:10:09.543Z"
   },
   {
    "duration": 23,
    "start_time": "2024-11-17T07:10:09.570Z"
   },
   {
    "duration": 32,
    "start_time": "2024-11-17T07:10:09.595Z"
   },
   {
    "duration": 27,
    "start_time": "2024-11-17T07:10:09.629Z"
   },
   {
    "duration": 11,
    "start_time": "2024-11-17T07:10:09.658Z"
   },
   {
    "duration": 72,
    "start_time": "2024-11-17T07:10:09.670Z"
   },
   {
    "duration": 122,
    "start_time": "2024-11-17T07:10:09.746Z"
   },
   {
    "duration": 98617,
    "start_time": "2024-11-17T07:10:09.870Z"
   },
   {
    "duration": 3,
    "start_time": "2024-11-17T07:11:48.489Z"
   },
   {
    "duration": 44,
    "start_time": "2024-11-17T07:11:48.494Z"
   },
   {
    "duration": 7,
    "start_time": "2024-11-17T07:11:48.540Z"
   },
   {
    "duration": 5,
    "start_time": "2024-11-17T07:11:48.549Z"
   },
   {
    "duration": 785,
    "start_time": "2024-11-17T07:11:48.556Z"
   },
   {
    "duration": 60,
    "start_time": "2024-11-17T07:11:49.343Z"
   },
   {
    "duration": 469,
    "start_time": "2024-11-17T07:12:37.999Z"
   },
   {
    "duration": 466,
    "start_time": "2024-11-17T07:13:31.600Z"
   },
   {
    "duration": 12,
    "start_time": "2024-11-17T07:15:02.384Z"
   },
   {
    "duration": 11,
    "start_time": "2024-11-17T07:15:06.716Z"
   },
   {
    "duration": 53,
    "start_time": "2024-11-17T07:15:06.729Z"
   },
   {
    "duration": 561,
    "start_time": "2024-11-17T07:15:06.784Z"
   },
   {
    "duration": 5,
    "start_time": "2024-11-17T07:15:07.347Z"
   },
   {
    "duration": 15,
    "start_time": "2024-11-17T07:15:07.354Z"
   },
   {
    "duration": 31,
    "start_time": "2024-11-17T07:15:07.370Z"
   },
   {
    "duration": 426,
    "start_time": "2024-11-17T07:15:07.403Z"
   },
   {
    "duration": 571,
    "start_time": "2024-11-17T07:15:07.830Z"
   },
   {
    "duration": 20,
    "start_time": "2024-11-17T07:15:08.403Z"
   },
   {
    "duration": 5,
    "start_time": "2024-11-17T07:15:08.424Z"
   },
   {
    "duration": 54,
    "start_time": "2024-11-17T07:15:08.430Z"
   },
   {
    "duration": 459,
    "start_time": "2024-11-17T07:15:08.485Z"
   },
   {
    "duration": 22,
    "start_time": "2024-11-17T07:15:08.945Z"
   },
   {
    "duration": 358,
    "start_time": "2024-11-17T07:15:08.970Z"
   },
   {
    "duration": 482,
    "start_time": "2024-11-17T07:15:09.330Z"
   },
   {
    "duration": 26,
    "start_time": "2024-11-17T07:15:09.813Z"
   },
   {
    "duration": 466,
    "start_time": "2024-11-17T07:15:09.841Z"
   },
   {
    "duration": 4,
    "start_time": "2024-11-17T07:15:10.320Z"
   },
   {
    "duration": 31,
    "start_time": "2024-11-17T07:15:10.325Z"
   },
   {
    "duration": 19,
    "start_time": "2024-11-17T07:15:10.358Z"
   },
   {
    "duration": 21,
    "start_time": "2024-11-17T07:15:10.379Z"
   },
   {
    "duration": 25,
    "start_time": "2024-11-17T07:15:10.401Z"
   },
   {
    "duration": 25,
    "start_time": "2024-11-17T07:15:10.427Z"
   },
   {
    "duration": 28,
    "start_time": "2024-11-17T07:15:10.453Z"
   },
   {
    "duration": 31,
    "start_time": "2024-11-17T07:15:10.483Z"
   },
   {
    "duration": 73,
    "start_time": "2024-11-17T07:15:10.516Z"
   },
   {
    "duration": 87,
    "start_time": "2024-11-17T07:15:10.591Z"
   },
   {
    "duration": 72681,
    "start_time": "2024-11-17T07:15:10.680Z"
   },
   {
    "duration": 3,
    "start_time": "2024-11-17T07:16:23.362Z"
   },
   {
    "duration": 22,
    "start_time": "2024-11-17T07:16:23.366Z"
   },
   {
    "duration": 16,
    "start_time": "2024-11-17T07:16:23.390Z"
   },
   {
    "duration": 22,
    "start_time": "2024-11-17T07:16:23.408Z"
   },
   {
    "duration": 602,
    "start_time": "2024-11-17T07:16:23.432Z"
   },
   {
    "duration": 56,
    "start_time": "2024-11-17T07:16:24.120Z"
   },
   {
    "duration": 9,
    "start_time": "2024-11-17T07:16:47.621Z"
   },
   {
    "duration": 27,
    "start_time": "2024-11-17T07:16:47.632Z"
   },
   {
    "duration": 460,
    "start_time": "2024-11-17T07:16:47.660Z"
   },
   {
    "duration": 471,
    "start_time": "2024-11-17T07:16:48.122Z"
   },
   {
    "duration": 14,
    "start_time": "2024-11-17T07:16:48.594Z"
   },
   {
    "duration": 5,
    "start_time": "2024-11-17T07:16:48.621Z"
   },
   {
    "duration": 25,
    "start_time": "2024-11-17T07:16:48.627Z"
   },
   {
    "duration": 490,
    "start_time": "2024-11-17T07:16:48.653Z"
   },
   {
    "duration": 23,
    "start_time": "2024-11-17T07:16:49.144Z"
   },
   {
    "duration": 372,
    "start_time": "2024-11-17T07:16:49.169Z"
   },
   {
    "duration": 495,
    "start_time": "2024-11-17T07:16:49.542Z"
   },
   {
    "duration": 22,
    "start_time": "2024-11-17T07:16:50.039Z"
   },
   {
    "duration": 535,
    "start_time": "2024-11-17T07:16:50.062Z"
   },
   {
    "duration": 3,
    "start_time": "2024-11-17T07:16:50.598Z"
   },
   {
    "duration": 3,
    "start_time": "2024-11-17T07:16:50.603Z"
   },
   {
    "duration": 3,
    "start_time": "2024-11-17T07:16:50.620Z"
   },
   {
    "duration": 4,
    "start_time": "2024-11-17T07:16:50.625Z"
   },
   {
    "duration": 7,
    "start_time": "2024-11-17T07:16:50.631Z"
   },
   {
    "duration": 5,
    "start_time": "2024-11-17T07:16:50.640Z"
   },
   {
    "duration": 7,
    "start_time": "2024-11-17T07:16:50.646Z"
   },
   {
    "duration": 11,
    "start_time": "2024-11-17T07:16:50.654Z"
   },
   {
    "duration": 8,
    "start_time": "2024-11-17T07:16:50.666Z"
   },
   {
    "duration": 74,
    "start_time": "2024-11-17T07:16:50.676Z"
   },
   {
    "duration": 82860,
    "start_time": "2024-11-17T07:16:50.752Z"
   },
   {
    "duration": 7,
    "start_time": "2024-11-17T07:18:13.614Z"
   },
   {
    "duration": 3,
    "start_time": "2024-11-17T07:18:13.623Z"
   },
   {
    "duration": 9,
    "start_time": "2024-11-17T07:18:13.628Z"
   },
   {
    "duration": 3,
    "start_time": "2024-11-17T07:18:13.641Z"
   },
   {
    "duration": 590,
    "start_time": "2024-11-17T07:18:13.646Z"
   },
   {
    "duration": 8,
    "start_time": "2024-11-17T07:20:04.670Z"
   },
   {
    "duration": 62,
    "start_time": "2024-11-17T07:20:04.680Z"
   },
   {
    "duration": 449,
    "start_time": "2024-11-17T07:20:04.743Z"
   },
   {
    "duration": 27,
    "start_time": "2024-11-17T07:20:05.194Z"
   },
   {
    "duration": 428,
    "start_time": "2024-11-17T07:20:05.222Z"
   },
   {
    "duration": 682,
    "start_time": "2024-11-17T07:20:05.652Z"
   },
   {
    "duration": 24,
    "start_time": "2024-11-17T07:20:06.335Z"
   },
   {
    "duration": 494,
    "start_time": "2024-11-17T07:20:06.361Z"
   },
   {
    "duration": 4,
    "start_time": "2024-11-17T07:20:06.857Z"
   },
   {
    "duration": 52,
    "start_time": "2024-11-17T07:20:06.863Z"
   },
   {
    "duration": 38,
    "start_time": "2024-11-17T07:20:06.917Z"
   },
   {
    "duration": 22,
    "start_time": "2024-11-17T07:20:06.957Z"
   },
   {
    "duration": 26,
    "start_time": "2024-11-17T07:20:06.980Z"
   },
   {
    "duration": 32,
    "start_time": "2024-11-17T07:20:07.008Z"
   },
   {
    "duration": 35,
    "start_time": "2024-11-17T07:20:07.041Z"
   },
   {
    "duration": 39,
    "start_time": "2024-11-17T07:20:07.077Z"
   },
   {
    "duration": 23,
    "start_time": "2024-11-17T07:20:07.117Z"
   },
   {
    "duration": 93,
    "start_time": "2024-11-17T07:20:07.141Z"
   },
   {
    "duration": 72041,
    "start_time": "2024-11-17T07:20:07.235Z"
   },
   {
    "duration": 3,
    "start_time": "2024-11-17T07:21:19.278Z"
   },
   {
    "duration": 12,
    "start_time": "2024-11-17T07:21:19.283Z"
   },
   {
    "duration": 7,
    "start_time": "2024-11-17T07:21:19.297Z"
   },
   {
    "duration": 17,
    "start_time": "2024-11-17T07:21:19.305Z"
   },
   {
    "duration": 607,
    "start_time": "2024-11-17T07:21:19.324Z"
   },
   {
    "duration": 31223,
    "start_time": "2024-11-17T07:37:07.568Z"
   },
   {
    "duration": 4,
    "start_time": "2024-11-17T07:37:38.794Z"
   },
   {
    "duration": 13,
    "start_time": "2024-11-17T07:37:38.800Z"
   },
   {
    "duration": 874,
    "start_time": "2024-11-17T07:37:38.814Z"
   },
   {
    "duration": 3,
    "start_time": "2024-11-17T07:37:39.690Z"
   },
   {
    "duration": 160,
    "start_time": "2024-11-17T07:37:39.695Z"
   },
   {
    "duration": 364,
    "start_time": "2024-11-17T07:37:39.857Z"
   },
   {
    "duration": 398,
    "start_time": "2024-11-17T07:37:40.223Z"
   },
   {
    "duration": 4,
    "start_time": "2024-11-17T07:37:40.623Z"
   },
   {
    "duration": 397,
    "start_time": "2024-11-17T07:37:40.628Z"
   },
   {
    "duration": 25,
    "start_time": "2024-11-17T07:37:41.027Z"
   },
   {
    "duration": 4,
    "start_time": "2024-11-17T07:37:41.053Z"
   },
   {
    "duration": 553,
    "start_time": "2024-11-17T07:37:41.059Z"
   },
   {
    "duration": 20,
    "start_time": "2024-11-17T07:37:41.614Z"
   },
   {
    "duration": 516,
    "start_time": "2024-11-17T07:37:41.635Z"
   },
   {
    "duration": 13,
    "start_time": "2024-11-17T07:37:42.152Z"
   },
   {
    "duration": 31,
    "start_time": "2024-11-17T07:37:42.166Z"
   },
   {
    "duration": 535,
    "start_time": "2024-11-17T07:37:42.198Z"
   },
   {
    "duration": 6,
    "start_time": "2024-11-17T07:37:42.735Z"
   },
   {
    "duration": 12,
    "start_time": "2024-11-17T07:37:42.742Z"
   },
   {
    "duration": 27,
    "start_time": "2024-11-17T07:37:42.756Z"
   },
   {
    "duration": 486,
    "start_time": "2024-11-17T07:37:42.785Z"
   },
   {
    "duration": 517,
    "start_time": "2024-11-17T07:37:43.273Z"
   },
   {
    "duration": 14,
    "start_time": "2024-11-17T07:37:43.791Z"
   },
   {
    "duration": 26,
    "start_time": "2024-11-17T07:37:43.806Z"
   },
   {
    "duration": 28,
    "start_time": "2024-11-17T07:37:43.833Z"
   },
   {
    "duration": 486,
    "start_time": "2024-11-17T07:37:43.862Z"
   },
   {
    "duration": 23,
    "start_time": "2024-11-17T07:37:44.349Z"
   },
   {
    "duration": 364,
    "start_time": "2024-11-17T07:37:44.373Z"
   },
   {
    "duration": 492,
    "start_time": "2024-11-17T07:37:44.739Z"
   },
   {
    "duration": 24,
    "start_time": "2024-11-17T07:37:45.233Z"
   },
   {
    "duration": 531,
    "start_time": "2024-11-17T07:37:45.258Z"
   },
   {
    "duration": 119,
    "start_time": "2024-11-17T07:39:18.987Z"
   },
   {
    "duration": 133,
    "start_time": "2024-11-17T07:40:34.644Z"
   },
   {
    "duration": 5,
    "start_time": "2024-11-17T07:41:42.911Z"
   },
   {
    "duration": 27,
    "start_time": "2024-11-17T07:41:42.918Z"
   },
   {
    "duration": 28,
    "start_time": "2024-11-17T07:41:42.946Z"
   },
   {
    "duration": 11,
    "start_time": "2024-11-17T07:41:42.976Z"
   },
   {
    "duration": 40,
    "start_time": "2024-11-17T07:41:42.988Z"
   },
   {
    "duration": 41,
    "start_time": "2024-11-17T07:41:43.029Z"
   },
   {
    "duration": 21,
    "start_time": "2024-11-17T07:41:43.072Z"
   },
   {
    "duration": 23,
    "start_time": "2024-11-17T07:41:43.095Z"
   },
   {
    "duration": 3,
    "start_time": "2024-11-17T07:41:43.120Z"
   },
   {
    "duration": 60,
    "start_time": "2024-11-17T07:41:43.125Z"
   },
   {
    "duration": 62614,
    "start_time": "2024-11-17T07:41:43.187Z"
   },
   {
    "duration": 3,
    "start_time": "2024-11-17T07:42:45.803Z"
   },
   {
    "duration": 32,
    "start_time": "2024-11-17T07:42:45.807Z"
   },
   {
    "duration": 14,
    "start_time": "2024-11-17T07:42:45.841Z"
   },
   {
    "duration": 7,
    "start_time": "2024-11-17T07:42:45.856Z"
   },
   {
    "duration": 561,
    "start_time": "2024-11-17T07:42:45.865Z"
   },
   {
    "duration": 3,
    "start_time": "2024-11-17T07:47:13.862Z"
   },
   {
    "duration": 53,
    "start_time": "2024-11-17T07:50:14.520Z"
   },
   {
    "duration": 122,
    "start_time": "2024-11-17T07:50:23.231Z"
   },
   {
    "duration": 10,
    "start_time": "2024-11-17T07:51:01.791Z"
   },
   {
    "duration": 3,
    "start_time": "2024-11-17T07:51:11.976Z"
   },
   {
    "duration": 22,
    "start_time": "2024-11-17T07:54:15.801Z"
   },
   {
    "duration": 13,
    "start_time": "2024-11-17T07:55:54.203Z"
   },
   {
    "duration": 11,
    "start_time": "2024-11-17T07:56:08.266Z"
   },
   {
    "duration": 11,
    "start_time": "2024-11-17T07:57:40.798Z"
   },
   {
    "duration": 1182,
    "start_time": "2024-11-17T07:59:54.683Z"
   },
   {
    "duration": 5702,
    "start_time": "2024-11-17T08:00:56.020Z"
   },
   {
    "duration": 3,
    "start_time": "2024-11-17T08:03:07.805Z"
   },
   {
    "duration": 5825,
    "start_time": "2024-11-17T08:03:41.197Z"
   },
   {
    "duration": 68,
    "start_time": "2024-11-17T08:04:54.573Z"
   },
   {
    "duration": 70,
    "start_time": "2024-11-17T08:06:25.677Z"
   },
   {
    "duration": 2,
    "start_time": "2024-11-17T08:06:37.462Z"
   },
   {
    "duration": 2,
    "start_time": "2024-11-17T08:06:39.358Z"
   },
   {
    "duration": 11,
    "start_time": "2024-11-17T08:08:27.862Z"
   },
   {
    "duration": 6178,
    "start_time": "2024-11-17T08:09:01.847Z"
   },
   {
    "duration": 286,
    "start_time": "2024-11-17T08:09:38.951Z"
   },
   {
    "duration": 688,
    "start_time": "2024-11-17T08:09:55.345Z"
   },
   {
    "duration": 3,
    "start_time": "2024-11-17T08:10:25.598Z"
   },
   {
    "duration": 1758,
    "start_time": "2024-11-17T08:10:25.603Z"
   },
   {
    "duration": 3,
    "start_time": "2024-11-17T08:10:27.362Z"
   },
   {
    "duration": 940,
    "start_time": "2024-11-17T08:10:27.366Z"
   },
   {
    "duration": 3,
    "start_time": "2024-11-17T08:10:28.308Z"
   },
   {
    "duration": 182,
    "start_time": "2024-11-17T08:10:28.313Z"
   },
   {
    "duration": 397,
    "start_time": "2024-11-17T08:10:28.497Z"
   },
   {
    "duration": 431,
    "start_time": "2024-11-17T08:10:28.896Z"
   },
   {
    "duration": 4,
    "start_time": "2024-11-17T08:10:29.330Z"
   },
   {
    "duration": 390,
    "start_time": "2024-11-17T08:10:29.335Z"
   },
   {
    "duration": 33,
    "start_time": "2024-11-17T08:10:29.727Z"
   },
   {
    "duration": 4,
    "start_time": "2024-11-17T08:10:29.761Z"
   },
   {
    "duration": 605,
    "start_time": "2024-11-17T08:10:29.766Z"
   },
   {
    "duration": 17,
    "start_time": "2024-11-17T08:10:30.372Z"
   },
   {
    "duration": 546,
    "start_time": "2024-11-17T08:10:30.391Z"
   },
   {
    "duration": 12,
    "start_time": "2024-11-17T08:10:30.938Z"
   },
   {
    "duration": 64,
    "start_time": "2024-11-17T08:10:30.951Z"
   },
   {
    "duration": 505,
    "start_time": "2024-11-17T08:10:31.017Z"
   },
   {
    "duration": 6,
    "start_time": "2024-11-17T08:10:31.523Z"
   },
   {
    "duration": 9,
    "start_time": "2024-11-17T08:10:31.530Z"
   },
   {
    "duration": 44,
    "start_time": "2024-11-17T08:10:31.540Z"
   },
   {
    "duration": 402,
    "start_time": "2024-11-17T08:10:31.586Z"
   },
   {
    "duration": 521,
    "start_time": "2024-11-17T08:10:31.989Z"
   },
   {
    "duration": 20,
    "start_time": "2024-11-17T08:10:32.515Z"
   },
   {
    "duration": 20,
    "start_time": "2024-11-17T08:10:32.536Z"
   },
   {
    "duration": 37,
    "start_time": "2024-11-17T08:10:32.557Z"
   },
   {
    "duration": 462,
    "start_time": "2024-11-17T08:10:32.596Z"
   },
   {
    "duration": 22,
    "start_time": "2024-11-17T08:10:33.060Z"
   },
   {
    "duration": 361,
    "start_time": "2024-11-17T08:10:33.084Z"
   },
   {
    "duration": 526,
    "start_time": "2024-11-17T08:10:33.448Z"
   },
   {
    "duration": 23,
    "start_time": "2024-11-17T08:10:33.976Z"
   },
   {
    "duration": 543,
    "start_time": "2024-11-17T08:10:34.001Z"
   },
   {
    "duration": 132,
    "start_time": "2024-11-17T08:10:34.546Z"
   },
   {
    "duration": 146,
    "start_time": "2024-11-17T08:10:34.679Z"
   },
   {
    "duration": 4,
    "start_time": "2024-11-17T08:10:34.827Z"
   },
   {
    "duration": 32,
    "start_time": "2024-11-17T08:10:34.833Z"
   },
   {
    "duration": 6,
    "start_time": "2024-11-17T08:10:34.867Z"
   },
   {
    "duration": 14,
    "start_time": "2024-11-17T08:10:34.875Z"
   },
   {
    "duration": 7,
    "start_time": "2024-11-17T08:10:34.891Z"
   },
   {
    "duration": 2,
    "start_time": "2024-11-17T08:10:34.900Z"
   },
   {
    "duration": 7,
    "start_time": "2024-11-17T08:10:34.904Z"
   },
   {
    "duration": 17,
    "start_time": "2024-11-17T08:10:34.913Z"
   },
   {
    "duration": 43,
    "start_time": "2024-11-17T08:10:34.931Z"
   },
   {
    "duration": 51,
    "start_time": "2024-11-17T08:10:34.975Z"
   },
   {
    "duration": 61667,
    "start_time": "2024-11-17T08:10:35.027Z"
   },
   {
    "duration": 70,
    "start_time": "2024-11-17T08:11:36.696Z"
   },
   {
    "duration": 3,
    "start_time": "2024-11-17T08:11:36.768Z"
   },
   {
    "duration": 4,
    "start_time": "2024-11-17T08:11:36.772Z"
   },
   {
    "duration": 9,
    "start_time": "2024-11-17T08:11:36.777Z"
   },
   {
    "duration": 5,
    "start_time": "2024-11-17T08:11:36.788Z"
   },
   {
    "duration": 8,
    "start_time": "2024-11-17T08:11:36.794Z"
   },
   {
    "duration": 134,
    "start_time": "2024-11-17T08:11:36.803Z"
   },
   {
    "duration": 0,
    "start_time": "2024-11-17T08:11:36.939Z"
   },
   {
    "duration": 0,
    "start_time": "2024-11-17T08:11:36.939Z"
   },
   {
    "duration": 5731,
    "start_time": "2024-11-17T08:12:04.501Z"
   },
   {
    "duration": 690,
    "start_time": "2024-11-17T08:12:14.337Z"
   },
   {
    "duration": 535,
    "start_time": "2024-11-17T08:12:18.889Z"
   },
   {
    "duration": 6,
    "start_time": "2024-11-17T08:14:57.818Z"
   },
   {
    "duration": 4,
    "start_time": "2024-11-17T08:14:59.698Z"
   },
   {
    "duration": 18,
    "start_time": "2024-11-17T08:15:14.425Z"
   },
   {
    "duration": 4,
    "start_time": "2024-11-17T08:17:21.635Z"
   },
   {
    "duration": 6194,
    "start_time": "2024-11-17T08:17:52.540Z"
   },
   {
    "duration": 727,
    "start_time": "2024-11-17T08:18:24.195Z"
   },
   {
    "duration": 560,
    "start_time": "2024-11-17T08:22:43.165Z"
   },
   {
    "duration": 55,
    "start_time": "2024-11-17T08:23:58.490Z"
   },
   {
    "duration": 10,
    "start_time": "2024-11-17T08:33:53.954Z"
   },
   {
    "duration": 6,
    "start_time": "2024-11-17T08:34:37.186Z"
   },
   {
    "duration": 1189,
    "start_time": "2024-11-17T08:34:43.012Z"
   },
   {
    "duration": 1450,
    "start_time": "2024-11-17T08:35:30.363Z"
   },
   {
    "duration": 1438,
    "start_time": "2024-11-17T08:35:49.848Z"
   },
   {
    "duration": 975,
    "start_time": "2024-11-17T08:40:23.709Z"
   },
   {
    "duration": 9,
    "start_time": "2024-11-17T08:40:36.005Z"
   },
   {
    "duration": 19,
    "start_time": "2024-11-17T08:40:41.276Z"
   },
   {
    "duration": 10,
    "start_time": "2024-11-17T08:41:17.157Z"
   },
   {
    "duration": 3,
    "start_time": "2024-11-17T09:17:00.858Z"
   },
   {
    "duration": 1738,
    "start_time": "2024-11-17T09:17:00.863Z"
   },
   {
    "duration": 2,
    "start_time": "2024-11-17T09:17:02.603Z"
   },
   {
    "duration": 1101,
    "start_time": "2024-11-17T09:17:02.607Z"
   },
   {
    "duration": 3,
    "start_time": "2024-11-17T09:17:03.709Z"
   },
   {
    "duration": 161,
    "start_time": "2024-11-17T09:17:03.720Z"
   },
   {
    "duration": 407,
    "start_time": "2024-11-17T09:17:03.882Z"
   },
   {
    "duration": 462,
    "start_time": "2024-11-17T09:17:04.290Z"
   },
   {
    "duration": 4,
    "start_time": "2024-11-17T09:17:04.753Z"
   },
   {
    "duration": 412,
    "start_time": "2024-11-17T09:17:04.759Z"
   },
   {
    "duration": 33,
    "start_time": "2024-11-17T09:17:05.173Z"
   },
   {
    "duration": 3,
    "start_time": "2024-11-17T09:17:05.208Z"
   },
   {
    "duration": 675,
    "start_time": "2024-11-17T09:17:05.221Z"
   },
   {
    "duration": 23,
    "start_time": "2024-11-17T09:17:05.898Z"
   },
   {
    "duration": 546,
    "start_time": "2024-11-17T09:17:05.923Z"
   },
   {
    "duration": 12,
    "start_time": "2024-11-17T09:17:06.471Z"
   },
   {
    "duration": 48,
    "start_time": "2024-11-17T09:17:06.484Z"
   },
   {
    "duration": 550,
    "start_time": "2024-11-17T09:17:06.533Z"
   },
   {
    "duration": 7,
    "start_time": "2024-11-17T09:17:07.085Z"
   },
   {
    "duration": 28,
    "start_time": "2024-11-17T09:17:07.094Z"
   },
   {
    "duration": 35,
    "start_time": "2024-11-17T09:17:07.123Z"
   },
   {
    "duration": 466,
    "start_time": "2024-11-17T09:17:07.160Z"
   },
   {
    "duration": 551,
    "start_time": "2024-11-17T09:17:07.628Z"
   },
   {
    "duration": 15,
    "start_time": "2024-11-17T09:17:08.181Z"
   },
   {
    "duration": 26,
    "start_time": "2024-11-17T09:17:08.198Z"
   },
   {
    "duration": 36,
    "start_time": "2024-11-17T09:17:08.225Z"
   },
   {
    "duration": 468,
    "start_time": "2024-11-17T09:17:08.263Z"
   },
   {
    "duration": 21,
    "start_time": "2024-11-17T09:17:08.735Z"
   },
   {
    "duration": 392,
    "start_time": "2024-11-17T09:17:08.757Z"
   },
   {
    "duration": 507,
    "start_time": "2024-11-17T09:17:09.151Z"
   },
   {
    "duration": 21,
    "start_time": "2024-11-17T09:17:09.660Z"
   },
   {
    "duration": 515,
    "start_time": "2024-11-17T09:17:09.683Z"
   },
   {
    "duration": 147,
    "start_time": "2024-11-17T09:17:10.200Z"
   },
   {
    "duration": 135,
    "start_time": "2024-11-17T09:17:10.349Z"
   },
   {
    "duration": 5,
    "start_time": "2024-11-17T09:17:10.485Z"
   },
   {
    "duration": 5,
    "start_time": "2024-11-17T09:17:10.491Z"
   },
   {
    "duration": 4,
    "start_time": "2024-11-17T09:17:10.498Z"
   },
   {
    "duration": 22,
    "start_time": "2024-11-17T09:17:10.503Z"
   },
   {
    "duration": 7,
    "start_time": "2024-11-17T09:17:10.526Z"
   },
   {
    "duration": 12,
    "start_time": "2024-11-17T09:17:10.534Z"
   },
   {
    "duration": 9,
    "start_time": "2024-11-17T09:17:10.548Z"
   },
   {
    "duration": 4,
    "start_time": "2024-11-17T09:17:10.559Z"
   },
   {
    "duration": 8,
    "start_time": "2024-11-17T09:17:10.564Z"
   },
   {
    "duration": 51,
    "start_time": "2024-11-17T09:17:10.573Z"
   },
   {
    "duration": 64048,
    "start_time": "2024-11-17T09:17:10.626Z"
   },
   {
    "duration": 3,
    "start_time": "2024-11-17T09:18:14.675Z"
   },
   {
    "duration": 4,
    "start_time": "2024-11-17T09:18:14.680Z"
   },
   {
    "duration": 9,
    "start_time": "2024-11-17T09:18:14.686Z"
   },
   {
    "duration": 25,
    "start_time": "2024-11-17T09:18:14.696Z"
   },
   {
    "duration": 4,
    "start_time": "2024-11-17T09:18:14.722Z"
   },
   {
    "duration": 596,
    "start_time": "2024-11-17T09:18:14.727Z"
   },
   {
    "duration": 1402,
    "start_time": "2024-11-17T09:18:15.325Z"
   },
   {
    "duration": 1803,
    "start_time": "2024-11-18T15:15:34.500Z"
   },
   {
    "duration": 78074,
    "start_time": "2024-11-18T15:15:57.244Z"
   },
   {
    "duration": 41496,
    "start_time": "2024-11-18T15:17:17.784Z"
   },
   {
    "duration": 2266,
    "start_time": "2024-11-18T15:18:41.945Z"
   },
   {
    "duration": 3,
    "start_time": "2024-11-18T15:19:39.176Z"
   },
   {
    "duration": 20,
    "start_time": "2024-11-18T15:19:39.182Z"
   },
   {
    "duration": 12,
    "start_time": "2024-11-18T15:19:39.204Z"
   },
   {
    "duration": 3558,
    "start_time": "2024-11-18T15:19:39.218Z"
   },
   {
    "duration": 6,
    "start_time": "2024-11-18T15:19:42.779Z"
   },
   {
    "duration": 346,
    "start_time": "2024-11-18T15:19:42.787Z"
   },
   {
    "duration": 707,
    "start_time": "2024-11-18T15:19:43.135Z"
   },
   {
    "duration": 742,
    "start_time": "2024-11-18T15:19:43.844Z"
   },
   {
    "duration": 5,
    "start_time": "2024-11-18T15:19:44.589Z"
   },
   {
    "duration": 744,
    "start_time": "2024-11-18T15:19:44.596Z"
   },
   {
    "duration": 55,
    "start_time": "2024-11-18T15:19:45.342Z"
   },
   {
    "duration": 6,
    "start_time": "2024-11-18T15:19:45.398Z"
   },
   {
    "duration": 864,
    "start_time": "2024-11-18T15:19:45.406Z"
   },
   {
    "duration": 24,
    "start_time": "2024-11-18T15:19:46.279Z"
   },
   {
    "duration": 673,
    "start_time": "2024-11-18T15:19:46.305Z"
   },
   {
    "duration": 26,
    "start_time": "2024-11-18T15:19:46.980Z"
   },
   {
    "duration": 45,
    "start_time": "2024-11-18T15:19:47.016Z"
   },
   {
    "duration": 746,
    "start_time": "2024-11-18T15:19:47.075Z"
   },
   {
    "duration": 8,
    "start_time": "2024-11-18T15:19:47.823Z"
   },
   {
    "duration": 12,
    "start_time": "2024-11-18T15:19:47.833Z"
   },
   {
    "duration": 54,
    "start_time": "2024-11-18T15:19:47.867Z"
   },
   {
    "duration": 572,
    "start_time": "2024-11-18T15:19:47.923Z"
   },
   {
    "duration": 639,
    "start_time": "2024-11-18T15:19:48.499Z"
   },
   {
    "duration": 17,
    "start_time": "2024-11-18T15:19:49.140Z"
   },
   {
    "duration": 21,
    "start_time": "2024-11-18T15:19:49.169Z"
   },
   {
    "duration": 52,
    "start_time": "2024-11-18T15:19:49.192Z"
   },
   {
    "duration": 627,
    "start_time": "2024-11-18T15:19:49.245Z"
   },
   {
    "duration": 49,
    "start_time": "2024-11-18T15:19:49.874Z"
   },
   {
    "duration": 542,
    "start_time": "2024-11-18T15:19:49.925Z"
   },
   {
    "duration": 864,
    "start_time": "2024-11-18T15:19:50.469Z"
   },
   {
    "duration": 48,
    "start_time": "2024-11-18T15:19:51.340Z"
   },
   {
    "duration": 778,
    "start_time": "2024-11-18T15:19:51.395Z"
   },
   {
    "duration": 262,
    "start_time": "2024-11-18T15:19:52.176Z"
   },
   {
    "duration": 262,
    "start_time": "2024-11-18T15:19:52.440Z"
   },
   {
    "duration": 11,
    "start_time": "2024-11-18T15:19:52.704Z"
   },
   {
    "duration": 16,
    "start_time": "2024-11-18T15:19:52.717Z"
   },
   {
    "duration": 8,
    "start_time": "2024-11-18T15:19:52.735Z"
   },
   {
    "duration": 17,
    "start_time": "2024-11-18T15:19:52.745Z"
   },
   {
    "duration": 24,
    "start_time": "2024-11-18T15:19:52.764Z"
   },
   {
    "duration": 23,
    "start_time": "2024-11-18T15:19:52.791Z"
   },
   {
    "duration": 7,
    "start_time": "2024-11-18T15:19:52.826Z"
   },
   {
    "duration": 23,
    "start_time": "2024-11-18T15:19:52.840Z"
   },
   {
    "duration": 9,
    "start_time": "2024-11-18T15:19:52.868Z"
   },
   {
    "duration": 88,
    "start_time": "2024-11-18T15:19:52.879Z"
   },
   {
    "duration": 148,
    "start_time": "2024-11-18T15:22:43.546Z"
   },
   {
    "duration": 4,
    "start_time": "2024-11-18T15:23:00.605Z"
   },
   {
    "duration": 68,
    "start_time": "2024-11-18T15:23:03.642Z"
   },
   {
    "duration": 2180,
    "start_time": "2024-11-18T15:49:10.035Z"
   },
   {
    "duration": 3,
    "start_time": "2024-11-18T15:49:39.755Z"
   },
   {
    "duration": 17,
    "start_time": "2024-11-18T15:49:39.761Z"
   },
   {
    "duration": 10,
    "start_time": "2024-11-18T15:49:39.780Z"
   },
   {
    "duration": 1267,
    "start_time": "2024-11-18T15:49:39.793Z"
   },
   {
    "duration": 3,
    "start_time": "2024-11-18T15:49:41.063Z"
   },
   {
    "duration": 179,
    "start_time": "2024-11-18T15:49:41.068Z"
   },
   {
    "duration": 494,
    "start_time": "2024-11-18T15:49:41.249Z"
   },
   {
    "duration": 628,
    "start_time": "2024-11-18T15:49:41.745Z"
   },
   {
    "duration": 5,
    "start_time": "2024-11-18T15:49:42.376Z"
   },
   {
    "duration": 544,
    "start_time": "2024-11-18T15:49:42.383Z"
   },
   {
    "duration": 49,
    "start_time": "2024-11-18T15:49:42.929Z"
   },
   {
    "duration": 5,
    "start_time": "2024-11-18T15:49:42.980Z"
   },
   {
    "duration": 679,
    "start_time": "2024-11-18T15:49:42.987Z"
   },
   {
    "duration": 18,
    "start_time": "2024-11-18T15:49:43.670Z"
   },
   {
    "duration": 955,
    "start_time": "2024-11-18T15:49:43.690Z"
   },
   {
    "duration": 23,
    "start_time": "2024-11-18T15:49:44.647Z"
   },
   {
    "duration": 64,
    "start_time": "2024-11-18T15:49:44.673Z"
   },
   {
    "duration": 756,
    "start_time": "2024-11-18T15:49:44.739Z"
   },
   {
    "duration": 7,
    "start_time": "2024-11-18T15:49:45.498Z"
   },
   {
    "duration": 17,
    "start_time": "2024-11-18T15:49:45.507Z"
   },
   {
    "duration": 70,
    "start_time": "2024-11-18T15:49:45.526Z"
   },
   {
    "duration": 490,
    "start_time": "2024-11-18T15:49:45.598Z"
   },
   {
    "duration": 851,
    "start_time": "2024-11-18T15:49:46.090Z"
   },
   {
    "duration": 32,
    "start_time": "2024-11-18T15:49:46.943Z"
   },
   {
    "duration": 14,
    "start_time": "2024-11-18T15:49:46.977Z"
   },
   {
    "duration": 51,
    "start_time": "2024-11-18T15:49:46.993Z"
   },
   {
    "duration": 469,
    "start_time": "2024-11-18T15:49:47.045Z"
   },
   {
    "duration": 50,
    "start_time": "2024-11-18T15:49:47.516Z"
   },
   {
    "duration": 455,
    "start_time": "2024-11-18T15:49:47.568Z"
   },
   {
    "duration": 735,
    "start_time": "2024-11-18T15:49:48.025Z"
   },
   {
    "duration": 43,
    "start_time": "2024-11-18T15:49:48.762Z"
   },
   {
    "duration": 773,
    "start_time": "2024-11-18T15:49:48.807Z"
   },
   {
    "duration": 144,
    "start_time": "2024-11-18T15:49:49.582Z"
   },
   {
    "duration": 182,
    "start_time": "2024-11-18T15:49:49.728Z"
   },
   {
    "duration": 5,
    "start_time": "2024-11-18T15:49:49.912Z"
   },
   {
    "duration": 4,
    "start_time": "2024-11-18T15:49:49.918Z"
   },
   {
    "duration": 4,
    "start_time": "2024-11-18T15:49:49.923Z"
   },
   {
    "duration": 10,
    "start_time": "2024-11-18T15:49:49.928Z"
   },
   {
    "duration": 26,
    "start_time": "2024-11-18T15:49:49.940Z"
   },
   {
    "duration": 18,
    "start_time": "2024-11-18T15:49:49.968Z"
   },
   {
    "duration": 8,
    "start_time": "2024-11-18T15:49:49.991Z"
   },
   {
    "duration": 29,
    "start_time": "2024-11-18T15:49:50.001Z"
   },
   {
    "duration": 28,
    "start_time": "2024-11-18T15:49:50.032Z"
   },
   {
    "duration": 4,
    "start_time": "2024-11-18T15:49:53.190Z"
   },
   {
    "duration": 76,
    "start_time": "2024-11-18T15:49:55.004Z"
   },
   {
    "duration": 4,
    "start_time": "2024-11-19T17:37:13.600Z"
   },
   {
    "duration": 1798,
    "start_time": "2024-11-19T17:37:13.605Z"
   },
   {
    "duration": 0,
    "start_time": "2024-11-19T17:37:15.406Z"
   },
   {
    "duration": 0,
    "start_time": "2024-11-19T17:37:15.407Z"
   },
   {
    "duration": 0,
    "start_time": "2024-11-19T17:37:15.408Z"
   },
   {
    "duration": 0,
    "start_time": "2024-11-19T17:37:15.409Z"
   },
   {
    "duration": 0,
    "start_time": "2024-11-19T17:37:15.410Z"
   },
   {
    "duration": 0,
    "start_time": "2024-11-19T17:37:15.412Z"
   },
   {
    "duration": 1,
    "start_time": "2024-11-19T17:37:15.412Z"
   },
   {
    "duration": 0,
    "start_time": "2024-11-19T17:37:15.414Z"
   },
   {
    "duration": 0,
    "start_time": "2024-11-19T17:37:15.415Z"
   },
   {
    "duration": 0,
    "start_time": "2024-11-19T17:37:15.416Z"
   },
   {
    "duration": 0,
    "start_time": "2024-11-19T17:37:15.417Z"
   },
   {
    "duration": 0,
    "start_time": "2024-11-19T17:37:15.418Z"
   },
   {
    "duration": 0,
    "start_time": "2024-11-19T17:37:15.419Z"
   },
   {
    "duration": 0,
    "start_time": "2024-11-19T17:37:15.420Z"
   },
   {
    "duration": 0,
    "start_time": "2024-11-19T17:37:15.421Z"
   },
   {
    "duration": 0,
    "start_time": "2024-11-19T17:37:15.422Z"
   },
   {
    "duration": 0,
    "start_time": "2024-11-19T17:37:15.423Z"
   },
   {
    "duration": 0,
    "start_time": "2024-11-19T17:37:15.424Z"
   },
   {
    "duration": 0,
    "start_time": "2024-11-19T17:37:15.425Z"
   },
   {
    "duration": 0,
    "start_time": "2024-11-19T17:37:15.426Z"
   },
   {
    "duration": 0,
    "start_time": "2024-11-19T17:37:15.427Z"
   },
   {
    "duration": 0,
    "start_time": "2024-11-19T17:37:15.428Z"
   },
   {
    "duration": 0,
    "start_time": "2024-11-19T17:37:15.429Z"
   },
   {
    "duration": 0,
    "start_time": "2024-11-19T17:37:15.430Z"
   },
   {
    "duration": 0,
    "start_time": "2024-11-19T17:37:15.431Z"
   },
   {
    "duration": 0,
    "start_time": "2024-11-19T17:37:15.432Z"
   },
   {
    "duration": 0,
    "start_time": "2024-11-19T17:37:15.434Z"
   },
   {
    "duration": 0,
    "start_time": "2024-11-19T17:37:15.435Z"
   },
   {
    "duration": 0,
    "start_time": "2024-11-19T17:37:15.436Z"
   },
   {
    "duration": 0,
    "start_time": "2024-11-19T17:37:15.437Z"
   },
   {
    "duration": 0,
    "start_time": "2024-11-19T17:37:15.439Z"
   },
   {
    "duration": 0,
    "start_time": "2024-11-19T17:37:15.440Z"
   },
   {
    "duration": 0,
    "start_time": "2024-11-19T17:37:15.441Z"
   },
   {
    "duration": 0,
    "start_time": "2024-11-19T17:37:15.442Z"
   },
   {
    "duration": 0,
    "start_time": "2024-11-19T17:37:15.500Z"
   },
   {
    "duration": 0,
    "start_time": "2024-11-19T17:37:15.501Z"
   },
   {
    "duration": 0,
    "start_time": "2024-11-19T17:37:15.502Z"
   },
   {
    "duration": 0,
    "start_time": "2024-11-19T17:37:15.503Z"
   },
   {
    "duration": 0,
    "start_time": "2024-11-19T17:37:15.504Z"
   },
   {
    "duration": 0,
    "start_time": "2024-11-19T17:37:15.505Z"
   },
   {
    "duration": 3,
    "start_time": "2024-11-19T17:38:04.531Z"
   },
   {
    "duration": 35,
    "start_time": "2024-11-19T17:38:04.539Z"
   },
   {
    "duration": 0,
    "start_time": "2024-11-19T17:38:04.576Z"
   },
   {
    "duration": 0,
    "start_time": "2024-11-19T17:38:04.578Z"
   },
   {
    "duration": 0,
    "start_time": "2024-11-19T17:38:04.579Z"
   },
   {
    "duration": 0,
    "start_time": "2024-11-19T17:38:04.580Z"
   },
   {
    "duration": 0,
    "start_time": "2024-11-19T17:38:04.581Z"
   },
   {
    "duration": 0,
    "start_time": "2024-11-19T17:38:04.582Z"
   },
   {
    "duration": 0,
    "start_time": "2024-11-19T17:38:04.583Z"
   },
   {
    "duration": 0,
    "start_time": "2024-11-19T17:38:04.585Z"
   },
   {
    "duration": 0,
    "start_time": "2024-11-19T17:38:04.586Z"
   },
   {
    "duration": 0,
    "start_time": "2024-11-19T17:38:04.586Z"
   },
   {
    "duration": 0,
    "start_time": "2024-11-19T17:38:04.588Z"
   },
   {
    "duration": 1,
    "start_time": "2024-11-19T17:38:04.588Z"
   },
   {
    "duration": 0,
    "start_time": "2024-11-19T17:38:04.589Z"
   },
   {
    "duration": 0,
    "start_time": "2024-11-19T17:38:04.590Z"
   },
   {
    "duration": 0,
    "start_time": "2024-11-19T17:38:04.592Z"
   },
   {
    "duration": 0,
    "start_time": "2024-11-19T17:38:04.593Z"
   },
   {
    "duration": 0,
    "start_time": "2024-11-19T17:38:04.594Z"
   },
   {
    "duration": 0,
    "start_time": "2024-11-19T17:38:04.595Z"
   },
   {
    "duration": 0,
    "start_time": "2024-11-19T17:38:04.596Z"
   },
   {
    "duration": 0,
    "start_time": "2024-11-19T17:38:04.596Z"
   },
   {
    "duration": 0,
    "start_time": "2024-11-19T17:38:04.598Z"
   },
   {
    "duration": 0,
    "start_time": "2024-11-19T17:38:04.599Z"
   },
   {
    "duration": 0,
    "start_time": "2024-11-19T17:38:04.600Z"
   },
   {
    "duration": 0,
    "start_time": "2024-11-19T17:38:04.601Z"
   },
   {
    "duration": 0,
    "start_time": "2024-11-19T17:38:04.602Z"
   },
   {
    "duration": 0,
    "start_time": "2024-11-19T17:38:04.602Z"
   },
   {
    "duration": 11,
    "start_time": "2024-11-19T17:38:04.607Z"
   },
   {
    "duration": 0,
    "start_time": "2024-11-19T17:38:04.619Z"
   },
   {
    "duration": 0,
    "start_time": "2024-11-19T17:38:04.620Z"
   },
   {
    "duration": 0,
    "start_time": "2024-11-19T17:38:04.621Z"
   },
   {
    "duration": 0,
    "start_time": "2024-11-19T17:38:04.622Z"
   },
   {
    "duration": 0,
    "start_time": "2024-11-19T17:38:04.624Z"
   },
   {
    "duration": 0,
    "start_time": "2024-11-19T17:38:04.625Z"
   },
   {
    "duration": 0,
    "start_time": "2024-11-19T17:38:04.626Z"
   },
   {
    "duration": 0,
    "start_time": "2024-11-19T17:38:04.627Z"
   },
   {
    "duration": 0,
    "start_time": "2024-11-19T17:38:04.628Z"
   },
   {
    "duration": 0,
    "start_time": "2024-11-19T17:38:04.630Z"
   },
   {
    "duration": 0,
    "start_time": "2024-11-19T17:38:04.631Z"
   },
   {
    "duration": 0,
    "start_time": "2024-11-19T17:38:04.633Z"
   },
   {
    "duration": 4,
    "start_time": "2024-11-19T17:39:11.278Z"
   },
   {
    "duration": 1630,
    "start_time": "2024-11-19T17:39:14.198Z"
   },
   {
    "duration": 3,
    "start_time": "2024-11-19T17:56:55.308Z"
   },
   {
    "duration": 10,
    "start_time": "2024-11-19T17:56:55.317Z"
   },
   {
    "duration": 0,
    "start_time": "2024-11-19T17:56:55.329Z"
   },
   {
    "duration": 0,
    "start_time": "2024-11-19T17:56:55.331Z"
   },
   {
    "duration": 0,
    "start_time": "2024-11-19T17:56:55.332Z"
   },
   {
    "duration": 0,
    "start_time": "2024-11-19T17:56:55.333Z"
   },
   {
    "duration": 0,
    "start_time": "2024-11-19T17:56:55.335Z"
   },
   {
    "duration": 0,
    "start_time": "2024-11-19T17:56:55.336Z"
   },
   {
    "duration": 0,
    "start_time": "2024-11-19T17:56:55.337Z"
   },
   {
    "duration": 0,
    "start_time": "2024-11-19T17:56:55.338Z"
   },
   {
    "duration": 10,
    "start_time": "2024-11-19T17:56:55.341Z"
   },
   {
    "duration": 0,
    "start_time": "2024-11-19T17:56:55.352Z"
   },
   {
    "duration": 0,
    "start_time": "2024-11-19T17:56:55.354Z"
   },
   {
    "duration": 0,
    "start_time": "2024-11-19T17:56:55.356Z"
   },
   {
    "duration": 0,
    "start_time": "2024-11-19T17:56:55.357Z"
   },
   {
    "duration": 0,
    "start_time": "2024-11-19T17:56:55.358Z"
   },
   {
    "duration": 0,
    "start_time": "2024-11-19T17:56:55.400Z"
   },
   {
    "duration": 0,
    "start_time": "2024-11-19T17:56:55.401Z"
   },
   {
    "duration": 0,
    "start_time": "2024-11-19T17:56:55.403Z"
   },
   {
    "duration": 0,
    "start_time": "2024-11-19T17:56:55.404Z"
   },
   {
    "duration": 0,
    "start_time": "2024-11-19T17:56:55.405Z"
   },
   {
    "duration": 0,
    "start_time": "2024-11-19T17:56:55.406Z"
   },
   {
    "duration": 0,
    "start_time": "2024-11-19T17:56:55.407Z"
   },
   {
    "duration": 11,
    "start_time": "2024-11-19T17:56:55.411Z"
   },
   {
    "duration": 0,
    "start_time": "2024-11-19T17:56:55.424Z"
   },
   {
    "duration": 0,
    "start_time": "2024-11-19T17:56:55.425Z"
   },
   {
    "duration": 0,
    "start_time": "2024-11-19T17:56:55.426Z"
   },
   {
    "duration": 0,
    "start_time": "2024-11-19T17:56:55.428Z"
   },
   {
    "duration": 0,
    "start_time": "2024-11-19T17:56:55.429Z"
   },
   {
    "duration": 0,
    "start_time": "2024-11-19T17:56:55.430Z"
   },
   {
    "duration": 0,
    "start_time": "2024-11-19T17:56:55.432Z"
   },
   {
    "duration": 0,
    "start_time": "2024-11-19T17:56:55.434Z"
   },
   {
    "duration": 0,
    "start_time": "2024-11-19T17:56:55.435Z"
   },
   {
    "duration": 0,
    "start_time": "2024-11-19T17:56:55.436Z"
   },
   {
    "duration": 0,
    "start_time": "2024-11-19T17:56:55.437Z"
   },
   {
    "duration": 0,
    "start_time": "2024-11-19T17:56:55.439Z"
   },
   {
    "duration": 0,
    "start_time": "2024-11-19T17:56:55.499Z"
   },
   {
    "duration": 0,
    "start_time": "2024-11-19T17:56:55.501Z"
   },
   {
    "duration": 0,
    "start_time": "2024-11-19T17:56:55.502Z"
   },
   {
    "duration": 0,
    "start_time": "2024-11-19T17:56:55.503Z"
   },
   {
    "duration": 75,
    "start_time": "2024-11-19T17:56:55.626Z"
   },
   {
    "duration": 0,
    "start_time": "2024-11-19T17:56:55.702Z"
   },
   {
    "duration": 0,
    "start_time": "2024-11-19T17:56:55.704Z"
   },
   {
    "duration": 0,
    "start_time": "2024-11-19T17:56:55.706Z"
   },
   {
    "duration": 0,
    "start_time": "2024-11-19T17:56:55.708Z"
   },
   {
    "duration": 0,
    "start_time": "2024-11-19T17:56:55.709Z"
   },
   {
    "duration": 0,
    "start_time": "2024-11-19T17:56:55.711Z"
   },
   {
    "duration": 0,
    "start_time": "2024-11-19T17:56:55.713Z"
   },
   {
    "duration": 0,
    "start_time": "2024-11-19T17:56:55.714Z"
   },
   {
    "duration": 0,
    "start_time": "2024-11-19T17:56:55.716Z"
   },
   {
    "duration": 13,
    "start_time": "2024-11-19T17:58:32.358Z"
   },
   {
    "duration": 3,
    "start_time": "2024-11-19T17:58:42.358Z"
   },
   {
    "duration": 26,
    "start_time": "2024-11-19T17:58:42.362Z"
   },
   {
    "duration": 0,
    "start_time": "2024-11-19T17:58:42.389Z"
   },
   {
    "duration": 0,
    "start_time": "2024-11-19T17:58:42.391Z"
   },
   {
    "duration": 0,
    "start_time": "2024-11-19T17:58:42.392Z"
   },
   {
    "duration": 0,
    "start_time": "2024-11-19T17:58:42.393Z"
   },
   {
    "duration": 0,
    "start_time": "2024-11-19T17:58:42.395Z"
   },
   {
    "duration": 0,
    "start_time": "2024-11-19T17:58:42.396Z"
   },
   {
    "duration": 0,
    "start_time": "2024-11-19T17:58:42.397Z"
   },
   {
    "duration": 0,
    "start_time": "2024-11-19T17:58:42.398Z"
   },
   {
    "duration": 0,
    "start_time": "2024-11-19T17:58:42.399Z"
   },
   {
    "duration": 0,
    "start_time": "2024-11-19T17:58:42.400Z"
   },
   {
    "duration": 0,
    "start_time": "2024-11-19T17:58:42.401Z"
   },
   {
    "duration": 0,
    "start_time": "2024-11-19T17:58:42.402Z"
   },
   {
    "duration": 0,
    "start_time": "2024-11-19T17:58:42.403Z"
   },
   {
    "duration": 0,
    "start_time": "2024-11-19T17:58:42.404Z"
   },
   {
    "duration": 10,
    "start_time": "2024-11-19T17:58:42.406Z"
   },
   {
    "duration": 0,
    "start_time": "2024-11-19T17:58:42.417Z"
   },
   {
    "duration": 0,
    "start_time": "2024-11-19T17:58:42.418Z"
   },
   {
    "duration": 0,
    "start_time": "2024-11-19T17:58:42.419Z"
   },
   {
    "duration": 0,
    "start_time": "2024-11-19T17:58:42.420Z"
   },
   {
    "duration": 0,
    "start_time": "2024-11-19T17:58:42.421Z"
   },
   {
    "duration": 0,
    "start_time": "2024-11-19T17:58:42.422Z"
   },
   {
    "duration": 0,
    "start_time": "2024-11-19T17:58:42.424Z"
   },
   {
    "duration": 0,
    "start_time": "2024-11-19T17:58:42.425Z"
   },
   {
    "duration": 0,
    "start_time": "2024-11-19T17:58:42.426Z"
   },
   {
    "duration": 0,
    "start_time": "2024-11-19T17:58:42.427Z"
   },
   {
    "duration": 10,
    "start_time": "2024-11-19T17:58:42.429Z"
   },
   {
    "duration": 0,
    "start_time": "2024-11-19T17:58:42.500Z"
   },
   {
    "duration": 0,
    "start_time": "2024-11-19T17:58:42.502Z"
   },
   {
    "duration": 0,
    "start_time": "2024-11-19T17:58:42.503Z"
   },
   {
    "duration": 0,
    "start_time": "2024-11-19T17:58:42.504Z"
   },
   {
    "duration": 0,
    "start_time": "2024-11-19T17:58:42.505Z"
   },
   {
    "duration": 0,
    "start_time": "2024-11-19T17:58:42.506Z"
   },
   {
    "duration": 0,
    "start_time": "2024-11-19T17:58:42.507Z"
   },
   {
    "duration": 0,
    "start_time": "2024-11-19T17:58:42.509Z"
   },
   {
    "duration": 0,
    "start_time": "2024-11-19T17:58:42.509Z"
   },
   {
    "duration": 0,
    "start_time": "2024-11-19T17:58:42.511Z"
   },
   {
    "duration": 0,
    "start_time": "2024-11-19T17:58:42.512Z"
   },
   {
    "duration": 0,
    "start_time": "2024-11-19T17:58:42.513Z"
   },
   {
    "duration": 3,
    "start_time": "2024-11-19T17:59:13.699Z"
   },
   {
    "duration": 17,
    "start_time": "2024-11-19T17:59:13.703Z"
   },
   {
    "duration": 0,
    "start_time": "2024-11-19T17:59:13.721Z"
   },
   {
    "duration": 0,
    "start_time": "2024-11-19T17:59:13.722Z"
   },
   {
    "duration": 0,
    "start_time": "2024-11-19T17:59:13.723Z"
   },
   {
    "duration": 0,
    "start_time": "2024-11-19T17:59:13.724Z"
   },
   {
    "duration": 0,
    "start_time": "2024-11-19T17:59:13.725Z"
   },
   {
    "duration": 0,
    "start_time": "2024-11-19T17:59:13.726Z"
   },
   {
    "duration": 0,
    "start_time": "2024-11-19T17:59:13.727Z"
   },
   {
    "duration": 0,
    "start_time": "2024-11-19T17:59:13.728Z"
   },
   {
    "duration": 0,
    "start_time": "2024-11-19T17:59:13.729Z"
   },
   {
    "duration": 0,
    "start_time": "2024-11-19T17:59:13.730Z"
   },
   {
    "duration": 0,
    "start_time": "2024-11-19T17:59:13.732Z"
   },
   {
    "duration": 0,
    "start_time": "2024-11-19T17:59:13.733Z"
   },
   {
    "duration": 0,
    "start_time": "2024-11-19T17:59:13.734Z"
   },
   {
    "duration": 0,
    "start_time": "2024-11-19T17:59:13.735Z"
   },
   {
    "duration": 0,
    "start_time": "2024-11-19T17:59:13.736Z"
   },
   {
    "duration": 0,
    "start_time": "2024-11-19T17:59:13.737Z"
   },
   {
    "duration": 0,
    "start_time": "2024-11-19T17:59:13.738Z"
   },
   {
    "duration": 60,
    "start_time": "2024-11-19T17:59:13.741Z"
   },
   {
    "duration": 0,
    "start_time": "2024-11-19T17:59:13.803Z"
   },
   {
    "duration": 0,
    "start_time": "2024-11-19T17:59:13.804Z"
   },
   {
    "duration": 0,
    "start_time": "2024-11-19T17:59:13.805Z"
   },
   {
    "duration": 0,
    "start_time": "2024-11-19T17:59:13.807Z"
   },
   {
    "duration": 0,
    "start_time": "2024-11-19T17:59:13.808Z"
   },
   {
    "duration": 0,
    "start_time": "2024-11-19T17:59:13.810Z"
   },
   {
    "duration": 0,
    "start_time": "2024-11-19T17:59:13.812Z"
   },
   {
    "duration": 0,
    "start_time": "2024-11-19T17:59:13.813Z"
   },
   {
    "duration": 0,
    "start_time": "2024-11-19T17:59:13.814Z"
   },
   {
    "duration": 0,
    "start_time": "2024-11-19T17:59:13.816Z"
   },
   {
    "duration": 0,
    "start_time": "2024-11-19T17:59:13.817Z"
   },
   {
    "duration": 11,
    "start_time": "2024-11-19T17:59:13.821Z"
   },
   {
    "duration": 0,
    "start_time": "2024-11-19T17:59:13.834Z"
   },
   {
    "duration": 0,
    "start_time": "2024-11-19T17:59:13.836Z"
   },
   {
    "duration": 0,
    "start_time": "2024-11-19T17:59:13.837Z"
   },
   {
    "duration": 0,
    "start_time": "2024-11-19T17:59:13.838Z"
   },
   {
    "duration": 0,
    "start_time": "2024-11-19T17:59:13.839Z"
   },
   {
    "duration": 0,
    "start_time": "2024-11-19T17:59:13.840Z"
   },
   {
    "duration": 1,
    "start_time": "2024-11-19T17:59:13.899Z"
   },
   {
    "duration": 56068,
    "start_time": "2024-11-19T17:59:48.976Z"
   },
   {
    "duration": 3,
    "start_time": "2024-11-19T18:01:22.908Z"
   },
   {
    "duration": 3,
    "start_time": "2024-11-19T18:01:36.379Z"
   },
   {
    "duration": 1986,
    "start_time": "2024-11-19T18:01:43.735Z"
   },
   {
    "duration": 3,
    "start_time": "2024-11-19T18:01:56.708Z"
   },
   {
    "duration": 3260,
    "start_time": "2024-11-19T18:01:56.713Z"
   },
   {
    "duration": 3,
    "start_time": "2024-11-19T18:01:59.975Z"
   },
   {
    "duration": 183,
    "start_time": "2024-11-19T18:01:59.979Z"
   },
   {
    "duration": 445,
    "start_time": "2024-11-19T18:02:00.164Z"
   },
   {
    "duration": 483,
    "start_time": "2024-11-19T18:02:00.610Z"
   },
   {
    "duration": 8,
    "start_time": "2024-11-19T18:02:01.095Z"
   },
   {
    "duration": 440,
    "start_time": "2024-11-19T18:02:01.104Z"
   },
   {
    "duration": 43,
    "start_time": "2024-11-19T18:02:01.546Z"
   },
   {
    "duration": 4,
    "start_time": "2024-11-19T18:02:01.600Z"
   },
   {
    "duration": 731,
    "start_time": "2024-11-19T18:02:01.606Z"
   },
   {
    "duration": 17,
    "start_time": "2024-11-19T18:02:02.339Z"
   },
   {
    "duration": 581,
    "start_time": "2024-11-19T18:02:02.358Z"
   },
   {
    "duration": 14,
    "start_time": "2024-11-19T18:02:02.940Z"
   },
   {
    "duration": 56,
    "start_time": "2024-11-19T18:02:02.955Z"
   },
   {
    "duration": 619,
    "start_time": "2024-11-19T18:02:03.012Z"
   },
   {
    "duration": 6,
    "start_time": "2024-11-19T18:02:03.633Z"
   },
   {
    "duration": 22,
    "start_time": "2024-11-19T18:02:03.641Z"
   },
   {
    "duration": 46,
    "start_time": "2024-11-19T18:02:03.665Z"
   },
   {
    "duration": 440,
    "start_time": "2024-11-19T18:02:03.714Z"
   },
   {
    "duration": 561,
    "start_time": "2024-11-19T18:02:04.156Z"
   },
   {
    "duration": 22,
    "start_time": "2024-11-19T18:02:04.719Z"
   },
   {
    "duration": 15,
    "start_time": "2024-11-19T18:02:04.743Z"
   },
   {
    "duration": 59,
    "start_time": "2024-11-19T18:02:04.760Z"
   },
   {
    "duration": 496,
    "start_time": "2024-11-19T18:02:04.821Z"
   },
   {
    "duration": 21,
    "start_time": "2024-11-19T18:02:05.319Z"
   },
   {
    "duration": 379,
    "start_time": "2024-11-19T18:02:05.341Z"
   },
   {
    "duration": 599,
    "start_time": "2024-11-19T18:02:05.721Z"
   },
   {
    "duration": 23,
    "start_time": "2024-11-19T18:02:06.324Z"
   },
   {
    "duration": 535,
    "start_time": "2024-11-19T18:02:06.349Z"
   },
   {
    "duration": 139,
    "start_time": "2024-11-19T18:02:06.886Z"
   },
   {
    "duration": 145,
    "start_time": "2024-11-19T18:02:07.027Z"
   },
   {
    "duration": 4,
    "start_time": "2024-11-19T18:02:07.174Z"
   },
   {
    "duration": 3,
    "start_time": "2024-11-19T18:02:07.180Z"
   },
   {
    "duration": 16,
    "start_time": "2024-11-19T18:02:07.184Z"
   },
   {
    "duration": 20,
    "start_time": "2024-11-19T18:02:07.201Z"
   },
   {
    "duration": 4,
    "start_time": "2024-11-19T18:02:07.223Z"
   },
   {
    "duration": 18,
    "start_time": "2024-11-19T18:02:07.229Z"
   },
   {
    "duration": 8,
    "start_time": "2024-11-19T18:02:07.249Z"
   },
   {
    "duration": 7,
    "start_time": "2024-11-19T18:02:07.259Z"
   },
   {
    "duration": 16,
    "start_time": "2024-11-19T18:02:07.267Z"
   },
   {
    "duration": 131,
    "start_time": "2024-11-19T18:02:07.285Z"
   },
   {
    "duration": 0,
    "start_time": "2024-11-19T18:02:07.417Z"
   },
   {
    "duration": 0,
    "start_time": "2024-11-19T18:02:07.418Z"
   },
   {
    "duration": 1,
    "start_time": "2024-11-19T18:02:07.419Z"
   },
   {
    "duration": 0,
    "start_time": "2024-11-19T18:02:07.421Z"
   },
   {
    "duration": 0,
    "start_time": "2024-11-19T18:02:07.422Z"
   },
   {
    "duration": 0,
    "start_time": "2024-11-19T18:02:07.423Z"
   },
   {
    "duration": 0,
    "start_time": "2024-11-19T18:02:07.424Z"
   },
   {
    "duration": 0,
    "start_time": "2024-11-19T18:02:07.426Z"
   },
   {
    "duration": 0,
    "start_time": "2024-11-19T18:02:07.427Z"
   },
   {
    "duration": 3,
    "start_time": "2024-11-19T18:03:06.328Z"
   },
   {
    "duration": 3,
    "start_time": "2024-11-19T18:03:26.347Z"
   },
   {
    "duration": 3,
    "start_time": "2024-11-19T18:03:45.274Z"
   },
   {
    "duration": 55,
    "start_time": "2024-11-19T18:03:52.269Z"
   }
  ],
  "kernelspec": {
   "display_name": "Python 3 (ipykernel)",
   "language": "python",
   "name": "python3"
  },
  "language_info": {
   "codemirror_mode": {
    "name": "ipython",
    "version": 3
   },
   "file_extension": ".py",
   "mimetype": "text/x-python",
   "name": "python",
   "nbconvert_exporter": "python",
   "pygments_lexer": "ipython3",
   "version": "3.9.5"
  },
  "toc": {
   "base_numbering": 1,
   "nav_menu": {},
   "number_sections": true,
   "sideBar": true,
   "skip_h1_title": true,
   "title_cell": "Table of Contents",
   "title_sidebar": "Contents",
   "toc_cell": false,
   "toc_position": {},
   "toc_section_display": true,
   "toc_window_display": false
  }
 },
 "nbformat": 4,
 "nbformat_minor": 2
}
